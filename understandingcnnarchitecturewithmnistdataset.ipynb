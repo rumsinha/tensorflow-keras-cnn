{
 "cells": [
  {
   "cell_type": "code",
   "execution_count": 1,
   "id": "8eabd233",
   "metadata": {
    "_cell_guid": "b1076dfc-b9ad-4769-8c92-a6c4dae69d19",
    "_uuid": "8f2839f25d086af736a60e9eeb907d3b93b6e0e5",
    "execution": {
     "iopub.execute_input": "2021-11-25T03:04:12.372588Z",
     "iopub.status.busy": "2021-11-25T03:04:12.371177Z",
     "iopub.status.idle": "2021-11-25T03:04:12.386364Z",
     "shell.execute_reply": "2021-11-25T03:04:12.387103Z",
     "shell.execute_reply.started": "2021-11-25T01:42:34.398204Z"
    },
    "papermill": {
     "duration": 0.096616,
     "end_time": "2021-11-25T03:04:12.387517",
     "exception": false,
     "start_time": "2021-11-25T03:04:12.290901",
     "status": "completed"
    },
    "tags": []
   },
   "outputs": [
    {
     "name": "stdout",
     "output_type": "stream",
     "text": [
      "/kaggle/input/digit-recognizer/sample_submission.csv\n",
      "/kaggle/input/digit-recognizer/train.csv\n",
      "/kaggle/input/digit-recognizer/test.csv\n"
     ]
    }
   ],
   "source": [
    "# This Python 3 environment comes with many helpful analytics libraries installed\n",
    "# It is defined by the kaggle/python Docker image: https://github.com/kaggle/docker-python\n",
    "# For example, here's several helpful packages to load\n",
    "\n",
    "import numpy as np # linear algebra\n",
    "import pandas as pd # data processing, CSV file I/O (e.g. pd.read_csv)\n",
    "\n",
    "# Input data files are available in the read-only \"../input/\" directory\n",
    "# For example, running this (by clicking run or pressing Shift+Enter) will list all files under the input directory\n",
    "\n",
    "import os\n",
    "for dirname, _, filenames in os.walk('/kaggle/input'):\n",
    "    for filename in filenames:\n",
    "        print(os.path.join(dirname, filename))\n",
    "\n",
    "# You can write up to 20GB to the current directory (/kaggle/working/) that gets preserved as output when you create a version using \"Save & Run All\" \n",
    "# You can also write temporary files to /kaggle/temp/, but they won't be saved outside of the current session"
   ]
  },
  {
   "cell_type": "markdown",
   "id": "23fe0384",
   "metadata": {
    "papermill": {
     "duration": 0.073172,
     "end_time": "2021-11-25T03:04:12.603776",
     "exception": false,
     "start_time": "2021-11-25T03:04:12.530604",
     "status": "completed"
    },
    "tags": []
   },
   "source": [
    "# Libraries"
   ]
  },
  {
   "cell_type": "code",
   "execution_count": 2,
   "id": "f94177eb",
   "metadata": {
    "execution": {
     "iopub.execute_input": "2021-11-25T03:04:12.759695Z",
     "iopub.status.busy": "2021-11-25T03:04:12.759092Z",
     "iopub.status.idle": "2021-11-25T03:04:20.251386Z",
     "shell.execute_reply": "2021-11-25T03:04:20.250281Z",
     "shell.execute_reply.started": "2021-11-25T01:42:34.431545Z"
    },
    "papermill": {
     "duration": 7.577759,
     "end_time": "2021-11-25T03:04:20.251553",
     "exception": false,
     "start_time": "2021-11-25T03:04:12.673794",
     "status": "completed"
    },
    "tags": []
   },
   "outputs": [],
   "source": [
    "import matplotlib.pyplot as plt\n",
    "from tensorflow.keras.utils import to_categorical\n",
    "from sklearn.model_selection import train_test_split\n",
    "from tensorflow.keras.models import Sequential, load_model\n",
    "from tensorflow.keras.layers import Dense, Conv2D, MaxPool2D,Flatten\n",
    "from tensorflow.keras.callbacks import EarlyStopping\n",
    "from sklearn.metrics import classification_report\n",
    "from tensorflow.keras.optimizers import Adam, RMSprop\n",
    "import optuna"
   ]
  },
  {
   "cell_type": "markdown",
   "id": "7fcac204",
   "metadata": {
    "papermill": {
     "duration": 0.072983,
     "end_time": "2021-11-25T03:04:20.397738",
     "exception": false,
     "start_time": "2021-11-25T03:04:20.324755",
     "status": "completed"
    },
    "tags": []
   },
   "source": [
    "# Training data"
   ]
  },
  {
   "cell_type": "code",
   "execution_count": 3,
   "id": "a5389be5",
   "metadata": {
    "execution": {
     "iopub.execute_input": "2021-11-25T03:04:20.547619Z",
     "iopub.status.busy": "2021-11-25T03:04:20.547014Z",
     "iopub.status.idle": "2021-11-25T03:04:23.626510Z",
     "shell.execute_reply": "2021-11-25T03:04:23.626034Z",
     "shell.execute_reply.started": "2021-11-25T01:42:41.868348Z"
    },
    "papermill": {
     "duration": 3.15442,
     "end_time": "2021-11-25T03:04:23.626681",
     "exception": false,
     "start_time": "2021-11-25T03:04:20.472261",
     "status": "completed"
    },
    "tags": []
   },
   "outputs": [
    {
     "data": {
      "text/plain": [
       "(42000, 785)"
      ]
     },
     "execution_count": 3,
     "metadata": {},
     "output_type": "execute_result"
    }
   ],
   "source": [
    "train_data = pd.read_csv(\"/kaggle/input/digit-recognizer/train.csv\")\n",
    "train_data.shape"
   ]
  },
  {
   "cell_type": "code",
   "execution_count": 4,
   "id": "5a4c89a6",
   "metadata": {
    "execution": {
     "iopub.execute_input": "2021-11-25T03:04:23.776161Z",
     "iopub.status.busy": "2021-11-25T03:04:23.775520Z",
     "iopub.status.idle": "2021-11-25T03:04:23.792784Z",
     "shell.execute_reply": "2021-11-25T03:04:23.793483Z",
     "shell.execute_reply.started": "2021-11-25T01:42:45.459652Z"
    },
    "papermill": {
     "duration": 0.095738,
     "end_time": "2021-11-25T03:04:23.793670",
     "exception": false,
     "start_time": "2021-11-25T03:04:23.697932",
     "status": "completed"
    },
    "tags": []
   },
   "outputs": [
    {
     "data": {
      "text/html": [
       "<div>\n",
       "<style scoped>\n",
       "    .dataframe tbody tr th:only-of-type {\n",
       "        vertical-align: middle;\n",
       "    }\n",
       "\n",
       "    .dataframe tbody tr th {\n",
       "        vertical-align: top;\n",
       "    }\n",
       "\n",
       "    .dataframe thead th {\n",
       "        text-align: right;\n",
       "    }\n",
       "</style>\n",
       "<table border=\"1\" class=\"dataframe\">\n",
       "  <thead>\n",
       "    <tr style=\"text-align: right;\">\n",
       "      <th></th>\n",
       "      <th>label</th>\n",
       "      <th>pixel0</th>\n",
       "      <th>pixel1</th>\n",
       "      <th>pixel2</th>\n",
       "      <th>pixel3</th>\n",
       "      <th>pixel4</th>\n",
       "      <th>pixel5</th>\n",
       "      <th>pixel6</th>\n",
       "      <th>pixel7</th>\n",
       "      <th>pixel8</th>\n",
       "      <th>...</th>\n",
       "      <th>pixel774</th>\n",
       "      <th>pixel775</th>\n",
       "      <th>pixel776</th>\n",
       "      <th>pixel777</th>\n",
       "      <th>pixel778</th>\n",
       "      <th>pixel779</th>\n",
       "      <th>pixel780</th>\n",
       "      <th>pixel781</th>\n",
       "      <th>pixel782</th>\n",
       "      <th>pixel783</th>\n",
       "    </tr>\n",
       "  </thead>\n",
       "  <tbody>\n",
       "    <tr>\n",
       "      <th>0</th>\n",
       "      <td>1</td>\n",
       "      <td>0</td>\n",
       "      <td>0</td>\n",
       "      <td>0</td>\n",
       "      <td>0</td>\n",
       "      <td>0</td>\n",
       "      <td>0</td>\n",
       "      <td>0</td>\n",
       "      <td>0</td>\n",
       "      <td>0</td>\n",
       "      <td>...</td>\n",
       "      <td>0</td>\n",
       "      <td>0</td>\n",
       "      <td>0</td>\n",
       "      <td>0</td>\n",
       "      <td>0</td>\n",
       "      <td>0</td>\n",
       "      <td>0</td>\n",
       "      <td>0</td>\n",
       "      <td>0</td>\n",
       "      <td>0</td>\n",
       "    </tr>\n",
       "    <tr>\n",
       "      <th>1</th>\n",
       "      <td>0</td>\n",
       "      <td>0</td>\n",
       "      <td>0</td>\n",
       "      <td>0</td>\n",
       "      <td>0</td>\n",
       "      <td>0</td>\n",
       "      <td>0</td>\n",
       "      <td>0</td>\n",
       "      <td>0</td>\n",
       "      <td>0</td>\n",
       "      <td>...</td>\n",
       "      <td>0</td>\n",
       "      <td>0</td>\n",
       "      <td>0</td>\n",
       "      <td>0</td>\n",
       "      <td>0</td>\n",
       "      <td>0</td>\n",
       "      <td>0</td>\n",
       "      <td>0</td>\n",
       "      <td>0</td>\n",
       "      <td>0</td>\n",
       "    </tr>\n",
       "    <tr>\n",
       "      <th>2</th>\n",
       "      <td>1</td>\n",
       "      <td>0</td>\n",
       "      <td>0</td>\n",
       "      <td>0</td>\n",
       "      <td>0</td>\n",
       "      <td>0</td>\n",
       "      <td>0</td>\n",
       "      <td>0</td>\n",
       "      <td>0</td>\n",
       "      <td>0</td>\n",
       "      <td>...</td>\n",
       "      <td>0</td>\n",
       "      <td>0</td>\n",
       "      <td>0</td>\n",
       "      <td>0</td>\n",
       "      <td>0</td>\n",
       "      <td>0</td>\n",
       "      <td>0</td>\n",
       "      <td>0</td>\n",
       "      <td>0</td>\n",
       "      <td>0</td>\n",
       "    </tr>\n",
       "    <tr>\n",
       "      <th>3</th>\n",
       "      <td>4</td>\n",
       "      <td>0</td>\n",
       "      <td>0</td>\n",
       "      <td>0</td>\n",
       "      <td>0</td>\n",
       "      <td>0</td>\n",
       "      <td>0</td>\n",
       "      <td>0</td>\n",
       "      <td>0</td>\n",
       "      <td>0</td>\n",
       "      <td>...</td>\n",
       "      <td>0</td>\n",
       "      <td>0</td>\n",
       "      <td>0</td>\n",
       "      <td>0</td>\n",
       "      <td>0</td>\n",
       "      <td>0</td>\n",
       "      <td>0</td>\n",
       "      <td>0</td>\n",
       "      <td>0</td>\n",
       "      <td>0</td>\n",
       "    </tr>\n",
       "    <tr>\n",
       "      <th>4</th>\n",
       "      <td>0</td>\n",
       "      <td>0</td>\n",
       "      <td>0</td>\n",
       "      <td>0</td>\n",
       "      <td>0</td>\n",
       "      <td>0</td>\n",
       "      <td>0</td>\n",
       "      <td>0</td>\n",
       "      <td>0</td>\n",
       "      <td>0</td>\n",
       "      <td>...</td>\n",
       "      <td>0</td>\n",
       "      <td>0</td>\n",
       "      <td>0</td>\n",
       "      <td>0</td>\n",
       "      <td>0</td>\n",
       "      <td>0</td>\n",
       "      <td>0</td>\n",
       "      <td>0</td>\n",
       "      <td>0</td>\n",
       "      <td>0</td>\n",
       "    </tr>\n",
       "  </tbody>\n",
       "</table>\n",
       "<p>5 rows × 785 columns</p>\n",
       "</div>"
      ],
      "text/plain": [
       "   label  pixel0  pixel1  pixel2  pixel3  pixel4  pixel5  pixel6  pixel7  \\\n",
       "0      1       0       0       0       0       0       0       0       0   \n",
       "1      0       0       0       0       0       0       0       0       0   \n",
       "2      1       0       0       0       0       0       0       0       0   \n",
       "3      4       0       0       0       0       0       0       0       0   \n",
       "4      0       0       0       0       0       0       0       0       0   \n",
       "\n",
       "   pixel8  ...  pixel774  pixel775  pixel776  pixel777  pixel778  pixel779  \\\n",
       "0       0  ...         0         0         0         0         0         0   \n",
       "1       0  ...         0         0         0         0         0         0   \n",
       "2       0  ...         0         0         0         0         0         0   \n",
       "3       0  ...         0         0         0         0         0         0   \n",
       "4       0  ...         0         0         0         0         0         0   \n",
       "\n",
       "   pixel780  pixel781  pixel782  pixel783  \n",
       "0         0         0         0         0  \n",
       "1         0         0         0         0  \n",
       "2         0         0         0         0  \n",
       "3         0         0         0         0  \n",
       "4         0         0         0         0  \n",
       "\n",
       "[5 rows x 785 columns]"
      ]
     },
     "execution_count": 4,
     "metadata": {},
     "output_type": "execute_result"
    }
   ],
   "source": [
    "train_data.head()"
   ]
  },
  {
   "cell_type": "code",
   "execution_count": 5,
   "id": "c018f594",
   "metadata": {
    "execution": {
     "iopub.execute_input": "2021-11-25T03:04:23.939712Z",
     "iopub.status.busy": "2021-11-25T03:04:23.939135Z",
     "iopub.status.idle": "2021-11-25T03:04:24.057168Z",
     "shell.execute_reply": "2021-11-25T03:04:24.056615Z",
     "shell.execute_reply.started": "2021-11-25T01:42:45.488124Z"
    },
    "papermill": {
     "duration": 0.191577,
     "end_time": "2021-11-25T03:04:24.057323",
     "exception": false,
     "start_time": "2021-11-25T03:04:23.865746",
     "status": "completed"
    },
    "tags": []
   },
   "outputs": [],
   "source": [
    "X = train_data.drop('label',axis=1)\n",
    "y = train_data[['label']]"
   ]
  },
  {
   "cell_type": "code",
   "execution_count": 6,
   "id": "add65653",
   "metadata": {
    "execution": {
     "iopub.execute_input": "2021-11-25T03:04:24.213780Z",
     "iopub.status.busy": "2021-11-25T03:04:24.213174Z",
     "iopub.status.idle": "2021-11-25T03:04:24.217284Z",
     "shell.execute_reply": "2021-11-25T03:04:24.216734Z",
     "shell.execute_reply.started": "2021-11-25T01:42:45.599164Z"
    },
    "papermill": {
     "duration": 0.089731,
     "end_time": "2021-11-25T03:04:24.217423",
     "exception": false,
     "start_time": "2021-11-25T03:04:24.127692",
     "status": "completed"
    },
    "tags": []
   },
   "outputs": [
    {
     "data": {
      "text/html": [
       "<div>\n",
       "<style scoped>\n",
       "    .dataframe tbody tr th:only-of-type {\n",
       "        vertical-align: middle;\n",
       "    }\n",
       "\n",
       "    .dataframe tbody tr th {\n",
       "        vertical-align: top;\n",
       "    }\n",
       "\n",
       "    .dataframe thead th {\n",
       "        text-align: right;\n",
       "    }\n",
       "</style>\n",
       "<table border=\"1\" class=\"dataframe\">\n",
       "  <thead>\n",
       "    <tr style=\"text-align: right;\">\n",
       "      <th></th>\n",
       "      <th>pixel0</th>\n",
       "      <th>pixel1</th>\n",
       "      <th>pixel2</th>\n",
       "      <th>pixel3</th>\n",
       "      <th>pixel4</th>\n",
       "      <th>pixel5</th>\n",
       "      <th>pixel6</th>\n",
       "      <th>pixel7</th>\n",
       "      <th>pixel8</th>\n",
       "      <th>pixel9</th>\n",
       "      <th>...</th>\n",
       "      <th>pixel774</th>\n",
       "      <th>pixel775</th>\n",
       "      <th>pixel776</th>\n",
       "      <th>pixel777</th>\n",
       "      <th>pixel778</th>\n",
       "      <th>pixel779</th>\n",
       "      <th>pixel780</th>\n",
       "      <th>pixel781</th>\n",
       "      <th>pixel782</th>\n",
       "      <th>pixel783</th>\n",
       "    </tr>\n",
       "  </thead>\n",
       "  <tbody>\n",
       "    <tr>\n",
       "      <th>0</th>\n",
       "      <td>0</td>\n",
       "      <td>0</td>\n",
       "      <td>0</td>\n",
       "      <td>0</td>\n",
       "      <td>0</td>\n",
       "      <td>0</td>\n",
       "      <td>0</td>\n",
       "      <td>0</td>\n",
       "      <td>0</td>\n",
       "      <td>0</td>\n",
       "      <td>...</td>\n",
       "      <td>0</td>\n",
       "      <td>0</td>\n",
       "      <td>0</td>\n",
       "      <td>0</td>\n",
       "      <td>0</td>\n",
       "      <td>0</td>\n",
       "      <td>0</td>\n",
       "      <td>0</td>\n",
       "      <td>0</td>\n",
       "      <td>0</td>\n",
       "    </tr>\n",
       "    <tr>\n",
       "      <th>1</th>\n",
       "      <td>0</td>\n",
       "      <td>0</td>\n",
       "      <td>0</td>\n",
       "      <td>0</td>\n",
       "      <td>0</td>\n",
       "      <td>0</td>\n",
       "      <td>0</td>\n",
       "      <td>0</td>\n",
       "      <td>0</td>\n",
       "      <td>0</td>\n",
       "      <td>...</td>\n",
       "      <td>0</td>\n",
       "      <td>0</td>\n",
       "      <td>0</td>\n",
       "      <td>0</td>\n",
       "      <td>0</td>\n",
       "      <td>0</td>\n",
       "      <td>0</td>\n",
       "      <td>0</td>\n",
       "      <td>0</td>\n",
       "      <td>0</td>\n",
       "    </tr>\n",
       "    <tr>\n",
       "      <th>2</th>\n",
       "      <td>0</td>\n",
       "      <td>0</td>\n",
       "      <td>0</td>\n",
       "      <td>0</td>\n",
       "      <td>0</td>\n",
       "      <td>0</td>\n",
       "      <td>0</td>\n",
       "      <td>0</td>\n",
       "      <td>0</td>\n",
       "      <td>0</td>\n",
       "      <td>...</td>\n",
       "      <td>0</td>\n",
       "      <td>0</td>\n",
       "      <td>0</td>\n",
       "      <td>0</td>\n",
       "      <td>0</td>\n",
       "      <td>0</td>\n",
       "      <td>0</td>\n",
       "      <td>0</td>\n",
       "      <td>0</td>\n",
       "      <td>0</td>\n",
       "    </tr>\n",
       "    <tr>\n",
       "      <th>3</th>\n",
       "      <td>0</td>\n",
       "      <td>0</td>\n",
       "      <td>0</td>\n",
       "      <td>0</td>\n",
       "      <td>0</td>\n",
       "      <td>0</td>\n",
       "      <td>0</td>\n",
       "      <td>0</td>\n",
       "      <td>0</td>\n",
       "      <td>0</td>\n",
       "      <td>...</td>\n",
       "      <td>0</td>\n",
       "      <td>0</td>\n",
       "      <td>0</td>\n",
       "      <td>0</td>\n",
       "      <td>0</td>\n",
       "      <td>0</td>\n",
       "      <td>0</td>\n",
       "      <td>0</td>\n",
       "      <td>0</td>\n",
       "      <td>0</td>\n",
       "    </tr>\n",
       "    <tr>\n",
       "      <th>4</th>\n",
       "      <td>0</td>\n",
       "      <td>0</td>\n",
       "      <td>0</td>\n",
       "      <td>0</td>\n",
       "      <td>0</td>\n",
       "      <td>0</td>\n",
       "      <td>0</td>\n",
       "      <td>0</td>\n",
       "      <td>0</td>\n",
       "      <td>0</td>\n",
       "      <td>...</td>\n",
       "      <td>0</td>\n",
       "      <td>0</td>\n",
       "      <td>0</td>\n",
       "      <td>0</td>\n",
       "      <td>0</td>\n",
       "      <td>0</td>\n",
       "      <td>0</td>\n",
       "      <td>0</td>\n",
       "      <td>0</td>\n",
       "      <td>0</td>\n",
       "    </tr>\n",
       "  </tbody>\n",
       "</table>\n",
       "<p>5 rows × 784 columns</p>\n",
       "</div>"
      ],
      "text/plain": [
       "   pixel0  pixel1  pixel2  pixel3  pixel4  pixel5  pixel6  pixel7  pixel8  \\\n",
       "0       0       0       0       0       0       0       0       0       0   \n",
       "1       0       0       0       0       0       0       0       0       0   \n",
       "2       0       0       0       0       0       0       0       0       0   \n",
       "3       0       0       0       0       0       0       0       0       0   \n",
       "4       0       0       0       0       0       0       0       0       0   \n",
       "\n",
       "   pixel9  ...  pixel774  pixel775  pixel776  pixel777  pixel778  pixel779  \\\n",
       "0       0  ...         0         0         0         0         0         0   \n",
       "1       0  ...         0         0         0         0         0         0   \n",
       "2       0  ...         0         0         0         0         0         0   \n",
       "3       0  ...         0         0         0         0         0         0   \n",
       "4       0  ...         0         0         0         0         0         0   \n",
       "\n",
       "   pixel780  pixel781  pixel782  pixel783  \n",
       "0         0         0         0         0  \n",
       "1         0         0         0         0  \n",
       "2         0         0         0         0  \n",
       "3         0         0         0         0  \n",
       "4         0         0         0         0  \n",
       "\n",
       "[5 rows x 784 columns]"
      ]
     },
     "execution_count": 6,
     "metadata": {},
     "output_type": "execute_result"
    }
   ],
   "source": [
    "X.head()"
   ]
  },
  {
   "cell_type": "code",
   "execution_count": 7,
   "id": "a09622c0",
   "metadata": {
    "execution": {
     "iopub.execute_input": "2021-11-25T03:04:24.367436Z",
     "iopub.status.busy": "2021-11-25T03:04:24.366792Z",
     "iopub.status.idle": "2021-11-25T03:04:24.370504Z",
     "shell.execute_reply": "2021-11-25T03:04:24.370041Z",
     "shell.execute_reply.started": "2021-11-25T01:42:45.622937Z"
    },
    "papermill": {
     "duration": 0.082076,
     "end_time": "2021-11-25T03:04:24.370637",
     "exception": false,
     "start_time": "2021-11-25T03:04:24.288561",
     "status": "completed"
    },
    "tags": []
   },
   "outputs": [
    {
     "data": {
      "text/html": [
       "<div>\n",
       "<style scoped>\n",
       "    .dataframe tbody tr th:only-of-type {\n",
       "        vertical-align: middle;\n",
       "    }\n",
       "\n",
       "    .dataframe tbody tr th {\n",
       "        vertical-align: top;\n",
       "    }\n",
       "\n",
       "    .dataframe thead th {\n",
       "        text-align: right;\n",
       "    }\n",
       "</style>\n",
       "<table border=\"1\" class=\"dataframe\">\n",
       "  <thead>\n",
       "    <tr style=\"text-align: right;\">\n",
       "      <th></th>\n",
       "      <th>label</th>\n",
       "    </tr>\n",
       "  </thead>\n",
       "  <tbody>\n",
       "    <tr>\n",
       "      <th>0</th>\n",
       "      <td>1</td>\n",
       "    </tr>\n",
       "    <tr>\n",
       "      <th>1</th>\n",
       "      <td>0</td>\n",
       "    </tr>\n",
       "    <tr>\n",
       "      <th>2</th>\n",
       "      <td>1</td>\n",
       "    </tr>\n",
       "    <tr>\n",
       "      <th>3</th>\n",
       "      <td>4</td>\n",
       "    </tr>\n",
       "    <tr>\n",
       "      <th>4</th>\n",
       "      <td>0</td>\n",
       "    </tr>\n",
       "  </tbody>\n",
       "</table>\n",
       "</div>"
      ],
      "text/plain": [
       "   label\n",
       "0      1\n",
       "1      0\n",
       "2      1\n",
       "3      4\n",
       "4      0"
      ]
     },
     "execution_count": 7,
     "metadata": {},
     "output_type": "execute_result"
    }
   ],
   "source": [
    "y.head()"
   ]
  },
  {
   "cell_type": "code",
   "execution_count": 8,
   "id": "597f6abb",
   "metadata": {
    "execution": {
     "iopub.execute_input": "2021-11-25T03:04:24.518812Z",
     "iopub.status.busy": "2021-11-25T03:04:24.518243Z",
     "iopub.status.idle": "2021-11-25T03:04:24.521354Z",
     "shell.execute_reply": "2021-11-25T03:04:24.521782Z",
     "shell.execute_reply.started": "2021-11-25T01:42:45.639018Z"
    },
    "papermill": {
     "duration": 0.079918,
     "end_time": "2021-11-25T03:04:24.521966",
     "exception": false,
     "start_time": "2021-11-25T03:04:24.442048",
     "status": "completed"
    },
    "tags": []
   },
   "outputs": [
    {
     "data": {
      "text/plain": [
       "(42000, 1)"
      ]
     },
     "execution_count": 8,
     "metadata": {},
     "output_type": "execute_result"
    }
   ],
   "source": [
    "y.shape"
   ]
  },
  {
   "cell_type": "code",
   "execution_count": 9,
   "id": "da6f6524",
   "metadata": {
    "execution": {
     "iopub.execute_input": "2021-11-25T03:04:24.669571Z",
     "iopub.status.busy": "2021-11-25T03:04:24.669010Z",
     "iopub.status.idle": "2021-11-25T03:04:24.674061Z",
     "shell.execute_reply": "2021-11-25T03:04:24.673585Z",
     "shell.execute_reply.started": "2021-11-25T01:42:45.657341Z"
    },
    "papermill": {
     "duration": 0.080267,
     "end_time": "2021-11-25T03:04:24.674198",
     "exception": false,
     "start_time": "2021-11-25T03:04:24.593931",
     "status": "completed"
    },
    "tags": []
   },
   "outputs": [],
   "source": [
    "y = to_categorical(y)"
   ]
  },
  {
   "cell_type": "code",
   "execution_count": 10,
   "id": "5346d1e4",
   "metadata": {
    "execution": {
     "iopub.execute_input": "2021-11-25T03:04:24.822702Z",
     "iopub.status.busy": "2021-11-25T03:04:24.822146Z",
     "iopub.status.idle": "2021-11-25T03:04:24.826371Z",
     "shell.execute_reply": "2021-11-25T03:04:24.826885Z",
     "shell.execute_reply.started": "2021-11-25T01:42:45.666847Z"
    },
    "papermill": {
     "duration": 0.080515,
     "end_time": "2021-11-25T03:04:24.827056",
     "exception": false,
     "start_time": "2021-11-25T03:04:24.746541",
     "status": "completed"
    },
    "tags": []
   },
   "outputs": [
    {
     "data": {
      "text/plain": [
       "(42000, 10)"
      ]
     },
     "execution_count": 10,
     "metadata": {},
     "output_type": "execute_result"
    }
   ],
   "source": [
    "y.shape"
   ]
  },
  {
   "cell_type": "code",
   "execution_count": 11,
   "id": "ada8bba2",
   "metadata": {
    "execution": {
     "iopub.execute_input": "2021-11-25T03:04:24.977513Z",
     "iopub.status.busy": "2021-11-25T03:04:24.976566Z",
     "iopub.status.idle": "2021-11-25T03:04:24.982193Z",
     "shell.execute_reply": "2021-11-25T03:04:24.982689Z",
     "shell.execute_reply.started": "2021-11-25T01:42:45.678874Z"
    },
    "papermill": {
     "duration": 0.083745,
     "end_time": "2021-11-25T03:04:24.982963",
     "exception": false,
     "start_time": "2021-11-25T03:04:24.899218",
     "status": "completed"
    },
    "tags": []
   },
   "outputs": [
    {
     "data": {
      "text/plain": [
       "array([0., 1., 0., 0., 0., 0., 0., 0., 0., 0.], dtype=float32)"
      ]
     },
     "execution_count": 11,
     "metadata": {},
     "output_type": "execute_result"
    }
   ],
   "source": [
    "y[0]"
   ]
  },
  {
   "cell_type": "code",
   "execution_count": 12,
   "id": "ae23702f",
   "metadata": {
    "execution": {
     "iopub.execute_input": "2021-11-25T03:04:25.132294Z",
     "iopub.status.busy": "2021-11-25T03:04:25.131390Z",
     "iopub.status.idle": "2021-11-25T03:04:25.136415Z",
     "shell.execute_reply": "2021-11-25T03:04:25.136909Z",
     "shell.execute_reply.started": "2021-11-25T01:42:45.690627Z"
    },
    "papermill": {
     "duration": 0.081186,
     "end_time": "2021-11-25T03:04:25.137073",
     "exception": false,
     "start_time": "2021-11-25T03:04:25.055887",
     "status": "completed"
    },
    "tags": []
   },
   "outputs": [
    {
     "data": {
      "text/plain": [
       "array([0., 0., 0., 0., 1., 0., 0., 0., 0., 0.], dtype=float32)"
      ]
     },
     "execution_count": 12,
     "metadata": {},
     "output_type": "execute_result"
    }
   ],
   "source": [
    "y[3]"
   ]
  },
  {
   "cell_type": "code",
   "execution_count": 13,
   "id": "5ac259fa",
   "metadata": {
    "execution": {
     "iopub.execute_input": "2021-11-25T03:04:25.285564Z",
     "iopub.status.busy": "2021-11-25T03:04:25.284660Z",
     "iopub.status.idle": "2021-11-25T03:04:25.575782Z",
     "shell.execute_reply": "2021-11-25T03:04:25.576276Z",
     "shell.execute_reply.started": "2021-11-25T01:42:45.701782Z"
    },
    "papermill": {
     "duration": 0.366691,
     "end_time": "2021-11-25T03:04:25.576446",
     "exception": false,
     "start_time": "2021-11-25T03:04:25.209755",
     "status": "completed"
    },
    "tags": []
   },
   "outputs": [],
   "source": [
    "X_train,X_test,y_train,y_test = train_test_split(X,y,test_size=0.2, random_state=100)"
   ]
  },
  {
   "cell_type": "code",
   "execution_count": 14,
   "id": "f1f985be",
   "metadata": {
    "execution": {
     "iopub.execute_input": "2021-11-25T03:04:25.727585Z",
     "iopub.status.busy": "2021-11-25T03:04:25.726661Z",
     "iopub.status.idle": "2021-11-25T03:04:25.746128Z",
     "shell.execute_reply": "2021-11-25T03:04:25.746592Z",
     "shell.execute_reply.started": "2021-11-25T01:42:45.986646Z"
    },
    "papermill": {
     "duration": 0.09731,
     "end_time": "2021-11-25T03:04:25.746758",
     "exception": false,
     "start_time": "2021-11-25T03:04:25.649448",
     "status": "completed"
    },
    "tags": []
   },
   "outputs": [
    {
     "data": {
      "text/html": [
       "<div>\n",
       "<style scoped>\n",
       "    .dataframe tbody tr th:only-of-type {\n",
       "        vertical-align: middle;\n",
       "    }\n",
       "\n",
       "    .dataframe tbody tr th {\n",
       "        vertical-align: top;\n",
       "    }\n",
       "\n",
       "    .dataframe thead th {\n",
       "        text-align: right;\n",
       "    }\n",
       "</style>\n",
       "<table border=\"1\" class=\"dataframe\">\n",
       "  <thead>\n",
       "    <tr style=\"text-align: right;\">\n",
       "      <th></th>\n",
       "      <th>pixel0</th>\n",
       "      <th>pixel1</th>\n",
       "      <th>pixel2</th>\n",
       "      <th>pixel3</th>\n",
       "      <th>pixel4</th>\n",
       "      <th>pixel5</th>\n",
       "      <th>pixel6</th>\n",
       "      <th>pixel7</th>\n",
       "      <th>pixel8</th>\n",
       "      <th>pixel9</th>\n",
       "      <th>...</th>\n",
       "      <th>pixel774</th>\n",
       "      <th>pixel775</th>\n",
       "      <th>pixel776</th>\n",
       "      <th>pixel777</th>\n",
       "      <th>pixel778</th>\n",
       "      <th>pixel779</th>\n",
       "      <th>pixel780</th>\n",
       "      <th>pixel781</th>\n",
       "      <th>pixel782</th>\n",
       "      <th>pixel783</th>\n",
       "    </tr>\n",
       "  </thead>\n",
       "  <tbody>\n",
       "    <tr>\n",
       "      <th>3053</th>\n",
       "      <td>0</td>\n",
       "      <td>0</td>\n",
       "      <td>0</td>\n",
       "      <td>0</td>\n",
       "      <td>0</td>\n",
       "      <td>0</td>\n",
       "      <td>0</td>\n",
       "      <td>0</td>\n",
       "      <td>0</td>\n",
       "      <td>0</td>\n",
       "      <td>...</td>\n",
       "      <td>0</td>\n",
       "      <td>0</td>\n",
       "      <td>0</td>\n",
       "      <td>0</td>\n",
       "      <td>0</td>\n",
       "      <td>0</td>\n",
       "      <td>0</td>\n",
       "      <td>0</td>\n",
       "      <td>0</td>\n",
       "      <td>0</td>\n",
       "    </tr>\n",
       "    <tr>\n",
       "      <th>32315</th>\n",
       "      <td>0</td>\n",
       "      <td>0</td>\n",
       "      <td>0</td>\n",
       "      <td>0</td>\n",
       "      <td>0</td>\n",
       "      <td>0</td>\n",
       "      <td>0</td>\n",
       "      <td>0</td>\n",
       "      <td>0</td>\n",
       "      <td>0</td>\n",
       "      <td>...</td>\n",
       "      <td>0</td>\n",
       "      <td>0</td>\n",
       "      <td>0</td>\n",
       "      <td>0</td>\n",
       "      <td>0</td>\n",
       "      <td>0</td>\n",
       "      <td>0</td>\n",
       "      <td>0</td>\n",
       "      <td>0</td>\n",
       "      <td>0</td>\n",
       "    </tr>\n",
       "    <tr>\n",
       "      <th>36155</th>\n",
       "      <td>0</td>\n",
       "      <td>0</td>\n",
       "      <td>0</td>\n",
       "      <td>0</td>\n",
       "      <td>0</td>\n",
       "      <td>0</td>\n",
       "      <td>0</td>\n",
       "      <td>0</td>\n",
       "      <td>0</td>\n",
       "      <td>0</td>\n",
       "      <td>...</td>\n",
       "      <td>0</td>\n",
       "      <td>0</td>\n",
       "      <td>0</td>\n",
       "      <td>0</td>\n",
       "      <td>0</td>\n",
       "      <td>0</td>\n",
       "      <td>0</td>\n",
       "      <td>0</td>\n",
       "      <td>0</td>\n",
       "      <td>0</td>\n",
       "    </tr>\n",
       "    <tr>\n",
       "      <th>30071</th>\n",
       "      <td>0</td>\n",
       "      <td>0</td>\n",
       "      <td>0</td>\n",
       "      <td>0</td>\n",
       "      <td>0</td>\n",
       "      <td>0</td>\n",
       "      <td>0</td>\n",
       "      <td>0</td>\n",
       "      <td>0</td>\n",
       "      <td>0</td>\n",
       "      <td>...</td>\n",
       "      <td>0</td>\n",
       "      <td>0</td>\n",
       "      <td>0</td>\n",
       "      <td>0</td>\n",
       "      <td>0</td>\n",
       "      <td>0</td>\n",
       "      <td>0</td>\n",
       "      <td>0</td>\n",
       "      <td>0</td>\n",
       "      <td>0</td>\n",
       "    </tr>\n",
       "    <tr>\n",
       "      <th>36429</th>\n",
       "      <td>0</td>\n",
       "      <td>0</td>\n",
       "      <td>0</td>\n",
       "      <td>0</td>\n",
       "      <td>0</td>\n",
       "      <td>0</td>\n",
       "      <td>0</td>\n",
       "      <td>0</td>\n",
       "      <td>0</td>\n",
       "      <td>0</td>\n",
       "      <td>...</td>\n",
       "      <td>0</td>\n",
       "      <td>0</td>\n",
       "      <td>0</td>\n",
       "      <td>0</td>\n",
       "      <td>0</td>\n",
       "      <td>0</td>\n",
       "      <td>0</td>\n",
       "      <td>0</td>\n",
       "      <td>0</td>\n",
       "      <td>0</td>\n",
       "    </tr>\n",
       "    <tr>\n",
       "      <th>...</th>\n",
       "      <td>...</td>\n",
       "      <td>...</td>\n",
       "      <td>...</td>\n",
       "      <td>...</td>\n",
       "      <td>...</td>\n",
       "      <td>...</td>\n",
       "      <td>...</td>\n",
       "      <td>...</td>\n",
       "      <td>...</td>\n",
       "      <td>...</td>\n",
       "      <td>...</td>\n",
       "      <td>...</td>\n",
       "      <td>...</td>\n",
       "      <td>...</td>\n",
       "      <td>...</td>\n",
       "      <td>...</td>\n",
       "      <td>...</td>\n",
       "      <td>...</td>\n",
       "      <td>...</td>\n",
       "      <td>...</td>\n",
       "      <td>...</td>\n",
       "    </tr>\n",
       "    <tr>\n",
       "      <th>16304</th>\n",
       "      <td>0</td>\n",
       "      <td>0</td>\n",
       "      <td>0</td>\n",
       "      <td>0</td>\n",
       "      <td>0</td>\n",
       "      <td>0</td>\n",
       "      <td>0</td>\n",
       "      <td>0</td>\n",
       "      <td>0</td>\n",
       "      <td>0</td>\n",
       "      <td>...</td>\n",
       "      <td>0</td>\n",
       "      <td>0</td>\n",
       "      <td>0</td>\n",
       "      <td>0</td>\n",
       "      <td>0</td>\n",
       "      <td>0</td>\n",
       "      <td>0</td>\n",
       "      <td>0</td>\n",
       "      <td>0</td>\n",
       "      <td>0</td>\n",
       "    </tr>\n",
       "    <tr>\n",
       "      <th>79</th>\n",
       "      <td>0</td>\n",
       "      <td>0</td>\n",
       "      <td>0</td>\n",
       "      <td>0</td>\n",
       "      <td>0</td>\n",
       "      <td>0</td>\n",
       "      <td>0</td>\n",
       "      <td>0</td>\n",
       "      <td>0</td>\n",
       "      <td>0</td>\n",
       "      <td>...</td>\n",
       "      <td>0</td>\n",
       "      <td>0</td>\n",
       "      <td>0</td>\n",
       "      <td>0</td>\n",
       "      <td>0</td>\n",
       "      <td>0</td>\n",
       "      <td>0</td>\n",
       "      <td>0</td>\n",
       "      <td>0</td>\n",
       "      <td>0</td>\n",
       "    </tr>\n",
       "    <tr>\n",
       "      <th>12119</th>\n",
       "      <td>0</td>\n",
       "      <td>0</td>\n",
       "      <td>0</td>\n",
       "      <td>0</td>\n",
       "      <td>0</td>\n",
       "      <td>0</td>\n",
       "      <td>0</td>\n",
       "      <td>0</td>\n",
       "      <td>0</td>\n",
       "      <td>0</td>\n",
       "      <td>...</td>\n",
       "      <td>0</td>\n",
       "      <td>0</td>\n",
       "      <td>0</td>\n",
       "      <td>0</td>\n",
       "      <td>0</td>\n",
       "      <td>0</td>\n",
       "      <td>0</td>\n",
       "      <td>0</td>\n",
       "      <td>0</td>\n",
       "      <td>0</td>\n",
       "    </tr>\n",
       "    <tr>\n",
       "      <th>14147</th>\n",
       "      <td>0</td>\n",
       "      <td>0</td>\n",
       "      <td>0</td>\n",
       "      <td>0</td>\n",
       "      <td>0</td>\n",
       "      <td>0</td>\n",
       "      <td>0</td>\n",
       "      <td>0</td>\n",
       "      <td>0</td>\n",
       "      <td>0</td>\n",
       "      <td>...</td>\n",
       "      <td>0</td>\n",
       "      <td>0</td>\n",
       "      <td>0</td>\n",
       "      <td>0</td>\n",
       "      <td>0</td>\n",
       "      <td>0</td>\n",
       "      <td>0</td>\n",
       "      <td>0</td>\n",
       "      <td>0</td>\n",
       "      <td>0</td>\n",
       "    </tr>\n",
       "    <tr>\n",
       "      <th>38408</th>\n",
       "      <td>0</td>\n",
       "      <td>0</td>\n",
       "      <td>0</td>\n",
       "      <td>0</td>\n",
       "      <td>0</td>\n",
       "      <td>0</td>\n",
       "      <td>0</td>\n",
       "      <td>0</td>\n",
       "      <td>0</td>\n",
       "      <td>0</td>\n",
       "      <td>...</td>\n",
       "      <td>0</td>\n",
       "      <td>0</td>\n",
       "      <td>0</td>\n",
       "      <td>0</td>\n",
       "      <td>0</td>\n",
       "      <td>0</td>\n",
       "      <td>0</td>\n",
       "      <td>0</td>\n",
       "      <td>0</td>\n",
       "      <td>0</td>\n",
       "    </tr>\n",
       "  </tbody>\n",
       "</table>\n",
       "<p>33600 rows × 784 columns</p>\n",
       "</div>"
      ],
      "text/plain": [
       "       pixel0  pixel1  pixel2  pixel3  pixel4  pixel5  pixel6  pixel7  pixel8  \\\n",
       "3053        0       0       0       0       0       0       0       0       0   \n",
       "32315       0       0       0       0       0       0       0       0       0   \n",
       "36155       0       0       0       0       0       0       0       0       0   \n",
       "30071       0       0       0       0       0       0       0       0       0   \n",
       "36429       0       0       0       0       0       0       0       0       0   \n",
       "...       ...     ...     ...     ...     ...     ...     ...     ...     ...   \n",
       "16304       0       0       0       0       0       0       0       0       0   \n",
       "79          0       0       0       0       0       0       0       0       0   \n",
       "12119       0       0       0       0       0       0       0       0       0   \n",
       "14147       0       0       0       0       0       0       0       0       0   \n",
       "38408       0       0       0       0       0       0       0       0       0   \n",
       "\n",
       "       pixel9  ...  pixel774  pixel775  pixel776  pixel777  pixel778  \\\n",
       "3053        0  ...         0         0         0         0         0   \n",
       "32315       0  ...         0         0         0         0         0   \n",
       "36155       0  ...         0         0         0         0         0   \n",
       "30071       0  ...         0         0         0         0         0   \n",
       "36429       0  ...         0         0         0         0         0   \n",
       "...       ...  ...       ...       ...       ...       ...       ...   \n",
       "16304       0  ...         0         0         0         0         0   \n",
       "79          0  ...         0         0         0         0         0   \n",
       "12119       0  ...         0         0         0         0         0   \n",
       "14147       0  ...         0         0         0         0         0   \n",
       "38408       0  ...         0         0         0         0         0   \n",
       "\n",
       "       pixel779  pixel780  pixel781  pixel782  pixel783  \n",
       "3053          0         0         0         0         0  \n",
       "32315         0         0         0         0         0  \n",
       "36155         0         0         0         0         0  \n",
       "30071         0         0         0         0         0  \n",
       "36429         0         0         0         0         0  \n",
       "...         ...       ...       ...       ...       ...  \n",
       "16304         0         0         0         0         0  \n",
       "79            0         0         0         0         0  \n",
       "12119         0         0         0         0         0  \n",
       "14147         0         0         0         0         0  \n",
       "38408         0         0         0         0         0  \n",
       "\n",
       "[33600 rows x 784 columns]"
      ]
     },
     "execution_count": 14,
     "metadata": {},
     "output_type": "execute_result"
    }
   ],
   "source": [
    "X_train"
   ]
  },
  {
   "cell_type": "code",
   "execution_count": 15,
   "id": "fef48a4a",
   "metadata": {
    "execution": {
     "iopub.execute_input": "2021-11-25T03:04:25.896450Z",
     "iopub.status.busy": "2021-11-25T03:04:25.895581Z",
     "iopub.status.idle": "2021-11-25T03:04:25.914033Z",
     "shell.execute_reply": "2021-11-25T03:04:25.913455Z",
     "shell.execute_reply.started": "2021-11-25T01:42:46.011013Z"
    },
    "papermill": {
     "duration": 0.094218,
     "end_time": "2021-11-25T03:04:25.914164",
     "exception": false,
     "start_time": "2021-11-25T03:04:25.819946",
     "status": "completed"
    },
    "tags": []
   },
   "outputs": [
    {
     "data": {
      "text/html": [
       "<div>\n",
       "<style scoped>\n",
       "    .dataframe tbody tr th:only-of-type {\n",
       "        vertical-align: middle;\n",
       "    }\n",
       "\n",
       "    .dataframe tbody tr th {\n",
       "        vertical-align: top;\n",
       "    }\n",
       "\n",
       "    .dataframe thead th {\n",
       "        text-align: right;\n",
       "    }\n",
       "</style>\n",
       "<table border=\"1\" class=\"dataframe\">\n",
       "  <thead>\n",
       "    <tr style=\"text-align: right;\">\n",
       "      <th></th>\n",
       "      <th>pixel0</th>\n",
       "      <th>pixel1</th>\n",
       "      <th>pixel2</th>\n",
       "      <th>pixel3</th>\n",
       "      <th>pixel4</th>\n",
       "      <th>pixel5</th>\n",
       "      <th>pixel6</th>\n",
       "      <th>pixel7</th>\n",
       "      <th>pixel8</th>\n",
       "      <th>pixel9</th>\n",
       "      <th>...</th>\n",
       "      <th>pixel774</th>\n",
       "      <th>pixel775</th>\n",
       "      <th>pixel776</th>\n",
       "      <th>pixel777</th>\n",
       "      <th>pixel778</th>\n",
       "      <th>pixel779</th>\n",
       "      <th>pixel780</th>\n",
       "      <th>pixel781</th>\n",
       "      <th>pixel782</th>\n",
       "      <th>pixel783</th>\n",
       "    </tr>\n",
       "  </thead>\n",
       "  <tbody>\n",
       "    <tr>\n",
       "      <th>21028</th>\n",
       "      <td>0</td>\n",
       "      <td>0</td>\n",
       "      <td>0</td>\n",
       "      <td>0</td>\n",
       "      <td>0</td>\n",
       "      <td>0</td>\n",
       "      <td>0</td>\n",
       "      <td>0</td>\n",
       "      <td>0</td>\n",
       "      <td>0</td>\n",
       "      <td>...</td>\n",
       "      <td>0</td>\n",
       "      <td>0</td>\n",
       "      <td>0</td>\n",
       "      <td>0</td>\n",
       "      <td>0</td>\n",
       "      <td>0</td>\n",
       "      <td>0</td>\n",
       "      <td>0</td>\n",
       "      <td>0</td>\n",
       "      <td>0</td>\n",
       "    </tr>\n",
       "    <tr>\n",
       "      <th>35662</th>\n",
       "      <td>0</td>\n",
       "      <td>0</td>\n",
       "      <td>0</td>\n",
       "      <td>0</td>\n",
       "      <td>0</td>\n",
       "      <td>0</td>\n",
       "      <td>0</td>\n",
       "      <td>0</td>\n",
       "      <td>0</td>\n",
       "      <td>0</td>\n",
       "      <td>...</td>\n",
       "      <td>0</td>\n",
       "      <td>0</td>\n",
       "      <td>0</td>\n",
       "      <td>0</td>\n",
       "      <td>0</td>\n",
       "      <td>0</td>\n",
       "      <td>0</td>\n",
       "      <td>0</td>\n",
       "      <td>0</td>\n",
       "      <td>0</td>\n",
       "    </tr>\n",
       "    <tr>\n",
       "      <th>7969</th>\n",
       "      <td>0</td>\n",
       "      <td>0</td>\n",
       "      <td>0</td>\n",
       "      <td>0</td>\n",
       "      <td>0</td>\n",
       "      <td>0</td>\n",
       "      <td>0</td>\n",
       "      <td>0</td>\n",
       "      <td>0</td>\n",
       "      <td>0</td>\n",
       "      <td>...</td>\n",
       "      <td>0</td>\n",
       "      <td>0</td>\n",
       "      <td>0</td>\n",
       "      <td>0</td>\n",
       "      <td>0</td>\n",
       "      <td>0</td>\n",
       "      <td>0</td>\n",
       "      <td>0</td>\n",
       "      <td>0</td>\n",
       "      <td>0</td>\n",
       "    </tr>\n",
       "    <tr>\n",
       "      <th>16537</th>\n",
       "      <td>0</td>\n",
       "      <td>0</td>\n",
       "      <td>0</td>\n",
       "      <td>0</td>\n",
       "      <td>0</td>\n",
       "      <td>0</td>\n",
       "      <td>0</td>\n",
       "      <td>0</td>\n",
       "      <td>0</td>\n",
       "      <td>0</td>\n",
       "      <td>...</td>\n",
       "      <td>0</td>\n",
       "      <td>0</td>\n",
       "      <td>0</td>\n",
       "      <td>0</td>\n",
       "      <td>0</td>\n",
       "      <td>0</td>\n",
       "      <td>0</td>\n",
       "      <td>0</td>\n",
       "      <td>0</td>\n",
       "      <td>0</td>\n",
       "    </tr>\n",
       "    <tr>\n",
       "      <th>36659</th>\n",
       "      <td>0</td>\n",
       "      <td>0</td>\n",
       "      <td>0</td>\n",
       "      <td>0</td>\n",
       "      <td>0</td>\n",
       "      <td>0</td>\n",
       "      <td>0</td>\n",
       "      <td>0</td>\n",
       "      <td>0</td>\n",
       "      <td>0</td>\n",
       "      <td>...</td>\n",
       "      <td>0</td>\n",
       "      <td>0</td>\n",
       "      <td>0</td>\n",
       "      <td>0</td>\n",
       "      <td>0</td>\n",
       "      <td>0</td>\n",
       "      <td>0</td>\n",
       "      <td>0</td>\n",
       "      <td>0</td>\n",
       "      <td>0</td>\n",
       "    </tr>\n",
       "    <tr>\n",
       "      <th>...</th>\n",
       "      <td>...</td>\n",
       "      <td>...</td>\n",
       "      <td>...</td>\n",
       "      <td>...</td>\n",
       "      <td>...</td>\n",
       "      <td>...</td>\n",
       "      <td>...</td>\n",
       "      <td>...</td>\n",
       "      <td>...</td>\n",
       "      <td>...</td>\n",
       "      <td>...</td>\n",
       "      <td>...</td>\n",
       "      <td>...</td>\n",
       "      <td>...</td>\n",
       "      <td>...</td>\n",
       "      <td>...</td>\n",
       "      <td>...</td>\n",
       "      <td>...</td>\n",
       "      <td>...</td>\n",
       "      <td>...</td>\n",
       "      <td>...</td>\n",
       "    </tr>\n",
       "    <tr>\n",
       "      <th>30270</th>\n",
       "      <td>0</td>\n",
       "      <td>0</td>\n",
       "      <td>0</td>\n",
       "      <td>0</td>\n",
       "      <td>0</td>\n",
       "      <td>0</td>\n",
       "      <td>0</td>\n",
       "      <td>0</td>\n",
       "      <td>0</td>\n",
       "      <td>0</td>\n",
       "      <td>...</td>\n",
       "      <td>0</td>\n",
       "      <td>0</td>\n",
       "      <td>0</td>\n",
       "      <td>0</td>\n",
       "      <td>0</td>\n",
       "      <td>0</td>\n",
       "      <td>0</td>\n",
       "      <td>0</td>\n",
       "      <td>0</td>\n",
       "      <td>0</td>\n",
       "    </tr>\n",
       "    <tr>\n",
       "      <th>37287</th>\n",
       "      <td>0</td>\n",
       "      <td>0</td>\n",
       "      <td>0</td>\n",
       "      <td>0</td>\n",
       "      <td>0</td>\n",
       "      <td>0</td>\n",
       "      <td>0</td>\n",
       "      <td>0</td>\n",
       "      <td>0</td>\n",
       "      <td>0</td>\n",
       "      <td>...</td>\n",
       "      <td>0</td>\n",
       "      <td>0</td>\n",
       "      <td>0</td>\n",
       "      <td>0</td>\n",
       "      <td>0</td>\n",
       "      <td>0</td>\n",
       "      <td>0</td>\n",
       "      <td>0</td>\n",
       "      <td>0</td>\n",
       "      <td>0</td>\n",
       "    </tr>\n",
       "    <tr>\n",
       "      <th>11102</th>\n",
       "      <td>0</td>\n",
       "      <td>0</td>\n",
       "      <td>0</td>\n",
       "      <td>0</td>\n",
       "      <td>0</td>\n",
       "      <td>0</td>\n",
       "      <td>0</td>\n",
       "      <td>0</td>\n",
       "      <td>0</td>\n",
       "      <td>0</td>\n",
       "      <td>...</td>\n",
       "      <td>0</td>\n",
       "      <td>0</td>\n",
       "      <td>0</td>\n",
       "      <td>0</td>\n",
       "      <td>0</td>\n",
       "      <td>0</td>\n",
       "      <td>0</td>\n",
       "      <td>0</td>\n",
       "      <td>0</td>\n",
       "      <td>0</td>\n",
       "    </tr>\n",
       "    <tr>\n",
       "      <th>3335</th>\n",
       "      <td>0</td>\n",
       "      <td>0</td>\n",
       "      <td>0</td>\n",
       "      <td>0</td>\n",
       "      <td>0</td>\n",
       "      <td>0</td>\n",
       "      <td>0</td>\n",
       "      <td>0</td>\n",
       "      <td>0</td>\n",
       "      <td>0</td>\n",
       "      <td>...</td>\n",
       "      <td>0</td>\n",
       "      <td>0</td>\n",
       "      <td>0</td>\n",
       "      <td>0</td>\n",
       "      <td>0</td>\n",
       "      <td>0</td>\n",
       "      <td>0</td>\n",
       "      <td>0</td>\n",
       "      <td>0</td>\n",
       "      <td>0</td>\n",
       "    </tr>\n",
       "    <tr>\n",
       "      <th>37083</th>\n",
       "      <td>0</td>\n",
       "      <td>0</td>\n",
       "      <td>0</td>\n",
       "      <td>0</td>\n",
       "      <td>0</td>\n",
       "      <td>0</td>\n",
       "      <td>0</td>\n",
       "      <td>0</td>\n",
       "      <td>0</td>\n",
       "      <td>0</td>\n",
       "      <td>...</td>\n",
       "      <td>0</td>\n",
       "      <td>0</td>\n",
       "      <td>0</td>\n",
       "      <td>0</td>\n",
       "      <td>0</td>\n",
       "      <td>0</td>\n",
       "      <td>0</td>\n",
       "      <td>0</td>\n",
       "      <td>0</td>\n",
       "      <td>0</td>\n",
       "    </tr>\n",
       "  </tbody>\n",
       "</table>\n",
       "<p>8400 rows × 784 columns</p>\n",
       "</div>"
      ],
      "text/plain": [
       "       pixel0  pixel1  pixel2  pixel3  pixel4  pixel5  pixel6  pixel7  pixel8  \\\n",
       "21028       0       0       0       0       0       0       0       0       0   \n",
       "35662       0       0       0       0       0       0       0       0       0   \n",
       "7969        0       0       0       0       0       0       0       0       0   \n",
       "16537       0       0       0       0       0       0       0       0       0   \n",
       "36659       0       0       0       0       0       0       0       0       0   \n",
       "...       ...     ...     ...     ...     ...     ...     ...     ...     ...   \n",
       "30270       0       0       0       0       0       0       0       0       0   \n",
       "37287       0       0       0       0       0       0       0       0       0   \n",
       "11102       0       0       0       0       0       0       0       0       0   \n",
       "3335        0       0       0       0       0       0       0       0       0   \n",
       "37083       0       0       0       0       0       0       0       0       0   \n",
       "\n",
       "       pixel9  ...  pixel774  pixel775  pixel776  pixel777  pixel778  \\\n",
       "21028       0  ...         0         0         0         0         0   \n",
       "35662       0  ...         0         0         0         0         0   \n",
       "7969        0  ...         0         0         0         0         0   \n",
       "16537       0  ...         0         0         0         0         0   \n",
       "36659       0  ...         0         0         0         0         0   \n",
       "...       ...  ...       ...       ...       ...       ...       ...   \n",
       "30270       0  ...         0         0         0         0         0   \n",
       "37287       0  ...         0         0         0         0         0   \n",
       "11102       0  ...         0         0         0         0         0   \n",
       "3335        0  ...         0         0         0         0         0   \n",
       "37083       0  ...         0         0         0         0         0   \n",
       "\n",
       "       pixel779  pixel780  pixel781  pixel782  pixel783  \n",
       "21028         0         0         0         0         0  \n",
       "35662         0         0         0         0         0  \n",
       "7969          0         0         0         0         0  \n",
       "16537         0         0         0         0         0  \n",
       "36659         0         0         0         0         0  \n",
       "...         ...       ...       ...       ...       ...  \n",
       "30270         0         0         0         0         0  \n",
       "37287         0         0         0         0         0  \n",
       "11102         0         0         0         0         0  \n",
       "3335          0         0         0         0         0  \n",
       "37083         0         0         0         0         0  \n",
       "\n",
       "[8400 rows x 784 columns]"
      ]
     },
     "execution_count": 15,
     "metadata": {},
     "output_type": "execute_result"
    }
   ],
   "source": [
    "X_test"
   ]
  },
  {
   "cell_type": "code",
   "execution_count": 16,
   "id": "532bdd4b",
   "metadata": {
    "execution": {
     "iopub.execute_input": "2021-11-25T03:04:26.070701Z",
     "iopub.status.busy": "2021-11-25T03:04:26.069960Z",
     "iopub.status.idle": "2021-11-25T03:04:26.073506Z",
     "shell.execute_reply": "2021-11-25T03:04:26.073057Z",
     "shell.execute_reply.started": "2021-11-25T01:42:46.033425Z"
    },
    "papermill": {
     "duration": 0.083793,
     "end_time": "2021-11-25T03:04:26.073639",
     "exception": false,
     "start_time": "2021-11-25T03:04:25.989846",
     "status": "completed"
    },
    "tags": []
   },
   "outputs": [
    {
     "data": {
      "text/plain": [
       "array([[1., 0., 0., ..., 0., 0., 0.],\n",
       "       [0., 0., 0., ..., 1., 0., 0.],\n",
       "       [0., 0., 0., ..., 0., 0., 1.],\n",
       "       ...,\n",
       "       [0., 0., 0., ..., 1., 0., 0.],\n",
       "       [0., 0., 0., ..., 0., 0., 1.],\n",
       "       [0., 0., 1., ..., 0., 0., 0.]], dtype=float32)"
      ]
     },
     "execution_count": 16,
     "metadata": {},
     "output_type": "execute_result"
    }
   ],
   "source": [
    "y_train"
   ]
  },
  {
   "cell_type": "code",
   "execution_count": 17,
   "id": "dd65518c",
   "metadata": {
    "execution": {
     "iopub.execute_input": "2021-11-25T03:04:26.232125Z",
     "iopub.status.busy": "2021-11-25T03:04:26.230521Z",
     "iopub.status.idle": "2021-11-25T03:04:26.235158Z",
     "shell.execute_reply": "2021-11-25T03:04:26.235597Z",
     "shell.execute_reply.started": "2021-11-25T01:42:46.040572Z"
    },
    "papermill": {
     "duration": 0.083996,
     "end_time": "2021-11-25T03:04:26.235753",
     "exception": false,
     "start_time": "2021-11-25T03:04:26.151757",
     "status": "completed"
    },
    "tags": []
   },
   "outputs": [
    {
     "data": {
      "text/plain": [
       "array([[0., 0., 0., ..., 0., 0., 0.],\n",
       "       [1., 0., 0., ..., 0., 0., 0.],\n",
       "       [0., 0., 1., ..., 0., 0., 0.],\n",
       "       ...,\n",
       "       [0., 0., 0., ..., 0., 1., 0.],\n",
       "       [0., 0., 0., ..., 1., 0., 0.],\n",
       "       [0., 0., 0., ..., 0., 0., 1.]], dtype=float32)"
      ]
     },
     "execution_count": 17,
     "metadata": {},
     "output_type": "execute_result"
    }
   ],
   "source": [
    "y_test"
   ]
  },
  {
   "cell_type": "code",
   "execution_count": 18,
   "id": "1ef90e18",
   "metadata": {
    "execution": {
     "iopub.execute_input": "2021-11-25T03:04:26.391996Z",
     "iopub.status.busy": "2021-11-25T03:04:26.390979Z",
     "iopub.status.idle": "2021-11-25T03:04:26.433038Z",
     "shell.execute_reply": "2021-11-25T03:04:26.433473Z",
     "shell.execute_reply.started": "2021-11-25T01:42:46.052608Z"
    },
    "papermill": {
     "duration": 0.123498,
     "end_time": "2021-11-25T03:04:26.433632",
     "exception": false,
     "start_time": "2021-11-25T03:04:26.310134",
     "status": "completed"
    },
    "tags": []
   },
   "outputs": [
    {
     "data": {
      "text/plain": [
       "array([  0, 116, 254, 216,   9,  16,  47, 157, 255, 243, 244, 184, 197,\n",
       "        64,  29, 134, 128, 234, 165, 141,  84, 139, 164, 121,  38,  51,\n",
       "       114, 226, 230,  95, 253,  18,   4, 177, 196,  53, 190, 220, 150,\n",
       "       112, 163, 252, 110,  32, 247, 188, 209, 223,  71,  60, 126, 151,\n",
       "       178,  50, 107, 251,  39,  31,  10, 225,  72, 217, 241,  98,  42,\n",
       "       127, 104,  28,  59, 231,  62])"
      ]
     },
     "execution_count": 18,
     "metadata": {},
     "output_type": "execute_result"
    }
   ],
   "source": [
    "X.max().unique()"
   ]
  },
  {
   "cell_type": "code",
   "execution_count": 19,
   "id": "0e6a1ecc",
   "metadata": {
    "execution": {
     "iopub.execute_input": "2021-11-25T03:04:26.587588Z",
     "iopub.status.busy": "2021-11-25T03:04:26.586688Z",
     "iopub.status.idle": "2021-11-25T03:04:26.630143Z",
     "shell.execute_reply": "2021-11-25T03:04:26.629530Z",
     "shell.execute_reply.started": "2021-11-25T01:42:46.103952Z"
    },
    "papermill": {
     "duration": 0.120687,
     "end_time": "2021-11-25T03:04:26.630280",
     "exception": false,
     "start_time": "2021-11-25T03:04:26.509593",
     "status": "completed"
    },
    "tags": []
   },
   "outputs": [
    {
     "data": {
      "text/plain": [
       "array([0])"
      ]
     },
     "execution_count": 19,
     "metadata": {},
     "output_type": "execute_result"
    }
   ],
   "source": [
    "X.min().unique()"
   ]
  },
  {
   "cell_type": "markdown",
   "id": "2042d816",
   "metadata": {
    "papermill": {
     "duration": 0.075308,
     "end_time": "2021-11-25T03:04:26.781433",
     "exception": false,
     "start_time": "2021-11-25T03:04:26.706125",
     "status": "completed"
    },
    "tags": []
   },
   "source": [
    "# Scaling"
   ]
  },
  {
   "cell_type": "code",
   "execution_count": 20,
   "id": "ec705ba0",
   "metadata": {
    "execution": {
     "iopub.execute_input": "2021-11-25T03:04:26.939735Z",
     "iopub.status.busy": "2021-11-25T03:04:26.938676Z",
     "iopub.status.idle": "2021-11-25T03:04:27.016236Z",
     "shell.execute_reply": "2021-11-25T03:04:27.015636Z",
     "shell.execute_reply.started": "2021-11-25T01:42:46.150194Z"
    },
    "papermill": {
     "duration": 0.159809,
     "end_time": "2021-11-25T03:04:27.016373",
     "exception": false,
     "start_time": "2021-11-25T03:04:26.856564",
     "status": "completed"
    },
    "tags": []
   },
   "outputs": [],
   "source": [
    "X_train=X_train/255\n",
    "X_test=X_test/255"
   ]
  },
  {
   "cell_type": "code",
   "execution_count": 21,
   "id": "0238467e",
   "metadata": {
    "execution": {
     "iopub.execute_input": "2021-11-25T03:04:27.173697Z",
     "iopub.status.busy": "2021-11-25T03:04:27.173048Z",
     "iopub.status.idle": "2021-11-25T03:04:27.208401Z",
     "shell.execute_reply": "2021-11-25T03:04:27.207920Z",
     "shell.execute_reply.started": "2021-11-25T01:42:46.226249Z"
    },
    "papermill": {
     "duration": 0.115988,
     "end_time": "2021-11-25T03:04:27.208552",
     "exception": false,
     "start_time": "2021-11-25T03:04:27.092564",
     "status": "completed"
    },
    "tags": []
   },
   "outputs": [
    {
     "data": {
      "text/html": [
       "<div>\n",
       "<style scoped>\n",
       "    .dataframe tbody tr th:only-of-type {\n",
       "        vertical-align: middle;\n",
       "    }\n",
       "\n",
       "    .dataframe tbody tr th {\n",
       "        vertical-align: top;\n",
       "    }\n",
       "\n",
       "    .dataframe thead th {\n",
       "        text-align: right;\n",
       "    }\n",
       "</style>\n",
       "<table border=\"1\" class=\"dataframe\">\n",
       "  <thead>\n",
       "    <tr style=\"text-align: right;\">\n",
       "      <th></th>\n",
       "      <th>pixel0</th>\n",
       "      <th>pixel1</th>\n",
       "      <th>pixel2</th>\n",
       "      <th>pixel3</th>\n",
       "      <th>pixel4</th>\n",
       "      <th>pixel5</th>\n",
       "      <th>pixel6</th>\n",
       "      <th>pixel7</th>\n",
       "      <th>pixel8</th>\n",
       "      <th>pixel9</th>\n",
       "      <th>...</th>\n",
       "      <th>pixel774</th>\n",
       "      <th>pixel775</th>\n",
       "      <th>pixel776</th>\n",
       "      <th>pixel777</th>\n",
       "      <th>pixel778</th>\n",
       "      <th>pixel779</th>\n",
       "      <th>pixel780</th>\n",
       "      <th>pixel781</th>\n",
       "      <th>pixel782</th>\n",
       "      <th>pixel783</th>\n",
       "    </tr>\n",
       "  </thead>\n",
       "  <tbody>\n",
       "    <tr>\n",
       "      <th>3053</th>\n",
       "      <td>0.0</td>\n",
       "      <td>0.0</td>\n",
       "      <td>0.0</td>\n",
       "      <td>0.0</td>\n",
       "      <td>0.0</td>\n",
       "      <td>0.0</td>\n",
       "      <td>0.0</td>\n",
       "      <td>0.0</td>\n",
       "      <td>0.0</td>\n",
       "      <td>0.0</td>\n",
       "      <td>...</td>\n",
       "      <td>0.0</td>\n",
       "      <td>0.0</td>\n",
       "      <td>0.0</td>\n",
       "      <td>0.0</td>\n",
       "      <td>0.0</td>\n",
       "      <td>0.0</td>\n",
       "      <td>0.0</td>\n",
       "      <td>0.0</td>\n",
       "      <td>0.0</td>\n",
       "      <td>0.0</td>\n",
       "    </tr>\n",
       "    <tr>\n",
       "      <th>32315</th>\n",
       "      <td>0.0</td>\n",
       "      <td>0.0</td>\n",
       "      <td>0.0</td>\n",
       "      <td>0.0</td>\n",
       "      <td>0.0</td>\n",
       "      <td>0.0</td>\n",
       "      <td>0.0</td>\n",
       "      <td>0.0</td>\n",
       "      <td>0.0</td>\n",
       "      <td>0.0</td>\n",
       "      <td>...</td>\n",
       "      <td>0.0</td>\n",
       "      <td>0.0</td>\n",
       "      <td>0.0</td>\n",
       "      <td>0.0</td>\n",
       "      <td>0.0</td>\n",
       "      <td>0.0</td>\n",
       "      <td>0.0</td>\n",
       "      <td>0.0</td>\n",
       "      <td>0.0</td>\n",
       "      <td>0.0</td>\n",
       "    </tr>\n",
       "    <tr>\n",
       "      <th>36155</th>\n",
       "      <td>0.0</td>\n",
       "      <td>0.0</td>\n",
       "      <td>0.0</td>\n",
       "      <td>0.0</td>\n",
       "      <td>0.0</td>\n",
       "      <td>0.0</td>\n",
       "      <td>0.0</td>\n",
       "      <td>0.0</td>\n",
       "      <td>0.0</td>\n",
       "      <td>0.0</td>\n",
       "      <td>...</td>\n",
       "      <td>0.0</td>\n",
       "      <td>0.0</td>\n",
       "      <td>0.0</td>\n",
       "      <td>0.0</td>\n",
       "      <td>0.0</td>\n",
       "      <td>0.0</td>\n",
       "      <td>0.0</td>\n",
       "      <td>0.0</td>\n",
       "      <td>0.0</td>\n",
       "      <td>0.0</td>\n",
       "    </tr>\n",
       "    <tr>\n",
       "      <th>30071</th>\n",
       "      <td>0.0</td>\n",
       "      <td>0.0</td>\n",
       "      <td>0.0</td>\n",
       "      <td>0.0</td>\n",
       "      <td>0.0</td>\n",
       "      <td>0.0</td>\n",
       "      <td>0.0</td>\n",
       "      <td>0.0</td>\n",
       "      <td>0.0</td>\n",
       "      <td>0.0</td>\n",
       "      <td>...</td>\n",
       "      <td>0.0</td>\n",
       "      <td>0.0</td>\n",
       "      <td>0.0</td>\n",
       "      <td>0.0</td>\n",
       "      <td>0.0</td>\n",
       "      <td>0.0</td>\n",
       "      <td>0.0</td>\n",
       "      <td>0.0</td>\n",
       "      <td>0.0</td>\n",
       "      <td>0.0</td>\n",
       "    </tr>\n",
       "    <tr>\n",
       "      <th>36429</th>\n",
       "      <td>0.0</td>\n",
       "      <td>0.0</td>\n",
       "      <td>0.0</td>\n",
       "      <td>0.0</td>\n",
       "      <td>0.0</td>\n",
       "      <td>0.0</td>\n",
       "      <td>0.0</td>\n",
       "      <td>0.0</td>\n",
       "      <td>0.0</td>\n",
       "      <td>0.0</td>\n",
       "      <td>...</td>\n",
       "      <td>0.0</td>\n",
       "      <td>0.0</td>\n",
       "      <td>0.0</td>\n",
       "      <td>0.0</td>\n",
       "      <td>0.0</td>\n",
       "      <td>0.0</td>\n",
       "      <td>0.0</td>\n",
       "      <td>0.0</td>\n",
       "      <td>0.0</td>\n",
       "      <td>0.0</td>\n",
       "    </tr>\n",
       "    <tr>\n",
       "      <th>...</th>\n",
       "      <td>...</td>\n",
       "      <td>...</td>\n",
       "      <td>...</td>\n",
       "      <td>...</td>\n",
       "      <td>...</td>\n",
       "      <td>...</td>\n",
       "      <td>...</td>\n",
       "      <td>...</td>\n",
       "      <td>...</td>\n",
       "      <td>...</td>\n",
       "      <td>...</td>\n",
       "      <td>...</td>\n",
       "      <td>...</td>\n",
       "      <td>...</td>\n",
       "      <td>...</td>\n",
       "      <td>...</td>\n",
       "      <td>...</td>\n",
       "      <td>...</td>\n",
       "      <td>...</td>\n",
       "      <td>...</td>\n",
       "      <td>...</td>\n",
       "    </tr>\n",
       "    <tr>\n",
       "      <th>16304</th>\n",
       "      <td>0.0</td>\n",
       "      <td>0.0</td>\n",
       "      <td>0.0</td>\n",
       "      <td>0.0</td>\n",
       "      <td>0.0</td>\n",
       "      <td>0.0</td>\n",
       "      <td>0.0</td>\n",
       "      <td>0.0</td>\n",
       "      <td>0.0</td>\n",
       "      <td>0.0</td>\n",
       "      <td>...</td>\n",
       "      <td>0.0</td>\n",
       "      <td>0.0</td>\n",
       "      <td>0.0</td>\n",
       "      <td>0.0</td>\n",
       "      <td>0.0</td>\n",
       "      <td>0.0</td>\n",
       "      <td>0.0</td>\n",
       "      <td>0.0</td>\n",
       "      <td>0.0</td>\n",
       "      <td>0.0</td>\n",
       "    </tr>\n",
       "    <tr>\n",
       "      <th>79</th>\n",
       "      <td>0.0</td>\n",
       "      <td>0.0</td>\n",
       "      <td>0.0</td>\n",
       "      <td>0.0</td>\n",
       "      <td>0.0</td>\n",
       "      <td>0.0</td>\n",
       "      <td>0.0</td>\n",
       "      <td>0.0</td>\n",
       "      <td>0.0</td>\n",
       "      <td>0.0</td>\n",
       "      <td>...</td>\n",
       "      <td>0.0</td>\n",
       "      <td>0.0</td>\n",
       "      <td>0.0</td>\n",
       "      <td>0.0</td>\n",
       "      <td>0.0</td>\n",
       "      <td>0.0</td>\n",
       "      <td>0.0</td>\n",
       "      <td>0.0</td>\n",
       "      <td>0.0</td>\n",
       "      <td>0.0</td>\n",
       "    </tr>\n",
       "    <tr>\n",
       "      <th>12119</th>\n",
       "      <td>0.0</td>\n",
       "      <td>0.0</td>\n",
       "      <td>0.0</td>\n",
       "      <td>0.0</td>\n",
       "      <td>0.0</td>\n",
       "      <td>0.0</td>\n",
       "      <td>0.0</td>\n",
       "      <td>0.0</td>\n",
       "      <td>0.0</td>\n",
       "      <td>0.0</td>\n",
       "      <td>...</td>\n",
       "      <td>0.0</td>\n",
       "      <td>0.0</td>\n",
       "      <td>0.0</td>\n",
       "      <td>0.0</td>\n",
       "      <td>0.0</td>\n",
       "      <td>0.0</td>\n",
       "      <td>0.0</td>\n",
       "      <td>0.0</td>\n",
       "      <td>0.0</td>\n",
       "      <td>0.0</td>\n",
       "    </tr>\n",
       "    <tr>\n",
       "      <th>14147</th>\n",
       "      <td>0.0</td>\n",
       "      <td>0.0</td>\n",
       "      <td>0.0</td>\n",
       "      <td>0.0</td>\n",
       "      <td>0.0</td>\n",
       "      <td>0.0</td>\n",
       "      <td>0.0</td>\n",
       "      <td>0.0</td>\n",
       "      <td>0.0</td>\n",
       "      <td>0.0</td>\n",
       "      <td>...</td>\n",
       "      <td>0.0</td>\n",
       "      <td>0.0</td>\n",
       "      <td>0.0</td>\n",
       "      <td>0.0</td>\n",
       "      <td>0.0</td>\n",
       "      <td>0.0</td>\n",
       "      <td>0.0</td>\n",
       "      <td>0.0</td>\n",
       "      <td>0.0</td>\n",
       "      <td>0.0</td>\n",
       "    </tr>\n",
       "    <tr>\n",
       "      <th>38408</th>\n",
       "      <td>0.0</td>\n",
       "      <td>0.0</td>\n",
       "      <td>0.0</td>\n",
       "      <td>0.0</td>\n",
       "      <td>0.0</td>\n",
       "      <td>0.0</td>\n",
       "      <td>0.0</td>\n",
       "      <td>0.0</td>\n",
       "      <td>0.0</td>\n",
       "      <td>0.0</td>\n",
       "      <td>...</td>\n",
       "      <td>0.0</td>\n",
       "      <td>0.0</td>\n",
       "      <td>0.0</td>\n",
       "      <td>0.0</td>\n",
       "      <td>0.0</td>\n",
       "      <td>0.0</td>\n",
       "      <td>0.0</td>\n",
       "      <td>0.0</td>\n",
       "      <td>0.0</td>\n",
       "      <td>0.0</td>\n",
       "    </tr>\n",
       "  </tbody>\n",
       "</table>\n",
       "<p>33600 rows × 784 columns</p>\n",
       "</div>"
      ],
      "text/plain": [
       "       pixel0  pixel1  pixel2  pixel3  pixel4  pixel5  pixel6  pixel7  pixel8  \\\n",
       "3053      0.0     0.0     0.0     0.0     0.0     0.0     0.0     0.0     0.0   \n",
       "32315     0.0     0.0     0.0     0.0     0.0     0.0     0.0     0.0     0.0   \n",
       "36155     0.0     0.0     0.0     0.0     0.0     0.0     0.0     0.0     0.0   \n",
       "30071     0.0     0.0     0.0     0.0     0.0     0.0     0.0     0.0     0.0   \n",
       "36429     0.0     0.0     0.0     0.0     0.0     0.0     0.0     0.0     0.0   \n",
       "...       ...     ...     ...     ...     ...     ...     ...     ...     ...   \n",
       "16304     0.0     0.0     0.0     0.0     0.0     0.0     0.0     0.0     0.0   \n",
       "79        0.0     0.0     0.0     0.0     0.0     0.0     0.0     0.0     0.0   \n",
       "12119     0.0     0.0     0.0     0.0     0.0     0.0     0.0     0.0     0.0   \n",
       "14147     0.0     0.0     0.0     0.0     0.0     0.0     0.0     0.0     0.0   \n",
       "38408     0.0     0.0     0.0     0.0     0.0     0.0     0.0     0.0     0.0   \n",
       "\n",
       "       pixel9  ...  pixel774  pixel775  pixel776  pixel777  pixel778  \\\n",
       "3053      0.0  ...       0.0       0.0       0.0       0.0       0.0   \n",
       "32315     0.0  ...       0.0       0.0       0.0       0.0       0.0   \n",
       "36155     0.0  ...       0.0       0.0       0.0       0.0       0.0   \n",
       "30071     0.0  ...       0.0       0.0       0.0       0.0       0.0   \n",
       "36429     0.0  ...       0.0       0.0       0.0       0.0       0.0   \n",
       "...       ...  ...       ...       ...       ...       ...       ...   \n",
       "16304     0.0  ...       0.0       0.0       0.0       0.0       0.0   \n",
       "79        0.0  ...       0.0       0.0       0.0       0.0       0.0   \n",
       "12119     0.0  ...       0.0       0.0       0.0       0.0       0.0   \n",
       "14147     0.0  ...       0.0       0.0       0.0       0.0       0.0   \n",
       "38408     0.0  ...       0.0       0.0       0.0       0.0       0.0   \n",
       "\n",
       "       pixel779  pixel780  pixel781  pixel782  pixel783  \n",
       "3053        0.0       0.0       0.0       0.0       0.0  \n",
       "32315       0.0       0.0       0.0       0.0       0.0  \n",
       "36155       0.0       0.0       0.0       0.0       0.0  \n",
       "30071       0.0       0.0       0.0       0.0       0.0  \n",
       "36429       0.0       0.0       0.0       0.0       0.0  \n",
       "...         ...       ...       ...       ...       ...  \n",
       "16304       0.0       0.0       0.0       0.0       0.0  \n",
       "79          0.0       0.0       0.0       0.0       0.0  \n",
       "12119       0.0       0.0       0.0       0.0       0.0  \n",
       "14147       0.0       0.0       0.0       0.0       0.0  \n",
       "38408       0.0       0.0       0.0       0.0       0.0  \n",
       "\n",
       "[33600 rows x 784 columns]"
      ]
     },
     "execution_count": 21,
     "metadata": {},
     "output_type": "execute_result"
    }
   ],
   "source": [
    "X_train"
   ]
  },
  {
   "cell_type": "code",
   "execution_count": 22,
   "id": "3005ab53",
   "metadata": {
    "execution": {
     "iopub.execute_input": "2021-11-25T03:04:27.366645Z",
     "iopub.status.busy": "2021-11-25T03:04:27.366066Z",
     "iopub.status.idle": "2021-11-25T03:04:27.401270Z",
     "shell.execute_reply": "2021-11-25T03:04:27.401762Z",
     "shell.execute_reply.started": "2021-11-25T01:42:46.274210Z"
    },
    "papermill": {
     "duration": 0.116318,
     "end_time": "2021-11-25T03:04:27.401958",
     "exception": false,
     "start_time": "2021-11-25T03:04:27.285640",
     "status": "completed"
    },
    "tags": []
   },
   "outputs": [
    {
     "data": {
      "text/html": [
       "<div>\n",
       "<style scoped>\n",
       "    .dataframe tbody tr th:only-of-type {\n",
       "        vertical-align: middle;\n",
       "    }\n",
       "\n",
       "    .dataframe tbody tr th {\n",
       "        vertical-align: top;\n",
       "    }\n",
       "\n",
       "    .dataframe thead th {\n",
       "        text-align: right;\n",
       "    }\n",
       "</style>\n",
       "<table border=\"1\" class=\"dataframe\">\n",
       "  <thead>\n",
       "    <tr style=\"text-align: right;\">\n",
       "      <th></th>\n",
       "      <th>pixel0</th>\n",
       "      <th>pixel1</th>\n",
       "      <th>pixel2</th>\n",
       "      <th>pixel3</th>\n",
       "      <th>pixel4</th>\n",
       "      <th>pixel5</th>\n",
       "      <th>pixel6</th>\n",
       "      <th>pixel7</th>\n",
       "      <th>pixel8</th>\n",
       "      <th>pixel9</th>\n",
       "      <th>...</th>\n",
       "      <th>pixel774</th>\n",
       "      <th>pixel775</th>\n",
       "      <th>pixel776</th>\n",
       "      <th>pixel777</th>\n",
       "      <th>pixel778</th>\n",
       "      <th>pixel779</th>\n",
       "      <th>pixel780</th>\n",
       "      <th>pixel781</th>\n",
       "      <th>pixel782</th>\n",
       "      <th>pixel783</th>\n",
       "    </tr>\n",
       "  </thead>\n",
       "  <tbody>\n",
       "    <tr>\n",
       "      <th>21028</th>\n",
       "      <td>0.0</td>\n",
       "      <td>0.0</td>\n",
       "      <td>0.0</td>\n",
       "      <td>0.0</td>\n",
       "      <td>0.0</td>\n",
       "      <td>0.0</td>\n",
       "      <td>0.0</td>\n",
       "      <td>0.0</td>\n",
       "      <td>0.0</td>\n",
       "      <td>0.0</td>\n",
       "      <td>...</td>\n",
       "      <td>0.0</td>\n",
       "      <td>0.0</td>\n",
       "      <td>0.0</td>\n",
       "      <td>0.0</td>\n",
       "      <td>0.0</td>\n",
       "      <td>0.0</td>\n",
       "      <td>0.0</td>\n",
       "      <td>0.0</td>\n",
       "      <td>0.0</td>\n",
       "      <td>0.0</td>\n",
       "    </tr>\n",
       "    <tr>\n",
       "      <th>35662</th>\n",
       "      <td>0.0</td>\n",
       "      <td>0.0</td>\n",
       "      <td>0.0</td>\n",
       "      <td>0.0</td>\n",
       "      <td>0.0</td>\n",
       "      <td>0.0</td>\n",
       "      <td>0.0</td>\n",
       "      <td>0.0</td>\n",
       "      <td>0.0</td>\n",
       "      <td>0.0</td>\n",
       "      <td>...</td>\n",
       "      <td>0.0</td>\n",
       "      <td>0.0</td>\n",
       "      <td>0.0</td>\n",
       "      <td>0.0</td>\n",
       "      <td>0.0</td>\n",
       "      <td>0.0</td>\n",
       "      <td>0.0</td>\n",
       "      <td>0.0</td>\n",
       "      <td>0.0</td>\n",
       "      <td>0.0</td>\n",
       "    </tr>\n",
       "    <tr>\n",
       "      <th>7969</th>\n",
       "      <td>0.0</td>\n",
       "      <td>0.0</td>\n",
       "      <td>0.0</td>\n",
       "      <td>0.0</td>\n",
       "      <td>0.0</td>\n",
       "      <td>0.0</td>\n",
       "      <td>0.0</td>\n",
       "      <td>0.0</td>\n",
       "      <td>0.0</td>\n",
       "      <td>0.0</td>\n",
       "      <td>...</td>\n",
       "      <td>0.0</td>\n",
       "      <td>0.0</td>\n",
       "      <td>0.0</td>\n",
       "      <td>0.0</td>\n",
       "      <td>0.0</td>\n",
       "      <td>0.0</td>\n",
       "      <td>0.0</td>\n",
       "      <td>0.0</td>\n",
       "      <td>0.0</td>\n",
       "      <td>0.0</td>\n",
       "    </tr>\n",
       "    <tr>\n",
       "      <th>16537</th>\n",
       "      <td>0.0</td>\n",
       "      <td>0.0</td>\n",
       "      <td>0.0</td>\n",
       "      <td>0.0</td>\n",
       "      <td>0.0</td>\n",
       "      <td>0.0</td>\n",
       "      <td>0.0</td>\n",
       "      <td>0.0</td>\n",
       "      <td>0.0</td>\n",
       "      <td>0.0</td>\n",
       "      <td>...</td>\n",
       "      <td>0.0</td>\n",
       "      <td>0.0</td>\n",
       "      <td>0.0</td>\n",
       "      <td>0.0</td>\n",
       "      <td>0.0</td>\n",
       "      <td>0.0</td>\n",
       "      <td>0.0</td>\n",
       "      <td>0.0</td>\n",
       "      <td>0.0</td>\n",
       "      <td>0.0</td>\n",
       "    </tr>\n",
       "    <tr>\n",
       "      <th>36659</th>\n",
       "      <td>0.0</td>\n",
       "      <td>0.0</td>\n",
       "      <td>0.0</td>\n",
       "      <td>0.0</td>\n",
       "      <td>0.0</td>\n",
       "      <td>0.0</td>\n",
       "      <td>0.0</td>\n",
       "      <td>0.0</td>\n",
       "      <td>0.0</td>\n",
       "      <td>0.0</td>\n",
       "      <td>...</td>\n",
       "      <td>0.0</td>\n",
       "      <td>0.0</td>\n",
       "      <td>0.0</td>\n",
       "      <td>0.0</td>\n",
       "      <td>0.0</td>\n",
       "      <td>0.0</td>\n",
       "      <td>0.0</td>\n",
       "      <td>0.0</td>\n",
       "      <td>0.0</td>\n",
       "      <td>0.0</td>\n",
       "    </tr>\n",
       "    <tr>\n",
       "      <th>...</th>\n",
       "      <td>...</td>\n",
       "      <td>...</td>\n",
       "      <td>...</td>\n",
       "      <td>...</td>\n",
       "      <td>...</td>\n",
       "      <td>...</td>\n",
       "      <td>...</td>\n",
       "      <td>...</td>\n",
       "      <td>...</td>\n",
       "      <td>...</td>\n",
       "      <td>...</td>\n",
       "      <td>...</td>\n",
       "      <td>...</td>\n",
       "      <td>...</td>\n",
       "      <td>...</td>\n",
       "      <td>...</td>\n",
       "      <td>...</td>\n",
       "      <td>...</td>\n",
       "      <td>...</td>\n",
       "      <td>...</td>\n",
       "      <td>...</td>\n",
       "    </tr>\n",
       "    <tr>\n",
       "      <th>30270</th>\n",
       "      <td>0.0</td>\n",
       "      <td>0.0</td>\n",
       "      <td>0.0</td>\n",
       "      <td>0.0</td>\n",
       "      <td>0.0</td>\n",
       "      <td>0.0</td>\n",
       "      <td>0.0</td>\n",
       "      <td>0.0</td>\n",
       "      <td>0.0</td>\n",
       "      <td>0.0</td>\n",
       "      <td>...</td>\n",
       "      <td>0.0</td>\n",
       "      <td>0.0</td>\n",
       "      <td>0.0</td>\n",
       "      <td>0.0</td>\n",
       "      <td>0.0</td>\n",
       "      <td>0.0</td>\n",
       "      <td>0.0</td>\n",
       "      <td>0.0</td>\n",
       "      <td>0.0</td>\n",
       "      <td>0.0</td>\n",
       "    </tr>\n",
       "    <tr>\n",
       "      <th>37287</th>\n",
       "      <td>0.0</td>\n",
       "      <td>0.0</td>\n",
       "      <td>0.0</td>\n",
       "      <td>0.0</td>\n",
       "      <td>0.0</td>\n",
       "      <td>0.0</td>\n",
       "      <td>0.0</td>\n",
       "      <td>0.0</td>\n",
       "      <td>0.0</td>\n",
       "      <td>0.0</td>\n",
       "      <td>...</td>\n",
       "      <td>0.0</td>\n",
       "      <td>0.0</td>\n",
       "      <td>0.0</td>\n",
       "      <td>0.0</td>\n",
       "      <td>0.0</td>\n",
       "      <td>0.0</td>\n",
       "      <td>0.0</td>\n",
       "      <td>0.0</td>\n",
       "      <td>0.0</td>\n",
       "      <td>0.0</td>\n",
       "    </tr>\n",
       "    <tr>\n",
       "      <th>11102</th>\n",
       "      <td>0.0</td>\n",
       "      <td>0.0</td>\n",
       "      <td>0.0</td>\n",
       "      <td>0.0</td>\n",
       "      <td>0.0</td>\n",
       "      <td>0.0</td>\n",
       "      <td>0.0</td>\n",
       "      <td>0.0</td>\n",
       "      <td>0.0</td>\n",
       "      <td>0.0</td>\n",
       "      <td>...</td>\n",
       "      <td>0.0</td>\n",
       "      <td>0.0</td>\n",
       "      <td>0.0</td>\n",
       "      <td>0.0</td>\n",
       "      <td>0.0</td>\n",
       "      <td>0.0</td>\n",
       "      <td>0.0</td>\n",
       "      <td>0.0</td>\n",
       "      <td>0.0</td>\n",
       "      <td>0.0</td>\n",
       "    </tr>\n",
       "    <tr>\n",
       "      <th>3335</th>\n",
       "      <td>0.0</td>\n",
       "      <td>0.0</td>\n",
       "      <td>0.0</td>\n",
       "      <td>0.0</td>\n",
       "      <td>0.0</td>\n",
       "      <td>0.0</td>\n",
       "      <td>0.0</td>\n",
       "      <td>0.0</td>\n",
       "      <td>0.0</td>\n",
       "      <td>0.0</td>\n",
       "      <td>...</td>\n",
       "      <td>0.0</td>\n",
       "      <td>0.0</td>\n",
       "      <td>0.0</td>\n",
       "      <td>0.0</td>\n",
       "      <td>0.0</td>\n",
       "      <td>0.0</td>\n",
       "      <td>0.0</td>\n",
       "      <td>0.0</td>\n",
       "      <td>0.0</td>\n",
       "      <td>0.0</td>\n",
       "    </tr>\n",
       "    <tr>\n",
       "      <th>37083</th>\n",
       "      <td>0.0</td>\n",
       "      <td>0.0</td>\n",
       "      <td>0.0</td>\n",
       "      <td>0.0</td>\n",
       "      <td>0.0</td>\n",
       "      <td>0.0</td>\n",
       "      <td>0.0</td>\n",
       "      <td>0.0</td>\n",
       "      <td>0.0</td>\n",
       "      <td>0.0</td>\n",
       "      <td>...</td>\n",
       "      <td>0.0</td>\n",
       "      <td>0.0</td>\n",
       "      <td>0.0</td>\n",
       "      <td>0.0</td>\n",
       "      <td>0.0</td>\n",
       "      <td>0.0</td>\n",
       "      <td>0.0</td>\n",
       "      <td>0.0</td>\n",
       "      <td>0.0</td>\n",
       "      <td>0.0</td>\n",
       "    </tr>\n",
       "  </tbody>\n",
       "</table>\n",
       "<p>8400 rows × 784 columns</p>\n",
       "</div>"
      ],
      "text/plain": [
       "       pixel0  pixel1  pixel2  pixel3  pixel4  pixel5  pixel6  pixel7  pixel8  \\\n",
       "21028     0.0     0.0     0.0     0.0     0.0     0.0     0.0     0.0     0.0   \n",
       "35662     0.0     0.0     0.0     0.0     0.0     0.0     0.0     0.0     0.0   \n",
       "7969      0.0     0.0     0.0     0.0     0.0     0.0     0.0     0.0     0.0   \n",
       "16537     0.0     0.0     0.0     0.0     0.0     0.0     0.0     0.0     0.0   \n",
       "36659     0.0     0.0     0.0     0.0     0.0     0.0     0.0     0.0     0.0   \n",
       "...       ...     ...     ...     ...     ...     ...     ...     ...     ...   \n",
       "30270     0.0     0.0     0.0     0.0     0.0     0.0     0.0     0.0     0.0   \n",
       "37287     0.0     0.0     0.0     0.0     0.0     0.0     0.0     0.0     0.0   \n",
       "11102     0.0     0.0     0.0     0.0     0.0     0.0     0.0     0.0     0.0   \n",
       "3335      0.0     0.0     0.0     0.0     0.0     0.0     0.0     0.0     0.0   \n",
       "37083     0.0     0.0     0.0     0.0     0.0     0.0     0.0     0.0     0.0   \n",
       "\n",
       "       pixel9  ...  pixel774  pixel775  pixel776  pixel777  pixel778  \\\n",
       "21028     0.0  ...       0.0       0.0       0.0       0.0       0.0   \n",
       "35662     0.0  ...       0.0       0.0       0.0       0.0       0.0   \n",
       "7969      0.0  ...       0.0       0.0       0.0       0.0       0.0   \n",
       "16537     0.0  ...       0.0       0.0       0.0       0.0       0.0   \n",
       "36659     0.0  ...       0.0       0.0       0.0       0.0       0.0   \n",
       "...       ...  ...       ...       ...       ...       ...       ...   \n",
       "30270     0.0  ...       0.0       0.0       0.0       0.0       0.0   \n",
       "37287     0.0  ...       0.0       0.0       0.0       0.0       0.0   \n",
       "11102     0.0  ...       0.0       0.0       0.0       0.0       0.0   \n",
       "3335      0.0  ...       0.0       0.0       0.0       0.0       0.0   \n",
       "37083     0.0  ...       0.0       0.0       0.0       0.0       0.0   \n",
       "\n",
       "       pixel779  pixel780  pixel781  pixel782  pixel783  \n",
       "21028       0.0       0.0       0.0       0.0       0.0  \n",
       "35662       0.0       0.0       0.0       0.0       0.0  \n",
       "7969        0.0       0.0       0.0       0.0       0.0  \n",
       "16537       0.0       0.0       0.0       0.0       0.0  \n",
       "36659       0.0       0.0       0.0       0.0       0.0  \n",
       "...         ...       ...       ...       ...       ...  \n",
       "30270       0.0       0.0       0.0       0.0       0.0  \n",
       "37287       0.0       0.0       0.0       0.0       0.0  \n",
       "11102       0.0       0.0       0.0       0.0       0.0  \n",
       "3335        0.0       0.0       0.0       0.0       0.0  \n",
       "37083       0.0       0.0       0.0       0.0       0.0  \n",
       "\n",
       "[8400 rows x 784 columns]"
      ]
     },
     "execution_count": 22,
     "metadata": {},
     "output_type": "execute_result"
    }
   ],
   "source": [
    "X_test"
   ]
  },
  {
   "cell_type": "markdown",
   "id": "e1ef738f",
   "metadata": {
    "papermill": {
     "duration": 0.076059,
     "end_time": "2021-11-25T03:04:27.555600",
     "exception": false,
     "start_time": "2021-11-25T03:04:27.479541",
     "status": "completed"
    },
    "tags": []
   },
   "source": [
    "# Reshaping"
   ]
  },
  {
   "cell_type": "code",
   "execution_count": 23,
   "id": "c693f83f",
   "metadata": {
    "execution": {
     "iopub.execute_input": "2021-11-25T03:04:27.713663Z",
     "iopub.status.busy": "2021-11-25T03:04:27.711523Z",
     "iopub.status.idle": "2021-11-25T03:04:27.716680Z",
     "shell.execute_reply": "2021-11-25T03:04:27.716228Z",
     "shell.execute_reply.started": "2021-11-25T01:42:46.319395Z"
    },
    "papermill": {
     "duration": 0.084965,
     "end_time": "2021-11-25T03:04:27.716814",
     "exception": false,
     "start_time": "2021-11-25T03:04:27.631849",
     "status": "completed"
    },
    "tags": []
   },
   "outputs": [],
   "source": [
    "\n",
    "X_train = X_train.values.reshape( -1 , 28 , 28 , 1)\n",
    "X_test = X_test.values.reshape( -1 , 28 , 28 , 1)"
   ]
  },
  {
   "cell_type": "code",
   "execution_count": 24,
   "id": "d235f67c",
   "metadata": {
    "execution": {
     "iopub.execute_input": "2021-11-25T03:04:27.874636Z",
     "iopub.status.busy": "2021-11-25T03:04:27.874037Z",
     "iopub.status.idle": "2021-11-25T03:04:27.877365Z",
     "shell.execute_reply": "2021-11-25T03:04:27.877911Z",
     "shell.execute_reply.started": "2021-11-25T01:42:46.325953Z"
    },
    "papermill": {
     "duration": 0.084448,
     "end_time": "2021-11-25T03:04:27.878084",
     "exception": false,
     "start_time": "2021-11-25T03:04:27.793636",
     "status": "completed"
    },
    "tags": []
   },
   "outputs": [
    {
     "data": {
      "text/plain": [
       "(33600, 28, 28, 1)"
      ]
     },
     "execution_count": 24,
     "metadata": {},
     "output_type": "execute_result"
    }
   ],
   "source": [
    "X_train.shape"
   ]
  },
  {
   "cell_type": "code",
   "execution_count": 25,
   "id": "5bce122f",
   "metadata": {
    "execution": {
     "iopub.execute_input": "2021-11-25T03:04:28.036893Z",
     "iopub.status.busy": "2021-11-25T03:04:28.034579Z",
     "iopub.status.idle": "2021-11-25T03:04:28.039333Z",
     "shell.execute_reply": "2021-11-25T03:04:28.039755Z",
     "shell.execute_reply.started": "2021-11-25T01:42:46.338992Z"
    },
    "papermill": {
     "duration": 0.085107,
     "end_time": "2021-11-25T03:04:28.039929",
     "exception": false,
     "start_time": "2021-11-25T03:04:27.954822",
     "status": "completed"
    },
    "tags": []
   },
   "outputs": [
    {
     "data": {
      "text/plain": [
       "(8400, 28, 28, 1)"
      ]
     },
     "execution_count": 25,
     "metadata": {},
     "output_type": "execute_result"
    }
   ],
   "source": [
    "X_test.shape"
   ]
  },
  {
   "cell_type": "code",
   "execution_count": 26,
   "id": "3c13138c",
   "metadata": {
    "execution": {
     "iopub.execute_input": "2021-11-25T03:04:28.197905Z",
     "iopub.status.busy": "2021-11-25T03:04:28.197325Z",
     "iopub.status.idle": "2021-11-25T03:04:28.413685Z",
     "shell.execute_reply": "2021-11-25T03:04:28.414263Z",
     "shell.execute_reply.started": "2021-11-25T01:42:46.350295Z"
    },
    "papermill": {
     "duration": 0.296976,
     "end_time": "2021-11-25T03:04:28.414427",
     "exception": false,
     "start_time": "2021-11-25T03:04:28.117451",
     "status": "completed"
    },
    "tags": []
   },
   "outputs": [
    {
     "data": {
      "text/plain": [
       "<matplotlib.image.AxesImage at 0x7f1323422ed0>"
      ]
     },
     "execution_count": 26,
     "metadata": {},
     "output_type": "execute_result"
    },
    {
     "data": {
      "image/png": "[encoded data removed]",
      "text/plain": [
       "<Figure size 432x288 with 1 Axes>"
      ]
     },
     "metadata": {
      "needs_background": "light"
     },
     "output_type": "display_data"
    }
   ],
   "source": [
    "plt.imshow(X_train[10],cmap='gray')"
   ]
  },
  {
   "cell_type": "code",
   "execution_count": 27,
   "id": "4a366c0d",
   "metadata": {
    "execution": {
     "iopub.execute_input": "2021-11-25T03:04:28.575808Z",
     "iopub.status.busy": "2021-11-25T03:04:28.574889Z",
     "iopub.status.idle": "2021-11-25T03:04:28.761352Z",
     "shell.execute_reply": "2021-11-25T03:04:28.760826Z",
     "shell.execute_reply.started": "2021-11-25T01:42:46.548015Z"
    },
    "papermill": {
     "duration": 0.269202,
     "end_time": "2021-11-25T03:04:28.761496",
     "exception": false,
     "start_time": "2021-11-25T03:04:28.492294",
     "status": "completed"
    },
    "tags": []
   },
   "outputs": [
    {
     "data": {
      "text/plain": [
       "<matplotlib.image.AxesImage at 0x7f1322cf8710>"
      ]
     },
     "execution_count": 27,
     "metadata": {},
     "output_type": "execute_result"
    },
    {
     "data": {
      "image/png": "[encoded data removed]",
      "text/plain": [
       "<Figure size 432x288 with 1 Axes>"
      ]
     },
     "metadata": {
      "needs_background": "light"
     },
     "output_type": "display_data"
    }
   ],
   "source": [
    "plt.imshow(X_train[100],cmap='gray')"
   ]
  },
  {
   "cell_type": "markdown",
   "id": "90cc641e",
   "metadata": {
    "papermill": {
     "duration": 0.077442,
     "end_time": "2021-11-25T03:04:28.918609",
     "exception": false,
     "start_time": "2021-11-25T03:04:28.841167",
     "status": "completed"
    },
    "tags": []
   },
   "source": [
    "# Model"
   ]
  },
  {
   "cell_type": "code",
   "execution_count": 28,
   "id": "7ffbf40c",
   "metadata": {
    "execution": {
     "iopub.execute_input": "2021-11-25T03:04:29.080407Z",
     "iopub.status.busy": "2021-11-25T03:04:29.079791Z",
     "iopub.status.idle": "2021-11-25T03:04:29.209393Z",
     "shell.execute_reply": "2021-11-25T03:04:29.210242Z",
     "shell.execute_reply.started": "2021-11-25T01:42:46.706464Z"
    },
    "papermill": {
     "duration": 0.212613,
     "end_time": "2021-11-25T03:04:29.210514",
     "exception": false,
     "start_time": "2021-11-25T03:04:28.997901",
     "status": "completed"
    },
    "tags": []
   },
   "outputs": [
    {
     "name": "stderr",
     "output_type": "stream",
     "text": [
      "\n",
      "User settings:\n",
      "\n",
      "   KMP_AFFINITY=granularity=fine,verbose,compact,1,0\n",
      "   KMP_BLOCKTIME=0\n",
      "   KMP_DUPLICATE_LIB_OK=True\n",
      "   KMP_INIT_AT_FORK=FALSE\n",
      "   KMP_SETTINGS=1\n",
      "   KMP_WARNINGS=0\n",
      "\n",
      "Effective settings:\n",
      "\n",
      "   KMP_ABORT_DELAY=0\n",
      "   KMP_ADAPTIVE_LOCK_PROPS='1,1024'\n",
      "   KMP_ALIGN_ALLOC=64\n",
      "   KMP_ALL_THREADPRIVATE=128\n",
      "   KMP_ATOMIC_MODE=2\n",
      "   KMP_BLOCKTIME=0\n",
      "   KMP_CPUINFO_FILE: value is not defined\n",
      "   KMP_DETERMINISTIC_REDUCTION=false\n",
      "   KMP_DEVICE_THREAD_LIMIT=2147483647\n",
      "   KMP_DISP_NUM_BUFFERS=7\n",
      "   KMP_DUPLICATE_LIB_OK=true\n",
      "   KMP_ENABLE_TASK_THROTTLING=true\n",
      "   KMP_FORCE_REDUCTION: value is not defined\n",
      "   KMP_FOREIGN_THREADS_THREADPRIVATE=true\n",
      "   KMP_FORKJOIN_BARRIER='2,2'\n",
      "   KMP_FORKJOIN_BARRIER_PATTERN='hyper,hyper'\n",
      "   KMP_GTID_MODE=3\n",
      "   KMP_HANDLE_SIGNALS=false\n",
      "   KMP_HOT_TEAMS_MAX_LEVEL=1\n",
      "   KMP_HOT_TEAMS_MODE=0\n",
      "   KMP_INIT_AT_FORK=true\n",
      "   KMP_LIBRARY=throughput\n",
      "   KMP_LOCK_KIND=queuing\n",
      "   KMP_MALLOC_POOL_INCR=1M\n",
      "   KMP_NUM_LOCKS_IN_BLOCK=1\n",
      "   KMP_PLAIN_BARRIER='2,2'\n",
      "   KMP_PLAIN_BARRIER_PATTERN='hyper,hyper'\n",
      "   KMP_REDUCTION_BARRIER='1,1'\n",
      "   KMP_REDUCTION_BARRIER_PATTERN='hyper,hyper'\n",
      "   KMP_SCHEDULE='static,balanced;guided,iterative'\n",
      "   KMP_SETTINGS=true\n",
      "   KMP_SPIN_BACKOFF_PARAMS='4096,100'\n",
      "   KMP_STACKOFFSET=64\n",
      "   KMP_STACKPAD=0\n",
      "   KMP_STACKSIZE=8M\n",
      "   KMP_STORAGE_MAP=false\n",
      "   KMP_TASKING=2\n",
      "   KMP_TASKLOOP_MIN_TASKS=0\n",
      "   KMP_TASK_STEALING_CONSTRAINT=1\n",
      "   KMP_TEAMS_THREAD_LIMIT=4\n",
      "   KMP_TOPOLOGY_METHOD=all\n",
      "   KMP_USE_YIELD=1\n",
      "   KMP_VERSION=false\n",
      "   KMP_WARNINGS=false\n",
      "   OMP_AFFINITY_FORMAT='OMP: pid %P tid %i thread %n bound to OS proc set {%A}'\n",
      "   OMP_ALLOCATOR=omp_default_mem_alloc\n",
      "   OMP_CANCELLATION=false\n",
      "   OMP_DEFAULT_DEVICE=0\n",
      "   OMP_DISPLAY_AFFINITY=false\n",
      "   OMP_DISPLAY_ENV=false\n",
      "   OMP_DYNAMIC=false\n",
      "   OMP_MAX_ACTIVE_LEVELS=1\n",
      "   OMP_MAX_TASK_PRIORITY=0\n",
      "   OMP_NESTED: deprecated; max-active-levels-var=1\n",
      "   OMP_NUM_THREADS: value is not defined\n",
      "   OMP_PLACES: value is not defined\n",
      "   OMP_PROC_BIND='intel'\n",
      "   OMP_SCHEDULE='static'\n",
      "   OMP_STACKSIZE=8M\n",
      "   OMP_TARGET_OFFLOAD=DEFAULT\n",
      "   OMP_THREAD_LIMIT=2147483647\n",
      "   OMP_WAIT_POLICY=PASSIVE\n",
      "   KMP_AFFINITY='verbose,warnings,respect,granularity=fine,compact,1,0'\n",
      "\n",
      "2021-11-25 03:04:29.116678: I tensorflow/core/common_runtime/process_util.cc:146] Creating new thread pool with default inter op setting: 2. Tune using inter_op_parallelism_threads for best performance.\n"
     ]
    }
   ],
   "source": [
    "#Sequential API\n",
    "model = Sequential()\n",
    "#Convolutional layer\n",
    "model.add(Conv2D(filters=32,kernel_size=(4,4),input_shape=(28,28,1),activation='relu'))\n",
    "# Pooling layer\n",
    "model.add(MaxPool2D(pool_size=(2,2)))\n",
    "model.add(Flatten())    \n",
    "model.add(Dense(128,activation='relu'))\n",
    "#output layer multiclass hence softmax layer\n",
    "model.add(Dense(10,activation='softmax'))"
   ]
  },
  {
   "cell_type": "code",
   "execution_count": 29,
   "id": "db932741",
   "metadata": {
    "execution": {
     "iopub.execute_input": "2021-11-25T03:04:29.374639Z",
     "iopub.status.busy": "2021-11-25T03:04:29.374009Z",
     "iopub.status.idle": "2021-11-25T03:04:29.384241Z",
     "shell.execute_reply": "2021-11-25T03:04:29.383708Z",
     "shell.execute_reply.started": "2021-11-25T01:42:46.859191Z"
    },
    "papermill": {
     "duration": 0.093815,
     "end_time": "2021-11-25T03:04:29.384380",
     "exception": false,
     "start_time": "2021-11-25T03:04:29.290565",
     "status": "completed"
    },
    "tags": []
   },
   "outputs": [],
   "source": [
    "model.compile(loss='categorical_crossentropy',optimizer='adam',metrics=['accuracy'])"
   ]
  },
  {
   "cell_type": "code",
   "execution_count": 30,
   "id": "45ff13f1",
   "metadata": {
    "execution": {
     "iopub.execute_input": "2021-11-25T03:04:29.546051Z",
     "iopub.status.busy": "2021-11-25T03:04:29.545376Z",
     "iopub.status.idle": "2021-11-25T03:04:29.547445Z",
     "shell.execute_reply": "2021-11-25T03:04:29.547972Z",
     "shell.execute_reply.started": "2021-11-25T01:42:46.876405Z"
    },
    "papermill": {
     "duration": 0.085362,
     "end_time": "2021-11-25T03:04:29.548138",
     "exception": false,
     "start_time": "2021-11-25T03:04:29.462776",
     "status": "completed"
    },
    "tags": []
   },
   "outputs": [],
   "source": [
    "early_stop = EarlyStopping(monitor='value_loss',patience=1)"
   ]
  },
  {
   "cell_type": "code",
   "execution_count": 31,
   "id": "04ff39d5",
   "metadata": {
    "execution": {
     "iopub.execute_input": "2021-11-25T03:04:29.709734Z",
     "iopub.status.busy": "2021-11-25T03:04:29.709192Z",
     "iopub.status.idle": "2021-11-25T03:05:38.399946Z",
     "shell.execute_reply": "2021-11-25T03:05:38.400433Z",
     "shell.execute_reply.started": "2021-11-25T01:42:46.882299Z"
    },
    "papermill": {
     "duration": 68.773614,
     "end_time": "2021-11-25T03:05:38.400605",
     "exception": false,
     "start_time": "2021-11-25T03:04:29.626991",
     "status": "completed"
    },
    "tags": []
   },
   "outputs": [
    {
     "name": "stderr",
     "output_type": "stream",
     "text": [
      "2021-11-25 03:04:29.965215: I tensorflow/compiler/mlir/mlir_graph_optimization_pass.cc:185] None of the MLIR Optimization Passes are enabled (registered 2)\n"
     ]
    },
    {
     "name": "stdout",
     "output_type": "stream",
     "text": [
      "Epoch 1/10\n",
      "1050/1050 [==============================] - 8s 7ms/step - loss: 0.1916 - accuracy: 0.9438 - val_loss: 0.0913 - val_accuracy: 0.9738\n",
      "Epoch 2/10\n",
      "1050/1050 [==============================] - 7s 7ms/step - loss: 0.0578 - accuracy: 0.9821 - val_loss: 0.0674 - val_accuracy: 0.9785\n",
      "Epoch 3/10\n",
      "1050/1050 [==============================] - 7s 6ms/step - loss: 0.0366 - accuracy: 0.9887 - val_loss: 0.0600 - val_accuracy: 0.9819\n",
      "Epoch 4/10\n",
      "1050/1050 [==============================] - 6s 6ms/step - loss: 0.0247 - accuracy: 0.9926 - val_loss: 0.0585 - val_accuracy: 0.9837\n",
      "Epoch 5/10\n",
      "1050/1050 [==============================] - 7s 6ms/step - loss: 0.0174 - accuracy: 0.9945 - val_loss: 0.0583 - val_accuracy: 0.9811\n",
      "Epoch 6/10\n",
      "1050/1050 [==============================] - 7s 6ms/step - loss: 0.0122 - accuracy: 0.9961 - val_loss: 0.0521 - val_accuracy: 0.9855\n",
      "Epoch 7/10\n",
      "1050/1050 [==============================] - 7s 7ms/step - loss: 0.0101 - accuracy: 0.9966 - val_loss: 0.0579 - val_accuracy: 0.9851\n",
      "Epoch 8/10\n",
      "1050/1050 [==============================] - 7s 6ms/step - loss: 0.0074 - accuracy: 0.9977 - val_loss: 0.0602 - val_accuracy: 0.9864\n",
      "Epoch 9/10\n",
      "1050/1050 [==============================] - 7s 6ms/step - loss: 0.0070 - accuracy: 0.9979 - val_loss: 0.0617 - val_accuracy: 0.9861\n",
      "Epoch 10/10\n",
      "1050/1050 [==============================] - 6s 6ms/step - loss: 0.0051 - accuracy: 0.9984 - val_loss: 0.0786 - val_accuracy: 0.9838\n"
     ]
    },
    {
     "data": {
      "text/plain": [
       "<keras.callbacks.History at 0x7f1323895d10>"
      ]
     },
     "execution_count": 31,
     "metadata": {},
     "output_type": "execute_result"
    }
   ],
   "source": [
    "model.fit(X_train,y_train,epochs=10,validation_data=(X_test,y_test),callbacks=[early_stop])"
   ]
  },
  {
   "cell_type": "markdown",
   "id": "9dc93a3f",
   "metadata": {
    "papermill": {
     "duration": 0.354226,
     "end_time": "2021-11-25T03:05:39.115428",
     "exception": false,
     "start_time": "2021-11-25T03:05:38.761202",
     "status": "completed"
    },
    "tags": []
   },
   "source": [
    "# Evaluation"
   ]
  },
  {
   "cell_type": "code",
   "execution_count": 32,
   "id": "87840dff",
   "metadata": {
    "execution": {
     "iopub.execute_input": "2021-11-25T03:05:39.828314Z",
     "iopub.status.busy": "2021-11-25T03:05:39.827688Z",
     "iopub.status.idle": "2021-11-25T03:05:39.829931Z",
     "shell.execute_reply": "2021-11-25T03:05:39.830413Z",
     "shell.execute_reply.started": "2021-11-25T01:43:59.241061Z"
    },
    "papermill": {
     "duration": 0.360686,
     "end_time": "2021-11-25T03:05:39.830568",
     "exception": false,
     "start_time": "2021-11-25T03:05:39.469882",
     "status": "completed"
    },
    "tags": []
   },
   "outputs": [],
   "source": [
    "metrics = pd.DataFrame(model.history.history)"
   ]
  },
  {
   "cell_type": "code",
   "execution_count": 33,
   "id": "760a2496",
   "metadata": {
    "execution": {
     "iopub.execute_input": "2021-11-25T03:05:40.542963Z",
     "iopub.status.busy": "2021-11-25T03:05:40.542311Z",
     "iopub.status.idle": "2021-11-25T03:05:40.791700Z",
     "shell.execute_reply": "2021-11-25T03:05:40.791204Z",
     "shell.execute_reply.started": "2021-11-25T01:43:59.249290Z"
    },
    "papermill": {
     "duration": 0.605133,
     "end_time": "2021-11-25T03:05:40.791830",
     "exception": false,
     "start_time": "2021-11-25T03:05:40.186697",
     "status": "completed"
    },
    "tags": []
   },
   "outputs": [
    {
     "data": {
      "text/plain": [
       "<AxesSubplot:>"
      ]
     },
     "execution_count": 33,
     "metadata": {},
     "output_type": "execute_result"
    },
    {
     "data": {
      "image/png": "[encoded data removed]",
      "text/plain": [
       "<Figure size 432x288 with 1 Axes>"
      ]
     },
     "metadata": {
      "needs_background": "light"
     },
     "output_type": "display_data"
    }
   ],
   "source": [
    "metrics[[\"loss\",\"val_loss\"]].plot()"
   ]
  },
  {
   "cell_type": "code",
   "execution_count": 34,
   "id": "ce996f70",
   "metadata": {
    "execution": {
     "iopub.execute_input": "2021-11-25T03:05:41.517185Z",
     "iopub.status.busy": "2021-11-25T03:05:41.516225Z",
     "iopub.status.idle": "2021-11-25T03:05:41.730939Z",
     "shell.execute_reply": "2021-11-25T03:05:41.730234Z",
     "shell.execute_reply.started": "2021-11-25T01:43:59.533286Z"
    },
    "papermill": {
     "duration": 0.578701,
     "end_time": "2021-11-25T03:05:41.731081",
     "exception": false,
     "start_time": "2021-11-25T03:05:41.152380",
     "status": "completed"
    },
    "tags": []
   },
   "outputs": [
    {
     "data": {
      "text/plain": [
       "<AxesSubplot:>"
      ]
     },
     "execution_count": 34,
     "metadata": {},
     "output_type": "execute_result"
    },
    {
     "data": {
      "image/png": "[encoded data removed]",
      "text/plain": [
       "<Figure size 432x288 with 1 Axes>"
      ]
     },
     "metadata": {
      "needs_background": "light"
     },
     "output_type": "display_data"
    }
   ],
   "source": [
    "metrics[[\"accuracy\",\"val_accuracy\"]].plot()"
   ]
  },
  {
   "cell_type": "code",
   "execution_count": 35,
   "id": "31cd3c94",
   "metadata": {
    "execution": {
     "iopub.execute_input": "2021-11-25T03:05:42.484343Z",
     "iopub.status.busy": "2021-11-25T03:05:42.483696Z",
     "iopub.status.idle": "2021-11-25T03:05:42.488549Z",
     "shell.execute_reply": "2021-11-25T03:05:42.489087Z",
     "shell.execute_reply.started": "2021-11-25T01:43:59.801870Z"
    },
    "papermill": {
     "duration": 0.40067,
     "end_time": "2021-11-25T03:05:42.489247",
     "exception": false,
     "start_time": "2021-11-25T03:05:42.088577",
     "status": "completed"
    },
    "tags": []
   },
   "outputs": [
    {
     "data": {
      "text/plain": [
       "['loss', 'accuracy']"
      ]
     },
     "execution_count": 35,
     "metadata": {},
     "output_type": "execute_result"
    }
   ],
   "source": [
    "model.metrics_names"
   ]
  },
  {
   "cell_type": "code",
   "execution_count": 36,
   "id": "409d6e7f",
   "metadata": {
    "execution": {
     "iopub.execute_input": "2021-11-25T03:05:43.205439Z",
     "iopub.status.busy": "2021-11-25T03:05:43.204814Z",
     "iopub.status.idle": "2021-11-25T03:05:43.738699Z",
     "shell.execute_reply": "2021-11-25T03:05:43.739198Z",
     "shell.execute_reply.started": "2021-11-25T01:43:59.810847Z"
    },
    "papermill": {
     "duration": 0.893376,
     "end_time": "2021-11-25T03:05:43.739370",
     "exception": false,
     "start_time": "2021-11-25T03:05:42.845994",
     "status": "completed"
    },
    "tags": []
   },
   "outputs": [
    {
     "data": {
      "text/plain": [
       "[0.07859460264444351, 0.9838095307350159]"
      ]
     },
     "execution_count": 36,
     "metadata": {},
     "output_type": "execute_result"
    }
   ],
   "source": [
    "model.evaluate(X_test,y_test,verbose=0)"
   ]
  },
  {
   "cell_type": "code",
   "execution_count": 37,
   "id": "f6388636",
   "metadata": {
    "execution": {
     "iopub.execute_input": "2021-11-25T03:05:44.457843Z",
     "iopub.status.busy": "2021-11-25T03:05:44.456922Z",
     "iopub.status.idle": "2021-11-25T03:05:45.040696Z",
     "shell.execute_reply": "2021-11-25T03:05:45.041274Z",
     "shell.execute_reply.started": "2021-11-25T01:44:00.447325Z"
    },
    "papermill": {
     "duration": 0.94497,
     "end_time": "2021-11-25T03:05:45.041462",
     "exception": false,
     "start_time": "2021-11-25T03:05:44.096492",
     "status": "completed"
    },
    "tags": []
   },
   "outputs": [],
   "source": [
    "preds = model.predict(X_test)"
   ]
  },
  {
   "cell_type": "code",
   "execution_count": 38,
   "id": "6126f753",
   "metadata": {
    "execution": {
     "iopub.execute_input": "2021-11-25T03:05:45.794161Z",
     "iopub.status.busy": "2021-11-25T03:05:45.793261Z",
     "iopub.status.idle": "2021-11-25T03:05:45.799108Z",
     "shell.execute_reply": "2021-11-25T03:05:45.799598Z",
     "shell.execute_reply.started": "2021-11-25T01:44:01.107913Z"
    },
    "papermill": {
     "duration": 0.394292,
     "end_time": "2021-11-25T03:05:45.799759",
     "exception": false,
     "start_time": "2021-11-25T03:05:45.405467",
     "status": "completed"
    },
    "tags": []
   },
   "outputs": [
    {
     "data": {
      "text/plain": [
       "array([[1.17454078e-15, 1.88444264e-16, 1.04599031e-22, ...,\n",
       "        1.16949905e-20, 5.29802591e-10, 2.12970787e-12],\n",
       "       [1.00000000e+00, 3.56580203e-15, 1.61989533e-10, ...,\n",
       "        8.01508992e-14, 7.26821424e-12, 6.25249592e-12],\n",
       "       [4.63553405e-17, 1.36049670e-15, 1.00000000e+00, ...,\n",
       "        2.17585699e-10, 4.58009221e-11, 7.69210058e-18],\n",
       "       ...,\n",
       "       [3.45160132e-14, 5.76222625e-10, 5.73438554e-11, ...,\n",
       "        8.12781309e-09, 9.98573899e-01, 3.50686310e-06],\n",
       "       [9.19182197e-15, 2.59113675e-10, 6.13834118e-07, ...,\n",
       "        9.99999046e-01, 2.82369549e-12, 3.05116828e-07],\n",
       "       [3.05934423e-13, 6.44428807e-16, 1.43264692e-10, ...,\n",
       "        3.01421295e-07, 2.36267650e-09, 9.99963045e-01]], dtype=float32)"
      ]
     },
     "execution_count": 38,
     "metadata": {},
     "output_type": "execute_result"
    }
   ],
   "source": [
    "preds"
   ]
  },
  {
   "cell_type": "code",
   "execution_count": 39,
   "id": "629670ed",
   "metadata": {
    "execution": {
     "iopub.execute_input": "2021-11-25T03:05:46.533442Z",
     "iopub.status.busy": "2021-11-25T03:05:46.532494Z",
     "iopub.status.idle": "2021-11-25T03:05:46.535071Z",
     "shell.execute_reply": "2021-11-25T03:05:46.534477Z",
     "shell.execute_reply.started": "2021-11-25T01:44:01.116197Z"
    },
    "papermill": {
     "duration": 0.367726,
     "end_time": "2021-11-25T03:05:46.535205",
     "exception": false,
     "start_time": "2021-11-25T03:05:46.167479",
     "status": "completed"
    },
    "tags": []
   },
   "outputs": [],
   "source": [
    "preds = preds.astype('int32')"
   ]
  },
  {
   "cell_type": "code",
   "execution_count": 40,
   "id": "54d4a282",
   "metadata": {
    "execution": {
     "iopub.execute_input": "2021-11-25T03:05:47.304805Z",
     "iopub.status.busy": "2021-11-25T03:05:47.304109Z",
     "iopub.status.idle": "2021-11-25T03:05:47.307018Z",
     "shell.execute_reply": "2021-11-25T03:05:47.307453Z",
     "shell.execute_reply.started": "2021-11-25T01:44:01.128607Z"
    },
    "papermill": {
     "duration": 0.365201,
     "end_time": "2021-11-25T03:05:47.307605",
     "exception": false,
     "start_time": "2021-11-25T03:05:46.942404",
     "status": "completed"
    },
    "tags": []
   },
   "outputs": [
    {
     "data": {
      "text/plain": [
       "array([[0, 0, 0, ..., 0, 0, 0],\n",
       "       [1, 0, 0, ..., 0, 0, 0],\n",
       "       [0, 0, 1, ..., 0, 0, 0],\n",
       "       ...,\n",
       "       [0, 0, 0, ..., 0, 0, 0],\n",
       "       [0, 0, 0, ..., 0, 0, 0],\n",
       "       [0, 0, 0, ..., 0, 0, 0]], dtype=int32)"
      ]
     },
     "execution_count": 40,
     "metadata": {},
     "output_type": "execute_result"
    }
   ],
   "source": [
    "preds"
   ]
  },
  {
   "cell_type": "code",
   "execution_count": 41,
   "id": "7dbe2b47",
   "metadata": {
    "execution": {
     "iopub.execute_input": "2021-11-25T03:05:48.024590Z",
     "iopub.status.busy": "2021-11-25T03:05:48.023644Z",
     "iopub.status.idle": "2021-11-25T03:05:48.030577Z",
     "shell.execute_reply": "2021-11-25T03:05:48.030090Z",
     "shell.execute_reply.started": "2021-11-25T01:44:01.148905Z"
    },
    "papermill": {
     "duration": 0.368487,
     "end_time": "2021-11-25T03:05:48.030710",
     "exception": false,
     "start_time": "2021-11-25T03:05:47.662223",
     "status": "completed"
    },
    "tags": []
   },
   "outputs": [
    {
     "data": {
      "text/plain": [
       "array([[0., 0., 0., ..., 0., 0., 0.],\n",
       "       [1., 0., 0., ..., 0., 0., 0.],\n",
       "       [0., 0., 1., ..., 0., 0., 0.],\n",
       "       ...,\n",
       "       [0., 0., 0., ..., 0., 1., 0.],\n",
       "       [0., 0., 0., ..., 1., 0., 0.],\n",
       "       [0., 0., 0., ..., 0., 0., 1.]], dtype=float32)"
      ]
     },
     "execution_count": 41,
     "metadata": {},
     "output_type": "execute_result"
    }
   ],
   "source": [
    "y_test"
   ]
  },
  {
   "cell_type": "code",
   "execution_count": 42,
   "id": "7366c851",
   "metadata": {
    "execution": {
     "iopub.execute_input": "2021-11-25T03:05:48.756140Z",
     "iopub.status.busy": "2021-11-25T03:05:48.755313Z",
     "iopub.status.idle": "2021-11-25T03:05:48.788207Z",
     "shell.execute_reply": "2021-11-25T03:05:48.788871Z",
     "shell.execute_reply.started": "2021-11-25T01:44:01.157953Z"
    },
    "papermill": {
     "duration": 0.395917,
     "end_time": "2021-11-25T03:05:48.789130",
     "exception": false,
     "start_time": "2021-11-25T03:05:48.393213",
     "status": "completed"
    },
    "tags": []
   },
   "outputs": [
    {
     "name": "stdout",
     "output_type": "stream",
     "text": [
      "              precision    recall  f1-score   support\n",
      "\n",
      "           0       1.00      0.58      0.73       845\n",
      "           1       1.00      0.38      0.55       920\n",
      "           2       1.00      0.38      0.56       801\n",
      "           3       1.00      0.56      0.72       823\n",
      "           4       1.00      0.63      0.77       795\n",
      "           5       1.00      0.60      0.75       807\n",
      "           6       1.00      0.60      0.75       840\n",
      "           7       1.00      0.26      0.41       869\n",
      "           8       1.00      0.59      0.74       843\n",
      "           9       1.00      0.25      0.40       857\n",
      "\n",
      "   micro avg       1.00      0.48      0.65      8400\n",
      "   macro avg       1.00      0.48      0.64      8400\n",
      "weighted avg       1.00      0.48      0.64      8400\n",
      " samples avg       0.48      0.48      0.48      8400\n",
      "\n"
     ]
    },
    {
     "name": "stderr",
     "output_type": "stream",
     "text": [
      "/opt/conda/lib/python3.7/site-packages/sklearn/metrics/_classification.py:1221: UndefinedMetricWarning: Precision and F-score are ill-defined and being set to 0.0 in samples with no predicted labels. Use `zero_division` parameter to control this behavior.\n",
      "  _warn_prf(average, modifier, msg_start, len(result))\n"
     ]
    }
   ],
   "source": [
    "print(classification_report(y_test, preds))"
   ]
  },
  {
   "cell_type": "code",
   "execution_count": 43,
   "id": "5f3cf2f7",
   "metadata": {
    "execution": {
     "iopub.execute_input": "2021-11-25T03:05:49.510121Z",
     "iopub.status.busy": "2021-11-25T03:05:49.509503Z",
     "iopub.status.idle": "2021-11-25T03:05:50.064503Z",
     "shell.execute_reply": "2021-11-25T03:05:50.065481Z",
     "shell.execute_reply.started": "2021-11-25T01:44:01.200035Z"
    },
    "papermill": {
     "duration": 0.91565,
     "end_time": "2021-11-25T03:05:50.065699",
     "exception": false,
     "start_time": "2021-11-25T03:05:49.150049",
     "status": "completed"
    },
    "tags": []
   },
   "outputs": [
    {
     "name": "stdout",
     "output_type": "stream",
     "text": [
      "validation loss: 0.07859460264444351\n",
      "validation accuracy: 0.9838095307350159\n"
     ]
    }
   ],
   "source": [
    "model_score = model.evaluate(X_test, y_test, verbose=0)\n",
    "print('validation loss:', model_score[0])\n",
    "print('validation accuracy:', model_score[1])"
   ]
  },
  {
   "cell_type": "markdown",
   "id": "bd6aaf17",
   "metadata": {
    "papermill": {
     "duration": 0.357405,
     "end_time": "2021-11-25T03:05:50.783943",
     "exception": false,
     "start_time": "2021-11-25T03:05:50.426538",
     "status": "completed"
    },
    "tags": []
   },
   "source": [
    "# Test data"
   ]
  },
  {
   "cell_type": "code",
   "execution_count": 44,
   "id": "fae34eeb",
   "metadata": {
    "execution": {
     "iopub.execute_input": "2021-11-25T03:05:51.504137Z",
     "iopub.status.busy": "2021-11-25T03:05:51.503198Z",
     "iopub.status.idle": "2021-11-25T03:05:53.306285Z",
     "shell.execute_reply": "2021-11-25T03:05:53.306829Z",
     "shell.execute_reply.started": "2021-11-25T01:44:01.832891Z"
    },
    "papermill": {
     "duration": 2.165017,
     "end_time": "2021-11-25T03:05:53.307025",
     "exception": false,
     "start_time": "2021-11-25T03:05:51.142008",
     "status": "completed"
    },
    "tags": []
   },
   "outputs": [
    {
     "data": {
      "text/plain": [
       "(28000, 784)"
      ]
     },
     "execution_count": 44,
     "metadata": {},
     "output_type": "execute_result"
    }
   ],
   "source": [
    "test_data = pd.read_csv(\"/kaggle/input/digit-recognizer/test.csv\")\n",
    "test_data.shape"
   ]
  },
  {
   "cell_type": "code",
   "execution_count": 45,
   "id": "cbb2403a",
   "metadata": {
    "execution": {
     "iopub.execute_input": "2021-11-25T03:05:54.061912Z",
     "iopub.status.busy": "2021-11-25T03:05:54.060983Z",
     "iopub.status.idle": "2021-11-25T03:05:54.114654Z",
     "shell.execute_reply": "2021-11-25T03:05:54.113884Z",
     "shell.execute_reply.started": "2021-11-25T01:44:03.976590Z"
    },
    "papermill": {
     "duration": 0.420055,
     "end_time": "2021-11-25T03:05:54.114793",
     "exception": false,
     "start_time": "2021-11-25T03:05:53.694738",
     "status": "completed"
    },
    "tags": []
   },
   "outputs": [],
   "source": [
    "test_data = test_data / 255"
   ]
  },
  {
   "cell_type": "code",
   "execution_count": 46,
   "id": "49772fc5",
   "metadata": {
    "execution": {
     "iopub.execute_input": "2021-11-25T03:05:54.842508Z",
     "iopub.status.busy": "2021-11-25T03:05:54.841734Z",
     "iopub.status.idle": "2021-11-25T03:05:54.844498Z",
     "shell.execute_reply": "2021-11-25T03:05:54.844019Z",
     "shell.execute_reply.started": "2021-11-25T01:44:04.029847Z"
    },
    "papermill": {
     "duration": 0.369312,
     "end_time": "2021-11-25T03:05:54.844630",
     "exception": false,
     "start_time": "2021-11-25T03:05:54.475318",
     "status": "completed"
    },
    "tags": []
   },
   "outputs": [],
   "source": [
    "test_data = test_data.values.reshape( -1 , 28 , 28 , 1)"
   ]
  },
  {
   "cell_type": "code",
   "execution_count": 47,
   "id": "9977d0ef",
   "metadata": {
    "execution": {
     "iopub.execute_input": "2021-11-25T03:05:55.570771Z",
     "iopub.status.busy": "2021-11-25T03:05:55.570182Z",
     "iopub.status.idle": "2021-11-25T03:05:55.573816Z",
     "shell.execute_reply": "2021-11-25T03:05:55.574279Z",
     "shell.execute_reply.started": "2021-11-25T01:44:04.035687Z"
    },
    "papermill": {
     "duration": 0.367203,
     "end_time": "2021-11-25T03:05:55.574457",
     "exception": false,
     "start_time": "2021-11-25T03:05:55.207254",
     "status": "completed"
    },
    "tags": []
   },
   "outputs": [
    {
     "data": {
      "text/plain": [
       "(28000, 28, 28, 1)"
      ]
     },
     "execution_count": 47,
     "metadata": {},
     "output_type": "execute_result"
    }
   ],
   "source": [
    "test_data.shape"
   ]
  },
  {
   "cell_type": "code",
   "execution_count": 48,
   "id": "327cb59c",
   "metadata": {
    "execution": {
     "iopub.execute_input": "2021-11-25T03:05:56.312645Z",
     "iopub.status.busy": "2021-11-25T03:05:56.306696Z",
     "iopub.status.idle": "2021-11-25T03:05:56.493965Z",
     "shell.execute_reply": "2021-11-25T03:05:56.493478Z",
     "shell.execute_reply.started": "2021-11-25T01:44:04.048498Z"
    },
    "papermill": {
     "duration": 0.560725,
     "end_time": "2021-11-25T03:05:56.494102",
     "exception": false,
     "start_time": "2021-11-25T03:05:55.933377",
     "status": "completed"
    },
    "tags": []
   },
   "outputs": [
    {
     "data": {
      "text/plain": [
       "<matplotlib.image.AxesImage at 0x7f12e830f150>"
      ]
     },
     "execution_count": 48,
     "metadata": {},
     "output_type": "execute_result"
    },
    {
     "data": {
      "image/png": "[encoded data removed]",
      "text/plain": [
       "<Figure size 432x288 with 1 Axes>"
      ]
     },
     "metadata": {
      "needs_background": "light"
     },
     "output_type": "display_data"
    }
   ],
   "source": [
    "plt.imshow(test_data[0],cmap='gray')"
   ]
  },
  {
   "cell_type": "code",
   "execution_count": 49,
   "id": "357ca21a",
   "metadata": {
    "execution": {
     "iopub.execute_input": "2021-11-25T03:05:57.228406Z",
     "iopub.status.busy": "2021-11-25T03:05:57.227727Z",
     "iopub.status.idle": "2021-11-25T03:05:57.421964Z",
     "shell.execute_reply": "2021-11-25T03:05:57.422372Z",
     "shell.execute_reply.started": "2021-11-25T01:44:04.262671Z"
    },
    "papermill": {
     "duration": 0.569803,
     "end_time": "2021-11-25T03:05:57.422553",
     "exception": false,
     "start_time": "2021-11-25T03:05:56.852750",
     "status": "completed"
    },
    "tags": []
   },
   "outputs": [
    {
     "data": {
      "text/plain": [
       "<matplotlib.image.AxesImage at 0x7f12e844c190>"
      ]
     },
     "execution_count": 49,
     "metadata": {},
     "output_type": "execute_result"
    },
    {
     "data": {
      "image/png": "[encoded data removed]",
      "text/plain": [
       "<Figure size 432x288 with 1 Axes>"
      ]
     },
     "metadata": {
      "needs_background": "light"
     },
     "output_type": "display_data"
    }
   ],
   "source": [
    "plt.imshow(test_data[10],cmap='gray')"
   ]
  },
  {
   "cell_type": "code",
   "execution_count": 50,
   "id": "b10d6646",
   "metadata": {
    "execution": {
     "iopub.execute_input": "2021-11-25T03:05:58.154790Z",
     "iopub.status.busy": "2021-11-25T03:05:58.153719Z",
     "iopub.status.idle": "2021-11-25T03:05:59.943726Z",
     "shell.execute_reply": "2021-11-25T03:05:59.943210Z",
     "shell.execute_reply.started": "2021-11-25T01:44:04.467441Z"
    },
    "papermill": {
     "duration": 2.161601,
     "end_time": "2021-11-25T03:05:59.943889",
     "exception": false,
     "start_time": "2021-11-25T03:05:57.782288",
     "status": "completed"
    },
    "tags": []
   },
   "outputs": [],
   "source": [
    "test_preds = model.predict(test_data)"
   ]
  },
  {
   "cell_type": "code",
   "execution_count": 51,
   "id": "bd77d378",
   "metadata": {
    "execution": {
     "iopub.execute_input": "2021-11-25T03:06:00.717536Z",
     "iopub.status.busy": "2021-11-25T03:06:00.716585Z",
     "iopub.status.idle": "2021-11-25T03:06:00.723287Z",
     "shell.execute_reply": "2021-11-25T03:06:00.722773Z",
     "shell.execute_reply.started": "2021-11-25T01:44:06.367598Z"
    },
    "papermill": {
     "duration": 0.418557,
     "end_time": "2021-11-25T03:06:00.723429",
     "exception": false,
     "start_time": "2021-11-25T03:06:00.304872",
     "status": "completed"
    },
    "tags": []
   },
   "outputs": [
    {
     "data": {
      "text/plain": [
       "array([[1.36895334e-12, 1.30930938e-13, 1.00000000e+00, ...,\n",
       "        1.47491654e-11, 1.90133260e-08, 7.55282614e-10],\n",
       "       [9.99999881e-01, 7.77216257e-15, 1.72404790e-09, ...,\n",
       "        8.23188132e-12, 5.24578070e-09, 7.12328108e-09],\n",
       "       [1.66490457e-18, 9.91685236e-14, 8.58289495e-10, ...,\n",
       "        4.17038448e-09, 8.58792204e-10, 9.99999881e-01],\n",
       "       ...,\n",
       "       [3.48014311e-24, 3.15640877e-19, 1.17952672e-19, ...,\n",
       "        1.32271673e-19, 1.95054705e-15, 1.03260675e-13],\n",
       "       [6.18120084e-13, 7.48695387e-15, 4.94648430e-13, ...,\n",
       "        1.46808801e-10, 2.11954551e-10, 9.99997497e-01],\n",
       "       [2.40600288e-17, 4.96232717e-16, 1.00000000e+00, ...,\n",
       "        6.43610599e-14, 8.06033640e-09, 1.52774963e-11]], dtype=float32)"
      ]
     },
     "execution_count": 51,
     "metadata": {},
     "output_type": "execute_result"
    }
   ],
   "source": [
    "test_preds"
   ]
  },
  {
   "cell_type": "code",
   "execution_count": 52,
   "id": "dc3e2d34",
   "metadata": {
    "execution": {
     "iopub.execute_input": "2021-11-25T03:06:01.454179Z",
     "iopub.status.busy": "2021-11-25T03:06:01.453472Z",
     "iopub.status.idle": "2021-11-25T03:06:01.456707Z",
     "shell.execute_reply": "2021-11-25T03:06:01.456159Z",
     "shell.execute_reply.started": "2021-11-25T01:44:06.375679Z"
    },
    "papermill": {
     "duration": 0.371135,
     "end_time": "2021-11-25T03:06:01.456838",
     "exception": false,
     "start_time": "2021-11-25T03:06:01.085703",
     "status": "completed"
    },
    "tags": []
   },
   "outputs": [
    {
     "data": {
      "text/plain": [
       "(28000, 10)"
      ]
     },
     "execution_count": 52,
     "metadata": {},
     "output_type": "execute_result"
    }
   ],
   "source": [
    "test_preds.shape"
   ]
  },
  {
   "cell_type": "markdown",
   "id": "e25a609f",
   "metadata": {
    "papermill": {
     "duration": 0.365751,
     "end_time": "2021-11-25T03:06:02.190057",
     "exception": false,
     "start_time": "2021-11-25T03:06:01.824306",
     "status": "completed"
    },
    "tags": []
   },
   "source": [
    "#### preds contains the predicted labels of the digits .¶\n",
    "#### argmax(axis = 1) is converting the one hot encoder back to the labels along the row axis"
   ]
  },
  {
   "cell_type": "code",
   "execution_count": 53,
   "id": "e45b86ae",
   "metadata": {
    "execution": {
     "iopub.execute_input": "2021-11-25T03:06:02.920576Z",
     "iopub.status.busy": "2021-11-25T03:06:02.919972Z",
     "iopub.status.idle": "2021-11-25T03:06:02.922300Z",
     "shell.execute_reply": "2021-11-25T03:06:02.922792Z",
     "shell.execute_reply.started": "2021-11-25T01:44:06.386610Z"
    },
    "papermill": {
     "duration": 0.367983,
     "end_time": "2021-11-25T03:06:02.922988",
     "exception": false,
     "start_time": "2021-11-25T03:06:02.555005",
     "status": "completed"
    },
    "tags": []
   },
   "outputs": [],
   "source": [
    "preds = np.argmax(test_preds , axis = 1)\n",
    "test_image_id = range( 1 , len(preds)+1 )"
   ]
  },
  {
   "cell_type": "code",
   "execution_count": 54,
   "id": "7166cd14",
   "metadata": {
    "execution": {
     "iopub.execute_input": "2021-11-25T03:06:03.652272Z",
     "iopub.status.busy": "2021-11-25T03:06:03.651610Z",
     "iopub.status.idle": "2021-11-25T03:06:03.656087Z",
     "shell.execute_reply": "2021-11-25T03:06:03.656632Z",
     "shell.execute_reply.started": "2021-11-25T01:44:06.396187Z"
    },
    "papermill": {
     "duration": 0.371408,
     "end_time": "2021-11-25T03:06:03.656795",
     "exception": false,
     "start_time": "2021-11-25T03:06:03.285387",
     "status": "completed"
    },
    "tags": []
   },
   "outputs": [
    {
     "data": {
      "text/plain": [
       "array([2, 0, 9, ..., 3, 9, 2])"
      ]
     },
     "execution_count": 54,
     "metadata": {},
     "output_type": "execute_result"
    }
   ],
   "source": [
    "preds"
   ]
  },
  {
   "cell_type": "code",
   "execution_count": 55,
   "id": "bd974519",
   "metadata": {
    "execution": {
     "iopub.execute_input": "2021-11-25T03:06:04.401925Z",
     "iopub.status.busy": "2021-11-25T03:06:04.401276Z",
     "iopub.status.idle": "2021-11-25T03:06:04.404370Z",
     "shell.execute_reply": "2021-11-25T03:06:04.405174Z",
     "shell.execute_reply.started": "2021-11-25T01:44:06.406884Z"
    },
    "papermill": {
     "duration": 0.382836,
     "end_time": "2021-11-25T03:06:04.405411",
     "exception": false,
     "start_time": "2021-11-25T03:06:04.022575",
     "status": "completed"
    },
    "tags": []
   },
   "outputs": [
    {
     "data": {
      "text/plain": [
       "28000"
      ]
     },
     "execution_count": 55,
     "metadata": {},
     "output_type": "execute_result"
    }
   ],
   "source": [
    "len(test_image_id)\n"
   ]
  },
  {
   "cell_type": "code",
   "execution_count": 56,
   "id": "aa58c0cb",
   "metadata": {
    "execution": {
     "iopub.execute_input": "2021-11-25T03:06:05.152604Z",
     "iopub.status.busy": "2021-11-25T03:06:05.150224Z",
     "iopub.status.idle": "2021-11-25T03:06:05.155485Z",
     "shell.execute_reply": "2021-11-25T03:06:05.155028Z",
     "shell.execute_reply.started": "2021-11-25T01:44:06.417439Z"
    },
    "papermill": {
     "duration": 0.375296,
     "end_time": "2021-11-25T03:06:05.155620",
     "exception": false,
     "start_time": "2021-11-25T03:06:04.780324",
     "status": "completed"
    },
    "tags": []
   },
   "outputs": [],
   "source": [
    "submit_df = {\"Id\" : test_image_id , \"Label\" : preds }\n",
    "submit_df = pd.DataFrame(submit_df)"
   ]
  },
  {
   "cell_type": "code",
   "execution_count": 57,
   "id": "dc0288a6",
   "metadata": {
    "execution": {
     "iopub.execute_input": "2021-11-25T03:06:05.885128Z",
     "iopub.status.busy": "2021-11-25T03:06:05.884191Z",
     "iopub.status.idle": "2021-11-25T03:06:05.891934Z",
     "shell.execute_reply": "2021-11-25T03:06:05.892343Z",
     "shell.execute_reply.started": "2021-11-25T01:44:06.426294Z"
    },
    "papermill": {
     "duration": 0.374397,
     "end_time": "2021-11-25T03:06:05.892506",
     "exception": false,
     "start_time": "2021-11-25T03:06:05.518109",
     "status": "completed"
    },
    "tags": []
   },
   "outputs": [
    {
     "data": {
      "text/html": [
       "<div>\n",
       "<style scoped>\n",
       "    .dataframe tbody tr th:only-of-type {\n",
       "        vertical-align: middle;\n",
       "    }\n",
       "\n",
       "    .dataframe tbody tr th {\n",
       "        vertical-align: top;\n",
       "    }\n",
       "\n",
       "    .dataframe thead th {\n",
       "        text-align: right;\n",
       "    }\n",
       "</style>\n",
       "<table border=\"1\" class=\"dataframe\">\n",
       "  <thead>\n",
       "    <tr style=\"text-align: right;\">\n",
       "      <th></th>\n",
       "      <th>Id</th>\n",
       "      <th>Label</th>\n",
       "    </tr>\n",
       "  </thead>\n",
       "  <tbody>\n",
       "    <tr>\n",
       "      <th>0</th>\n",
       "      <td>1</td>\n",
       "      <td>2</td>\n",
       "    </tr>\n",
       "    <tr>\n",
       "      <th>1</th>\n",
       "      <td>2</td>\n",
       "      <td>0</td>\n",
       "    </tr>\n",
       "    <tr>\n",
       "      <th>2</th>\n",
       "      <td>3</td>\n",
       "      <td>9</td>\n",
       "    </tr>\n",
       "    <tr>\n",
       "      <th>3</th>\n",
       "      <td>4</td>\n",
       "      <td>0</td>\n",
       "    </tr>\n",
       "    <tr>\n",
       "      <th>4</th>\n",
       "      <td>5</td>\n",
       "      <td>3</td>\n",
       "    </tr>\n",
       "  </tbody>\n",
       "</table>\n",
       "</div>"
      ],
      "text/plain": [
       "   Id  Label\n",
       "0   1      2\n",
       "1   2      0\n",
       "2   3      9\n",
       "3   4      0\n",
       "4   5      3"
      ]
     },
     "execution_count": 57,
     "metadata": {},
     "output_type": "execute_result"
    }
   ],
   "source": [
    "submit_df.head()"
   ]
  },
  {
   "cell_type": "code",
   "execution_count": 58,
   "id": "ab2eadc2",
   "metadata": {
    "execution": {
     "iopub.execute_input": "2021-11-25T03:06:06.618285Z",
     "iopub.status.busy": "2021-11-25T03:06:06.617686Z",
     "iopub.status.idle": "2021-11-25T03:06:06.653239Z",
     "shell.execute_reply": "2021-11-25T03:06:06.653720Z",
     "shell.execute_reply.started": "2021-11-25T01:44:06.440728Z"
    },
    "papermill": {
     "duration": 0.400653,
     "end_time": "2021-11-25T03:06:06.653917",
     "exception": false,
     "start_time": "2021-11-25T03:06:06.253264",
     "status": "completed"
    },
    "tags": []
   },
   "outputs": [],
   "source": [
    "submit_df.to_csv('submission.csv',index=False) "
   ]
  },
  {
   "cell_type": "markdown",
   "id": "dcd2bc80",
   "metadata": {
    "papermill": {
     "duration": 0.362068,
     "end_time": "2021-11-25T03:06:07.382755",
     "exception": false,
     "start_time": "2021-11-25T03:06:07.020687",
     "status": "completed"
    },
    "tags": []
   },
   "source": [
    "#### Reading link\n",
    "#### https://github.com/deadskull7/MNIST-digit-recognition-and-classification-using-CNN-with-Keras-99.70/blob/master/MNIST%20digit%20recognition%20%5B0.9932%5D.ipynb"
   ]
  },
  {
   "cell_type": "markdown",
   "id": "44c59732",
   "metadata": {
    "papermill": {
     "duration": 0.362597,
     "end_time": "2021-11-25T03:06:08.107119",
     "exception": false,
     "start_time": "2021-11-25T03:06:07.744522",
     "status": "completed"
    },
    "tags": []
   },
   "source": [
    "# CNN Model2"
   ]
  },
  {
   "cell_type": "code",
   "execution_count": 59,
   "id": "265d59d7",
   "metadata": {
    "execution": {
     "iopub.execute_input": "2021-11-25T03:06:08.880577Z",
     "iopub.status.busy": "2021-11-25T03:06:08.879994Z",
     "iopub.status.idle": "2021-11-25T03:06:08.922688Z",
     "shell.execute_reply": "2021-11-25T03:06:08.922096Z",
     "shell.execute_reply.started": "2021-11-25T02:10:16.801843Z"
    },
    "papermill": {
     "duration": 0.455201,
     "end_time": "2021-11-25T03:06:08.922831",
     "exception": false,
     "start_time": "2021-11-25T03:06:08.467630",
     "status": "completed"
    },
    "tags": []
   },
   "outputs": [],
   "source": [
    "model = Sequential()\n",
    "model.add(Conv2D(32,(3,3),activation = 'relu',input_shape=(28,28,1),)) # 32 filters and each filter is 3 by 3\n",
    "model.add(MaxPool2D(pool_size=(2,2)))\n",
    "model.add(Flatten())\n",
    "model.add(Dense(128, activation='relu'))\n",
    "model.add(Dense(10, activation='softmax'))"
   ]
  },
  {
   "cell_type": "code",
   "execution_count": 60,
   "id": "78ab8828",
   "metadata": {
    "execution": {
     "iopub.execute_input": "2021-11-25T03:06:09.649620Z",
     "iopub.status.busy": "2021-11-25T03:06:09.649048Z",
     "iopub.status.idle": "2021-11-25T03:06:09.657107Z",
     "shell.execute_reply": "2021-11-25T03:06:09.656577Z",
     "shell.execute_reply.started": "2021-11-25T02:10:16.854815Z"
    },
    "papermill": {
     "duration": 0.374224,
     "end_time": "2021-11-25T03:06:09.657246",
     "exception": false,
     "start_time": "2021-11-25T03:06:09.283022",
     "status": "completed"
    },
    "tags": []
   },
   "outputs": [],
   "source": [
    "model.compile(loss='categorical_crossentropy',optimizer='rmsprop', metrics=['accuracy'])"
   ]
  },
  {
   "cell_type": "code",
   "execution_count": 61,
   "id": "1d91a77b",
   "metadata": {
    "execution": {
     "iopub.execute_input": "2021-11-25T03:06:10.381193Z",
     "iopub.status.busy": "2021-11-25T03:06:10.380592Z",
     "iopub.status.idle": "2021-11-25T03:06:10.388536Z",
     "shell.execute_reply": "2021-11-25T03:06:10.387560Z",
     "shell.execute_reply.started": "2021-11-25T02:09:27.648474Z"
    },
    "papermill": {
     "duration": 0.371592,
     "end_time": "2021-11-25T03:06:10.388891",
     "exception": false,
     "start_time": "2021-11-25T03:06:10.017299",
     "status": "completed"
    },
    "tags": []
   },
   "outputs": [
    {
     "name": "stdout",
     "output_type": "stream",
     "text": [
      "Model: \"sequential_1\"\n",
      "_________________________________________________________________\n",
      "Layer (type)                 Output Shape              Param #   \n",
      "=================================================================\n",
      "conv2d_1 (Conv2D)            (None, 26, 26, 32)        320       \n",
      "_________________________________________________________________\n",
      "max_pooling2d_1 (MaxPooling2 (None, 13, 13, 32)        0         \n",
      "_________________________________________________________________\n",
      "flatten_1 (Flatten)          (None, 5408)              0         \n",
      "_________________________________________________________________\n",
      "dense_2 (Dense)              (None, 128)               692352    \n",
      "_________________________________________________________________\n",
      "dense_3 (Dense)              (None, 10)                1290      \n",
      "=================================================================\n",
      "Total params: 693,962\n",
      "Trainable params: 693,962\n",
      "Non-trainable params: 0\n",
      "_________________________________________________________________\n"
     ]
    }
   ],
   "source": [
    "model.summary()"
   ]
  },
  {
   "cell_type": "code",
   "execution_count": 62,
   "id": "6ac65092",
   "metadata": {
    "execution": {
     "iopub.execute_input": "2021-11-25T03:06:11.119591Z",
     "iopub.status.busy": "2021-11-25T03:06:11.119001Z",
     "iopub.status.idle": "2021-11-25T03:06:59.172515Z",
     "shell.execute_reply": "2021-11-25T03:06:59.172032Z",
     "shell.execute_reply.started": "2021-11-25T02:09:27.660929Z"
    },
    "papermill": {
     "duration": 48.423373,
     "end_time": "2021-11-25T03:06:59.172668",
     "exception": false,
     "start_time": "2021-11-25T03:06:10.749295",
     "status": "completed"
    },
    "tags": []
   },
   "outputs": [
    {
     "name": "stdout",
     "output_type": "stream",
     "text": [
      "Epoch 1/10\n",
      "263/263 [==============================] - 5s 18ms/step - loss: 0.2957 - accuracy: 0.9107 - val_loss: 0.1400 - val_accuracy: 0.9596\n",
      "Epoch 2/10\n",
      "263/263 [==============================] - 5s 20ms/step - loss: 0.0855 - accuracy: 0.9746 - val_loss: 0.0802 - val_accuracy: 0.9739\n",
      "Epoch 3/10\n",
      "263/263 [==============================] - 5s 17ms/step - loss: 0.0527 - accuracy: 0.9840 - val_loss: 0.0807 - val_accuracy: 0.9748\n",
      "Epoch 4/10\n",
      "263/263 [==============================] - 5s 17ms/step - loss: 0.0371 - accuracy: 0.9885 - val_loss: 0.0737 - val_accuracy: 0.9773\n",
      "Epoch 5/10\n",
      "263/263 [==============================] - 5s 17ms/step - loss: 0.0262 - accuracy: 0.9923 - val_loss: 0.0568 - val_accuracy: 0.9826\n",
      "Epoch 6/10\n",
      "263/263 [==============================] - 5s 18ms/step - loss: 0.0179 - accuracy: 0.9949 - val_loss: 0.0623 - val_accuracy: 0.9826\n",
      "Epoch 7/10\n",
      "263/263 [==============================] - 5s 18ms/step - loss: 0.0129 - accuracy: 0.9964 - val_loss: 0.0660 - val_accuracy: 0.9826\n",
      "Epoch 8/10\n",
      "263/263 [==============================] - 5s 20ms/step - loss: 0.0090 - accuracy: 0.9977 - val_loss: 0.0612 - val_accuracy: 0.9824\n",
      "Epoch 9/10\n",
      "263/263 [==============================] - 5s 17ms/step - loss: 0.0061 - accuracy: 0.9984 - val_loss: 0.0726 - val_accuracy: 0.9826\n",
      "Epoch 10/10\n",
      "263/263 [==============================] - 5s 17ms/step - loss: 0.0047 - accuracy: 0.9989 - val_loss: 0.0692 - val_accuracy: 0.9838\n"
     ]
    },
    {
     "data": {
      "text/plain": [
       "<keras.callbacks.History at 0x7f12e80e3510>"
      ]
     },
     "execution_count": 62,
     "metadata": {},
     "output_type": "execute_result"
    }
   ],
   "source": [
    "model.fit(X_train,y_train,epochs=10,batch_size=128,validation_data=(X_test,y_test))"
   ]
  },
  {
   "cell_type": "code",
   "execution_count": 63,
   "id": "c9a96085",
   "metadata": {
    "execution": {
     "iopub.execute_input": "2021-11-25T03:07:00.266757Z",
     "iopub.status.busy": "2021-11-25T03:07:00.264373Z",
     "iopub.status.idle": "2021-11-25T03:07:00.268429Z",
     "shell.execute_reply": "2021-11-25T03:07:00.268956Z",
     "shell.execute_reply.started": "2021-11-25T02:10:16.792489Z"
    },
    "papermill": {
     "duration": 0.537932,
     "end_time": "2021-11-25T03:07:00.269120",
     "exception": false,
     "start_time": "2021-11-25T03:06:59.731188",
     "status": "completed"
    },
    "tags": []
   },
   "outputs": [],
   "source": [
    "metrics = pd.DataFrame(model.history.history)"
   ]
  },
  {
   "cell_type": "code",
   "execution_count": 64,
   "id": "3b77df53",
   "metadata": {
    "execution": {
     "iopub.execute_input": "2021-11-25T03:07:01.328983Z",
     "iopub.status.busy": "2021-11-25T03:07:01.328331Z",
     "iopub.status.idle": "2021-11-25T03:07:01.541236Z",
     "shell.execute_reply": "2021-11-25T03:07:01.541731Z",
     "shell.execute_reply.started": "2021-11-25T01:44:53.863996Z"
    },
    "papermill": {
     "duration": 0.749852,
     "end_time": "2021-11-25T03:07:01.541944",
     "exception": false,
     "start_time": "2021-11-25T03:07:00.792092",
     "status": "completed"
    },
    "tags": []
   },
   "outputs": [
    {
     "data": {
      "text/plain": [
       "<AxesSubplot:>"
      ]
     },
     "execution_count": 64,
     "metadata": {},
     "output_type": "execute_result"
    },
    {
     "data": {
      "image/png": "[encoded data removed]",
      "text/plain": [
       "<Figure size 432x288 with 1 Axes>"
      ]
     },
     "metadata": {
      "needs_background": "light"
     },
     "output_type": "display_data"
    }
   ],
   "source": [
    "metrics[[\"loss\",\"val_loss\"]].plot()"
   ]
  },
  {
   "cell_type": "code",
   "execution_count": 65,
   "id": "c8089936",
   "metadata": {
    "execution": {
     "iopub.execute_input": "2021-11-25T03:07:02.816476Z",
     "iopub.status.busy": "2021-11-25T03:07:02.815783Z",
     "iopub.status.idle": "2021-11-25T03:07:03.024832Z",
     "shell.execute_reply": "2021-11-25T03:07:03.025338Z",
     "shell.execute_reply.started": "2021-11-25T01:44:54.060362Z"
    },
    "papermill": {
     "duration": 0.947156,
     "end_time": "2021-11-25T03:07:03.025515",
     "exception": false,
     "start_time": "2021-11-25T03:07:02.078359",
     "status": "completed"
    },
    "tags": []
   },
   "outputs": [
    {
     "data": {
      "text/plain": [
       "<AxesSubplot:>"
      ]
     },
     "execution_count": 65,
     "metadata": {},
     "output_type": "execute_result"
    },
    {
     "data": {
      "image/png": "[encoded data removed]",
      "text/plain": [
       "<Figure size 432x288 with 1 Axes>"
      ]
     },
     "metadata": {
      "needs_background": "light"
     },
     "output_type": "display_data"
    }
   ],
   "source": [
    "metrics[[\"accuracy\",\"val_accuracy\"]].plot()"
   ]
  },
  {
   "cell_type": "code",
   "execution_count": 66,
   "id": "cd07c9af",
   "metadata": {
    "execution": {
     "iopub.execute_input": "2021-11-25T03:07:04.134748Z",
     "iopub.status.busy": "2021-11-25T03:07:04.134194Z",
     "iopub.status.idle": "2021-11-25T03:07:04.685145Z",
     "shell.execute_reply": "2021-11-25T03:07:04.684565Z",
     "shell.execute_reply.started": "2021-11-25T01:44:54.465847Z"
    },
    "papermill": {
     "duration": 1.129517,
     "end_time": "2021-11-25T03:07:04.685289",
     "exception": false,
     "start_time": "2021-11-25T03:07:03.555772",
     "status": "completed"
    },
    "tags": []
   },
   "outputs": [],
   "source": [
    "preds = model.predict(X_test)\n",
    "preds=preds.astype('int32')"
   ]
  },
  {
   "cell_type": "code",
   "execution_count": 67,
   "id": "7391a51d",
   "metadata": {
    "execution": {
     "iopub.execute_input": "2021-11-25T03:07:05.750045Z",
     "iopub.status.busy": "2021-11-25T03:07:05.749118Z",
     "iopub.status.idle": "2021-11-25T03:07:05.778755Z",
     "shell.execute_reply": "2021-11-25T03:07:05.779557Z",
     "shell.execute_reply.started": "2021-11-25T01:44:55.113328Z"
    },
    "papermill": {
     "duration": 0.561562,
     "end_time": "2021-11-25T03:07:05.779779",
     "exception": false,
     "start_time": "2021-11-25T03:07:05.218217",
     "status": "completed"
    },
    "tags": []
   },
   "outputs": [
    {
     "name": "stdout",
     "output_type": "stream",
     "text": [
      "              precision    recall  f1-score   support\n",
      "\n",
      "           0       1.00      0.64      0.78       845\n",
      "           1       1.00      0.38      0.56       920\n",
      "           2       1.00      0.51      0.68       801\n",
      "           3       1.00      0.57      0.73       823\n",
      "           4       1.00      0.53      0.69       795\n",
      "           5       1.00      0.45      0.62       807\n",
      "           6       1.00      0.56      0.72       840\n",
      "           7       1.00      0.28      0.44       869\n",
      "           8       1.00      0.29      0.45       843\n",
      "           9       1.00      0.19      0.33       857\n",
      "\n",
      "   micro avg       1.00      0.44      0.61      8400\n",
      "   macro avg       1.00      0.44      0.60      8400\n",
      "weighted avg       1.00      0.44      0.60      8400\n",
      " samples avg       0.44      0.44      0.44      8400\n",
      "\n"
     ]
    },
    {
     "name": "stderr",
     "output_type": "stream",
     "text": [
      "/opt/conda/lib/python3.7/site-packages/sklearn/metrics/_classification.py:1221: UndefinedMetricWarning: Precision and F-score are ill-defined and being set to 0.0 in samples with no predicted labels. Use `zero_division` parameter to control this behavior.\n",
      "  _warn_prf(average, modifier, msg_start, len(result))\n"
     ]
    }
   ],
   "source": [
    "print(classification_report(y_test, preds))"
   ]
  },
  {
   "cell_type": "code",
   "execution_count": 68,
   "id": "294fcc8b",
   "metadata": {
    "execution": {
     "iopub.execute_input": "2021-11-25T03:07:06.843264Z",
     "iopub.status.busy": "2021-11-25T03:07:06.842246Z",
     "iopub.status.idle": "2021-11-25T03:07:08.664765Z",
     "shell.execute_reply": "2021-11-25T03:07:08.665332Z",
     "shell.execute_reply.started": "2021-11-25T01:44:55.147061Z"
    },
    "papermill": {
     "duration": 2.354441,
     "end_time": "2021-11-25T03:07:08.665533",
     "exception": false,
     "start_time": "2021-11-25T03:07:06.311092",
     "status": "completed"
    },
    "tags": []
   },
   "outputs": [],
   "source": [
    "test_preds = model.predict(test_data)"
   ]
  },
  {
   "cell_type": "code",
   "execution_count": 69,
   "id": "3f3a6bca",
   "metadata": {
    "execution": {
     "iopub.execute_input": "2021-11-25T03:07:09.734541Z",
     "iopub.status.busy": "2021-11-25T03:07:09.733604Z",
     "iopub.status.idle": "2021-11-25T03:07:09.738197Z",
     "shell.execute_reply": "2021-11-25T03:07:09.738716Z",
     "shell.execute_reply.started": "2021-11-25T01:44:57.031943Z"
    },
    "papermill": {
     "duration": 0.538188,
     "end_time": "2021-11-25T03:07:09.738888",
     "exception": false,
     "start_time": "2021-11-25T03:07:09.200700",
     "status": "completed"
    },
    "tags": []
   },
   "outputs": [
    {
     "data": {
      "text/plain": [
       "array([[1.3199819e-12, 1.0146076e-18, 1.0000000e+00, ..., 2.6104730e-12,\n",
       "        5.3496216e-13, 2.1050505e-14],\n",
       "       [1.0000000e+00, 4.8335678e-14, 2.3698393e-10, ..., 6.4839474e-11,\n",
       "        1.1355567e-11, 1.5457958e-12],\n",
       "       [7.0778968e-14, 1.0973177e-12, 4.7778940e-07, ..., 9.0303676e-10,\n",
       "        2.2132168e-08, 9.9999845e-01],\n",
       "       ...,\n",
       "       [2.9853895e-24, 1.4913588e-17, 2.2383859e-16, ..., 1.2173463e-17,\n",
       "        1.8626804e-12, 1.8016644e-11],\n",
       "       [1.6291004e-12, 3.3718785e-15, 3.5325617e-10, ..., 8.0838367e-09,\n",
       "        4.2574864e-09, 9.9998927e-01],\n",
       "       [4.3474095e-14, 6.2548947e-19, 1.0000000e+00, ..., 5.1427330e-15,\n",
       "        7.9849773e-12, 5.7462586e-14]], dtype=float32)"
      ]
     },
     "execution_count": 69,
     "metadata": {},
     "output_type": "execute_result"
    }
   ],
   "source": [
    "test_preds"
   ]
  },
  {
   "cell_type": "code",
   "execution_count": 70,
   "id": "b797bdeb",
   "metadata": {
    "execution": {
     "iopub.execute_input": "2021-11-25T03:07:10.837080Z",
     "iopub.status.busy": "2021-11-25T03:07:10.836155Z",
     "iopub.status.idle": "2021-11-25T03:07:10.841350Z",
     "shell.execute_reply": "2021-11-25T03:07:10.841895Z",
     "shell.execute_reply.started": "2021-11-25T01:44:57.041157Z"
    },
    "papermill": {
     "duration": 0.567428,
     "end_time": "2021-11-25T03:07:10.842057",
     "exception": false,
     "start_time": "2021-11-25T03:07:10.274629",
     "status": "completed"
    },
    "tags": []
   },
   "outputs": [
    {
     "data": {
      "text/plain": [
       "(28000, 10)"
      ]
     },
     "execution_count": 70,
     "metadata": {},
     "output_type": "execute_result"
    }
   ],
   "source": [
    "test_preds.shape"
   ]
  },
  {
   "cell_type": "code",
   "execution_count": 71,
   "id": "2f3eaabf",
   "metadata": {
    "execution": {
     "iopub.execute_input": "2021-11-25T03:07:11.899600Z",
     "iopub.status.busy": "2021-11-25T03:07:11.898684Z",
     "iopub.status.idle": "2021-11-25T03:07:11.905452Z",
     "shell.execute_reply": "2021-11-25T03:07:11.905996Z",
     "shell.execute_reply.started": "2021-11-25T01:44:57.052260Z"
    },
    "papermill": {
     "duration": 0.535878,
     "end_time": "2021-11-25T03:07:11.906156",
     "exception": false,
     "start_time": "2021-11-25T03:07:11.370278",
     "status": "completed"
    },
    "tags": []
   },
   "outputs": [
    {
     "data": {
      "text/plain": [
       "array([2, 0, 9, ..., 3, 9, 2])"
      ]
     },
     "execution_count": 71,
     "metadata": {},
     "output_type": "execute_result"
    }
   ],
   "source": [
    "preds = np.argmax(test_preds , axis = 1)\n",
    "test_image_id = range( 1 , len(preds)+1 )\n",
    "preds"
   ]
  },
  {
   "cell_type": "code",
   "execution_count": 72,
   "id": "c477d618",
   "metadata": {
    "execution": {
     "iopub.execute_input": "2021-11-25T03:07:13.034518Z",
     "iopub.status.busy": "2021-11-25T03:07:13.033635Z",
     "iopub.status.idle": "2021-11-25T03:07:13.037614Z",
     "shell.execute_reply": "2021-11-25T03:07:13.037055Z",
     "shell.execute_reply.started": "2021-11-25T01:44:57.063145Z"
    },
    "papermill": {
     "duration": 0.545906,
     "end_time": "2021-11-25T03:07:13.037742",
     "exception": false,
     "start_time": "2021-11-25T03:07:12.491836",
     "status": "completed"
    },
    "tags": []
   },
   "outputs": [
    {
     "data": {
      "text/plain": [
       "28000"
      ]
     },
     "execution_count": 72,
     "metadata": {},
     "output_type": "execute_result"
    }
   ],
   "source": [
    "len(test_image_id)"
   ]
  },
  {
   "cell_type": "code",
   "execution_count": 73,
   "id": "a051a0c7",
   "metadata": {
    "execution": {
     "iopub.execute_input": "2021-11-25T03:07:14.111168Z",
     "iopub.status.busy": "2021-11-25T03:07:14.110514Z",
     "iopub.status.idle": "2021-11-25T03:07:14.134357Z",
     "shell.execute_reply": "2021-11-25T03:07:14.134830Z",
     "shell.execute_reply.started": "2021-11-25T01:44:57.072014Z"
    },
    "papermill": {
     "duration": 0.559815,
     "end_time": "2021-11-25T03:07:14.135020",
     "exception": false,
     "start_time": "2021-11-25T03:07:13.575205",
     "status": "completed"
    },
    "tags": []
   },
   "outputs": [
    {
     "data": {
      "text/html": [
       "<div>\n",
       "<style scoped>\n",
       "    .dataframe tbody tr th:only-of-type {\n",
       "        vertical-align: middle;\n",
       "    }\n",
       "\n",
       "    .dataframe tbody tr th {\n",
       "        vertical-align: top;\n",
       "    }\n",
       "\n",
       "    .dataframe thead th {\n",
       "        text-align: right;\n",
       "    }\n",
       "</style>\n",
       "<table border=\"1\" class=\"dataframe\">\n",
       "  <thead>\n",
       "    <tr style=\"text-align: right;\">\n",
       "      <th></th>\n",
       "      <th>ImageId</th>\n",
       "      <th>Label</th>\n",
       "    </tr>\n",
       "  </thead>\n",
       "  <tbody>\n",
       "    <tr>\n",
       "      <th>0</th>\n",
       "      <td>1</td>\n",
       "      <td>0</td>\n",
       "    </tr>\n",
       "    <tr>\n",
       "      <th>1</th>\n",
       "      <td>2</td>\n",
       "      <td>0</td>\n",
       "    </tr>\n",
       "    <tr>\n",
       "      <th>2</th>\n",
       "      <td>3</td>\n",
       "      <td>0</td>\n",
       "    </tr>\n",
       "    <tr>\n",
       "      <th>3</th>\n",
       "      <td>4</td>\n",
       "      <td>0</td>\n",
       "    </tr>\n",
       "    <tr>\n",
       "      <th>4</th>\n",
       "      <td>5</td>\n",
       "      <td>0</td>\n",
       "    </tr>\n",
       "  </tbody>\n",
       "</table>\n",
       "</div>"
      ],
      "text/plain": [
       "   ImageId  Label\n",
       "0        1      0\n",
       "1        2      0\n",
       "2        3      0\n",
       "3        4      0\n",
       "4        5      0"
      ]
     },
     "execution_count": 73,
     "metadata": {},
     "output_type": "execute_result"
    }
   ],
   "source": [
    "submission = pd.read_csv(\"/kaggle/input/digit-recognizer/sample_submission.csv\")\n",
    "submission.head()"
   ]
  },
  {
   "cell_type": "code",
   "execution_count": 74,
   "id": "0049d491",
   "metadata": {
    "execution": {
     "iopub.execute_input": "2021-11-25T03:07:15.205826Z",
     "iopub.status.busy": "2021-11-25T03:07:15.205215Z",
     "iopub.status.idle": "2021-11-25T03:07:15.206851Z",
     "shell.execute_reply": "2021-11-25T03:07:15.207351Z",
     "shell.execute_reply.started": "2021-11-25T01:44:57.104121Z"
    },
    "papermill": {
     "duration": 0.542175,
     "end_time": "2021-11-25T03:07:15.207514",
     "exception": false,
     "start_time": "2021-11-25T03:07:14.665339",
     "status": "completed"
    },
    "tags": []
   },
   "outputs": [],
   "source": [
    "submit_df = {\"ImageId\" : test_image_id , \"Label\" : preds }\n",
    "submit_df = pd.DataFrame(submit_df)"
   ]
  },
  {
   "cell_type": "code",
   "execution_count": 75,
   "id": "decea674",
   "metadata": {
    "execution": {
     "iopub.execute_input": "2021-11-25T03:07:16.270104Z",
     "iopub.status.busy": "2021-11-25T03:07:16.269522Z",
     "iopub.status.idle": "2021-11-25T03:07:16.278570Z",
     "shell.execute_reply": "2021-11-25T03:07:16.279016Z",
     "shell.execute_reply.started": "2021-11-25T01:44:57.110736Z"
    },
    "papermill": {
     "duration": 0.541028,
     "end_time": "2021-11-25T03:07:16.279191",
     "exception": false,
     "start_time": "2021-11-25T03:07:15.738163",
     "status": "completed"
    },
    "tags": []
   },
   "outputs": [
    {
     "data": {
      "text/html": [
       "<div>\n",
       "<style scoped>\n",
       "    .dataframe tbody tr th:only-of-type {\n",
       "        vertical-align: middle;\n",
       "    }\n",
       "\n",
       "    .dataframe tbody tr th {\n",
       "        vertical-align: top;\n",
       "    }\n",
       "\n",
       "    .dataframe thead th {\n",
       "        text-align: right;\n",
       "    }\n",
       "</style>\n",
       "<table border=\"1\" class=\"dataframe\">\n",
       "  <thead>\n",
       "    <tr style=\"text-align: right;\">\n",
       "      <th></th>\n",
       "      <th>ImageId</th>\n",
       "      <th>Label</th>\n",
       "    </tr>\n",
       "  </thead>\n",
       "  <tbody>\n",
       "    <tr>\n",
       "      <th>0</th>\n",
       "      <td>1</td>\n",
       "      <td>2</td>\n",
       "    </tr>\n",
       "    <tr>\n",
       "      <th>1</th>\n",
       "      <td>2</td>\n",
       "      <td>0</td>\n",
       "    </tr>\n",
       "    <tr>\n",
       "      <th>2</th>\n",
       "      <td>3</td>\n",
       "      <td>9</td>\n",
       "    </tr>\n",
       "    <tr>\n",
       "      <th>3</th>\n",
       "      <td>4</td>\n",
       "      <td>0</td>\n",
       "    </tr>\n",
       "    <tr>\n",
       "      <th>4</th>\n",
       "      <td>5</td>\n",
       "      <td>3</td>\n",
       "    </tr>\n",
       "    <tr>\n",
       "      <th>...</th>\n",
       "      <td>...</td>\n",
       "      <td>...</td>\n",
       "    </tr>\n",
       "    <tr>\n",
       "      <th>27995</th>\n",
       "      <td>27996</td>\n",
       "      <td>9</td>\n",
       "    </tr>\n",
       "    <tr>\n",
       "      <th>27996</th>\n",
       "      <td>27997</td>\n",
       "      <td>7</td>\n",
       "    </tr>\n",
       "    <tr>\n",
       "      <th>27997</th>\n",
       "      <td>27998</td>\n",
       "      <td>3</td>\n",
       "    </tr>\n",
       "    <tr>\n",
       "      <th>27998</th>\n",
       "      <td>27999</td>\n",
       "      <td>9</td>\n",
       "    </tr>\n",
       "    <tr>\n",
       "      <th>27999</th>\n",
       "      <td>28000</td>\n",
       "      <td>2</td>\n",
       "    </tr>\n",
       "  </tbody>\n",
       "</table>\n",
       "<p>28000 rows × 2 columns</p>\n",
       "</div>"
      ],
      "text/plain": [
       "       ImageId  Label\n",
       "0            1      2\n",
       "1            2      0\n",
       "2            3      9\n",
       "3            4      0\n",
       "4            5      3\n",
       "...        ...    ...\n",
       "27995    27996      9\n",
       "27996    27997      7\n",
       "27997    27998      3\n",
       "27998    27999      9\n",
       "27999    28000      2\n",
       "\n",
       "[28000 rows x 2 columns]"
      ]
     },
     "execution_count": 75,
     "metadata": {},
     "output_type": "execute_result"
    }
   ],
   "source": [
    "submit_df"
   ]
  },
  {
   "cell_type": "code",
   "execution_count": 76,
   "id": "74bfe9cf",
   "metadata": {
    "execution": {
     "iopub.execute_input": "2021-11-25T03:07:17.347986Z",
     "iopub.status.busy": "2021-11-25T03:07:17.347429Z",
     "iopub.status.idle": "2021-11-25T03:07:17.380784Z",
     "shell.execute_reply": "2021-11-25T03:07:17.381334Z",
     "shell.execute_reply.started": "2021-11-25T01:44:57.128738Z"
    },
    "papermill": {
     "duration": 0.573575,
     "end_time": "2021-11-25T03:07:17.381513",
     "exception": false,
     "start_time": "2021-11-25T03:07:16.807938",
     "status": "completed"
    },
    "tags": []
   },
   "outputs": [],
   "source": [
    "submit_df.to_csv('submission.csv',index=False) # 0.98375"
   ]
  },
  {
   "cell_type": "markdown",
   "id": "161d0781",
   "metadata": {
    "papermill": {
     "duration": 0.531439,
     "end_time": "2021-11-25T03:07:18.442412",
     "exception": false,
     "start_time": "2021-11-25T03:07:17.910973",
     "status": "completed"
    },
    "tags": []
   },
   "source": [
    "# CNN Model3 "
   ]
  },
  {
   "cell_type": "code",
   "execution_count": 77,
   "id": "b2b3af91",
   "metadata": {
    "execution": {
     "iopub.execute_input": "2021-11-25T03:07:19.553823Z",
     "iopub.status.busy": "2021-11-25T03:07:19.553252Z",
     "iopub.status.idle": "2021-11-25T03:07:19.605981Z",
     "shell.execute_reply": "2021-11-25T03:07:19.605270Z",
     "shell.execute_reply.started": "2021-11-25T01:44:57.185383Z"
    },
    "papermill": {
     "duration": 0.585365,
     "end_time": "2021-11-25T03:07:19.606120",
     "exception": false,
     "start_time": "2021-11-25T03:07:19.020755",
     "status": "completed"
    },
    "tags": []
   },
   "outputs": [],
   "source": [
    "model = Sequential()\n",
    "model.add(Conv2D(32,(3,3), activation='relu',input_shape=(28,28,1)))\n",
    "model.add(MaxPool2D(pool_size=(2,2)))\n",
    "model.add(Conv2D(64,(3,3), activation='relu'))\n",
    "model.add(MaxPool2D(pool_size=(2,2)))\n",
    "model.add(Flatten())\n",
    "model.add(Dense(128,activation='relu'))\n",
    "model.add(Dense(10,activation='softmax'))"
   ]
  },
  {
   "cell_type": "code",
   "execution_count": 78,
   "id": "b412dd3c",
   "metadata": {
    "execution": {
     "iopub.execute_input": "2021-11-25T03:07:20.682675Z",
     "iopub.status.busy": "2021-11-25T03:07:20.681701Z",
     "iopub.status.idle": "2021-11-25T03:07:20.685830Z",
     "shell.execute_reply": "2021-11-25T03:07:20.686280Z",
     "shell.execute_reply.started": "2021-11-25T01:44:57.241660Z"
    },
    "papermill": {
     "duration": 0.541908,
     "end_time": "2021-11-25T03:07:20.686443",
     "exception": false,
     "start_time": "2021-11-25T03:07:20.144535",
     "status": "completed"
    },
    "tags": []
   },
   "outputs": [],
   "source": [
    "model.compile(loss='categorical_crossentropy',optimizer='rmsprop', metrics=['accuracy'])"
   ]
  },
  {
   "cell_type": "code",
   "execution_count": 79,
   "id": "6e7c06e9",
   "metadata": {
    "execution": {
     "iopub.execute_input": "2021-11-25T03:07:21.843079Z",
     "iopub.status.busy": "2021-11-25T03:07:21.842288Z",
     "iopub.status.idle": "2021-11-25T03:07:21.846131Z",
     "shell.execute_reply": "2021-11-25T03:07:21.845414Z",
     "shell.execute_reply.started": "2021-11-25T01:44:57.253570Z"
    },
    "papermill": {
     "duration": 0.631762,
     "end_time": "2021-11-25T03:07:21.846312",
     "exception": false,
     "start_time": "2021-11-25T03:07:21.214550",
     "status": "completed"
    },
    "tags": []
   },
   "outputs": [
    {
     "name": "stdout",
     "output_type": "stream",
     "text": [
      "Model: \"sequential_2\"\n",
      "_________________________________________________________________\n",
      "Layer (type)                 Output Shape              Param #   \n",
      "=================================================================\n",
      "conv2d_2 (Conv2D)            (None, 26, 26, 32)        320       \n",
      "_________________________________________________________________\n",
      "max_pooling2d_2 (MaxPooling2 (None, 13, 13, 32)        0         \n",
      "_________________________________________________________________\n",
      "conv2d_3 (Conv2D)            (None, 11, 11, 64)        18496     \n",
      "_________________________________________________________________\n",
      "max_pooling2d_3 (MaxPooling2 (None, 5, 5, 64)          0         \n",
      "_________________________________________________________________\n",
      "flatten_2 (Flatten)          (None, 1600)              0         \n",
      "_________________________________________________________________\n",
      "dense_4 (Dense)              (None, 128)               204928    \n",
      "_________________________________________________________________\n",
      "dense_5 (Dense)              (None, 10)                1290      \n",
      "=================================================================\n",
      "Total params: 225,034\n",
      "Trainable params: 225,034\n",
      "Non-trainable params: 0\n",
      "_________________________________________________________________\n"
     ]
    }
   ],
   "source": [
    "model.summary()"
   ]
  },
  {
   "cell_type": "code",
   "execution_count": 80,
   "id": "9a4f964c",
   "metadata": {
    "execution": {
     "iopub.execute_input": "2021-11-25T03:07:22.928551Z",
     "iopub.status.busy": "2021-11-25T03:07:22.927485Z",
     "iopub.status.idle": "2021-11-25T03:08:47.188620Z",
     "shell.execute_reply": "2021-11-25T03:08:47.188136Z",
     "shell.execute_reply.started": "2021-11-25T01:44:57.266152Z"
    },
    "papermill": {
     "duration": 84.796715,
     "end_time": "2021-11-25T03:08:47.188760",
     "exception": false,
     "start_time": "2021-11-25T03:07:22.392045",
     "status": "completed"
    },
    "tags": []
   },
   "outputs": [
    {
     "name": "stdout",
     "output_type": "stream",
     "text": [
      "Epoch 1/10\n",
      "263/263 [==============================] - 9s 32ms/step - loss: 0.2783 - accuracy: 0.9158 - val_loss: 0.1022 - val_accuracy: 0.9686\n",
      "Epoch 2/10\n",
      "263/263 [==============================] - 8s 31ms/step - loss: 0.0703 - accuracy: 0.9783 - val_loss: 0.0599 - val_accuracy: 0.9817\n",
      "Epoch 3/10\n",
      "263/263 [==============================] - 8s 31ms/step - loss: 0.0433 - accuracy: 0.9859 - val_loss: 0.0460 - val_accuracy: 0.9850\n",
      "Epoch 4/10\n",
      "263/263 [==============================] - 9s 34ms/step - loss: 0.0315 - accuracy: 0.9898 - val_loss: 0.0633 - val_accuracy: 0.9804\n",
      "Epoch 5/10\n",
      "263/263 [==============================] - 8s 31ms/step - loss: 0.0248 - accuracy: 0.9916 - val_loss: 0.0474 - val_accuracy: 0.9856\n",
      "Epoch 6/10\n",
      "263/263 [==============================] - 8s 31ms/step - loss: 0.0188 - accuracy: 0.9942 - val_loss: 0.0454 - val_accuracy: 0.9858\n",
      "Epoch 7/10\n",
      "263/263 [==============================] - 8s 31ms/step - loss: 0.0135 - accuracy: 0.9960 - val_loss: 0.0463 - val_accuracy: 0.9868\n",
      "Epoch 8/10\n",
      "263/263 [==============================] - 9s 35ms/step - loss: 0.0111 - accuracy: 0.9961 - val_loss: 0.0673 - val_accuracy: 0.9823\n",
      "Epoch 9/10\n",
      "263/263 [==============================] - 8s 31ms/step - loss: 0.0099 - accuracy: 0.9970 - val_loss: 0.0592 - val_accuracy: 0.9864\n",
      "Epoch 10/10\n",
      "263/263 [==============================] - 8s 31ms/step - loss: 0.0076 - accuracy: 0.9974 - val_loss: 0.0483 - val_accuracy: 0.9892\n"
     ]
    },
    {
     "data": {
      "text/plain": [
       "<keras.callbacks.History at 0x7f12c0747390>"
      ]
     },
     "execution_count": 80,
     "metadata": {},
     "output_type": "execute_result"
    }
   ],
   "source": [
    "model.fit(X_train,y_train,epochs=10,batch_size=128,validation_data=(X_test,y_test))"
   ]
  },
  {
   "cell_type": "code",
   "execution_count": 81,
   "id": "a5bb0068",
   "metadata": {
    "execution": {
     "iopub.execute_input": "2021-11-25T03:08:48.934517Z",
     "iopub.status.busy": "2021-11-25T03:08:48.933904Z",
     "iopub.status.idle": "2021-11-25T03:08:48.938946Z",
     "shell.execute_reply": "2021-11-25T03:08:48.938492Z",
     "shell.execute_reply.started": "2021-11-25T01:46:25.523157Z"
    },
    "papermill": {
     "duration": 0.903744,
     "end_time": "2021-11-25T03:08:48.939126",
     "exception": false,
     "start_time": "2021-11-25T03:08:48.035382",
     "status": "completed"
    },
    "tags": []
   },
   "outputs": [],
   "source": [
    "metrics = pd.DataFrame(model.history.history)"
   ]
  },
  {
   "cell_type": "code",
   "execution_count": 82,
   "id": "15c51c37",
   "metadata": {
    "execution": {
     "iopub.execute_input": "2021-11-25T03:08:50.659340Z",
     "iopub.status.busy": "2021-11-25T03:08:50.658656Z",
     "iopub.status.idle": "2021-11-25T03:08:50.871273Z",
     "shell.execute_reply": "2021-11-25T03:08:50.871818Z",
     "shell.execute_reply.started": "2021-11-25T01:46:25.530394Z"
    },
    "papermill": {
     "duration": 1.066785,
     "end_time": "2021-11-25T03:08:50.872022",
     "exception": false,
     "start_time": "2021-11-25T03:08:49.805237",
     "status": "completed"
    },
    "tags": []
   },
   "outputs": [
    {
     "data": {
      "text/plain": [
       "<AxesSubplot:>"
      ]
     },
     "execution_count": 82,
     "metadata": {},
     "output_type": "execute_result"
    },
    {
     "data": {
      "image/png": "[encoded data removed]",
      "text/plain": [
       "<Figure size 432x288 with 1 Axes>"
      ]
     },
     "metadata": {
      "needs_background": "light"
     },
     "output_type": "display_data"
    }
   ],
   "source": [
    "metrics[[\"loss\",\"val_loss\"]].plot() # by second epoch validation loss came down then going up and down and up which is sign of overfitting"
   ]
  },
  {
   "cell_type": "code",
   "execution_count": 83,
   "id": "5a2a258e",
   "metadata": {
    "execution": {
     "iopub.execute_input": "2021-11-25T03:08:52.555610Z",
     "iopub.status.busy": "2021-11-25T03:08:52.555032Z",
     "iopub.status.idle": "2021-11-25T03:08:52.788973Z",
     "shell.execute_reply": "2021-11-25T03:08:52.789427Z",
     "shell.execute_reply.started": "2021-11-25T01:46:25.753774Z"
    },
    "papermill": {
     "duration": 1.078413,
     "end_time": "2021-11-25T03:08:52.789592",
     "exception": false,
     "start_time": "2021-11-25T03:08:51.711179",
     "status": "completed"
    },
    "tags": []
   },
   "outputs": [
    {
     "data": {
      "text/plain": [
       "<AxesSubplot:>"
      ]
     },
     "execution_count": 83,
     "metadata": {},
     "output_type": "execute_result"
    },
    {
     "data": {
      "image/png": "[encoded data removed]",
      "text/plain": [
       "<Figure size 432x288 with 1 Axes>"
      ]
     },
     "metadata": {
      "needs_background": "light"
     },
     "output_type": "display_data"
    }
   ],
   "source": [
    "metrics[[\"accuracy\",\"val_accuracy\"]].plot() # similarly accuracy increased then by 5th epoch the accuracy increased then going down and up"
   ]
  },
  {
   "cell_type": "code",
   "execution_count": 84,
   "id": "5e731de7",
   "metadata": {
    "execution": {
     "iopub.execute_input": "2021-11-25T03:08:54.470487Z",
     "iopub.status.busy": "2021-11-25T03:08:54.469696Z",
     "iopub.status.idle": "2021-11-25T03:08:55.323339Z",
     "shell.execute_reply": "2021-11-25T03:08:55.322771Z",
     "shell.execute_reply.started": "2021-11-25T01:46:25.931792Z"
    },
    "papermill": {
     "duration": 1.692339,
     "end_time": "2021-11-25T03:08:55.323498",
     "exception": false,
     "start_time": "2021-11-25T03:08:53.631159",
     "status": "completed"
    },
    "tags": []
   },
   "outputs": [],
   "source": [
    "preds = model.predict(X_test)\n",
    "preds=preds.astype('int32')"
   ]
  },
  {
   "cell_type": "code",
   "execution_count": 85,
   "id": "dc0913d5",
   "metadata": {
    "execution": {
     "iopub.execute_input": "2021-11-25T03:08:57.055608Z",
     "iopub.status.busy": "2021-11-25T03:08:57.055000Z",
     "iopub.status.idle": "2021-11-25T03:08:57.080847Z",
     "shell.execute_reply": "2021-11-25T03:08:57.081543Z",
     "shell.execute_reply.started": "2021-11-25T01:46:26.824724Z"
    },
    "papermill": {
     "duration": 0.868735,
     "end_time": "2021-11-25T03:08:57.081757",
     "exception": false,
     "start_time": "2021-11-25T03:08:56.213022",
     "status": "completed"
    },
    "tags": []
   },
   "outputs": [
    {
     "name": "stdout",
     "output_type": "stream",
     "text": [
      "              precision    recall  f1-score   support\n",
      "\n",
      "           0       1.00      0.58      0.74       845\n",
      "           1       1.00      0.70      0.83       920\n",
      "           2       1.00      0.70      0.82       801\n",
      "           3       1.00      0.57      0.73       823\n",
      "           4       1.00      0.58      0.73       795\n",
      "           5       1.00      0.60      0.75       807\n",
      "           6       1.00      0.69      0.82       840\n",
      "           7       1.00      0.51      0.67       869\n",
      "           8       1.00      0.58      0.74       843\n",
      "           9       1.00      0.21      0.35       857\n",
      "\n",
      "   micro avg       1.00      0.57      0.73      8400\n",
      "   macro avg       1.00      0.57      0.72      8400\n",
      "weighted avg       1.00      0.57      0.72      8400\n",
      " samples avg       0.57      0.57      0.57      8400\n",
      "\n"
     ]
    },
    {
     "name": "stderr",
     "output_type": "stream",
     "text": [
      "/opt/conda/lib/python3.7/site-packages/sklearn/metrics/_classification.py:1221: UndefinedMetricWarning: Precision and F-score are ill-defined and being set to 0.0 in samples with no predicted labels. Use `zero_division` parameter to control this behavior.\n",
      "  _warn_prf(average, modifier, msg_start, len(result))\n"
     ]
    }
   ],
   "source": [
    "print(classification_report(y_test, preds))"
   ]
  },
  {
   "cell_type": "code",
   "execution_count": 86,
   "id": "8871b70a",
   "metadata": {
    "execution": {
     "iopub.execute_input": "2021-11-25T03:08:58.808297Z",
     "iopub.status.busy": "2021-11-25T03:08:58.807652Z",
     "iopub.status.idle": "2021-11-25T03:09:01.839951Z",
     "shell.execute_reply": "2021-11-25T03:09:01.840490Z",
     "shell.execute_reply.started": "2021-11-25T01:46:26.856436Z"
    },
    "papermill": {
     "duration": 3.877668,
     "end_time": "2021-11-25T03:09:01.840648",
     "exception": false,
     "start_time": "2021-11-25T03:08:57.962980",
     "status": "completed"
    },
    "tags": []
   },
   "outputs": [
    {
     "data": {
      "text/plain": [
       "array([[5.5654195e-14, 4.2864793e-18, 1.0000000e+00, ..., 2.3183498e-13,\n",
       "        5.1788044e-13, 2.8682273e-18],\n",
       "       [1.0000000e+00, 1.0654572e-15, 2.8610088e-11, ..., 7.0063282e-11,\n",
       "        2.5171908e-11, 1.1264474e-10],\n",
       "       [2.3334502e-14, 2.3150904e-12, 1.2056505e-08, ..., 5.4021093e-10,\n",
       "        1.2239002e-06, 9.9999642e-01],\n",
       "       ...,\n",
       "       [9.7665920e-25, 1.0693458e-15, 7.3015944e-18, ..., 4.5423063e-16,\n",
       "        7.7550786e-14, 1.8180205e-14],\n",
       "       [1.4198945e-13, 1.4241202e-13, 4.2288767e-14, ..., 3.4085176e-08,\n",
       "        6.1462124e-10, 9.9999940e-01],\n",
       "       [1.6762179e-16, 5.9796807e-17, 1.0000000e+00, ..., 6.5093618e-15,\n",
       "        2.1291374e-10, 2.4544773e-17]], dtype=float32)"
      ]
     },
     "execution_count": 86,
     "metadata": {},
     "output_type": "execute_result"
    }
   ],
   "source": [
    "test_preds = model.predict(test_data)\n",
    "test_preds"
   ]
  },
  {
   "cell_type": "code",
   "execution_count": 87,
   "id": "6aa542b4",
   "metadata": {
    "execution": {
     "iopub.execute_input": "2021-11-25T03:09:03.539555Z",
     "iopub.status.busy": "2021-11-25T03:09:03.538980Z",
     "iopub.status.idle": "2021-11-25T03:09:03.544308Z",
     "shell.execute_reply": "2021-11-25T03:09:03.543818Z",
     "shell.execute_reply.started": "2021-11-25T01:46:29.813744Z"
    },
    "papermill": {
     "duration": 0.858314,
     "end_time": "2021-11-25T03:09:03.544443",
     "exception": false,
     "start_time": "2021-11-25T03:09:02.686129",
     "status": "completed"
    },
    "tags": []
   },
   "outputs": [
    {
     "data": {
      "text/plain": [
       "(28000, 10)"
      ]
     },
     "execution_count": 87,
     "metadata": {},
     "output_type": "execute_result"
    }
   ],
   "source": [
    "test_preds.shape"
   ]
  },
  {
   "cell_type": "code",
   "execution_count": 88,
   "id": "15dca769",
   "metadata": {
    "execution": {
     "iopub.execute_input": "2021-11-25T03:09:05.286573Z",
     "iopub.status.busy": "2021-11-25T03:09:05.285970Z",
     "iopub.status.idle": "2021-11-25T03:09:05.292638Z",
     "shell.execute_reply": "2021-11-25T03:09:05.293127Z",
     "shell.execute_reply.started": "2021-11-25T01:46:29.821010Z"
    },
    "papermill": {
     "duration": 0.90642,
     "end_time": "2021-11-25T03:09:05.293301",
     "exception": false,
     "start_time": "2021-11-25T03:09:04.386881",
     "status": "completed"
    },
    "tags": []
   },
   "outputs": [
    {
     "data": {
      "text/plain": [
       "array([2, 0, 9, ..., 3, 9, 2])"
      ]
     },
     "execution_count": 88,
     "metadata": {},
     "output_type": "execute_result"
    }
   ],
   "source": [
    "preds = np.argmax(test_preds , axis = 1)\n",
    "test_image_id = range( 1 , len(preds)+1 )\n",
    "preds"
   ]
  },
  {
   "cell_type": "code",
   "execution_count": 89,
   "id": "2296c04e",
   "metadata": {
    "execution": {
     "iopub.execute_input": "2021-11-25T03:09:06.976572Z",
     "iopub.status.busy": "2021-11-25T03:09:06.975980Z",
     "iopub.status.idle": "2021-11-25T03:09:06.980343Z",
     "shell.execute_reply": "2021-11-25T03:09:06.980802Z",
     "shell.execute_reply.started": "2021-11-25T01:46:29.832759Z"
    },
    "papermill": {
     "duration": 0.848671,
     "end_time": "2021-11-25T03:09:06.980986",
     "exception": false,
     "start_time": "2021-11-25T03:09:06.132315",
     "status": "completed"
    },
    "tags": []
   },
   "outputs": [
    {
     "data": {
      "text/plain": [
       "28000"
      ]
     },
     "execution_count": 89,
     "metadata": {},
     "output_type": "execute_result"
    }
   ],
   "source": [
    "len(test_image_id)"
   ]
  },
  {
   "cell_type": "code",
   "execution_count": 90,
   "id": "20fc6426",
   "metadata": {
    "execution": {
     "iopub.execute_input": "2021-11-25T03:09:08.658380Z",
     "iopub.status.busy": "2021-11-25T03:09:08.656302Z",
     "iopub.status.idle": "2021-11-25T03:09:08.661773Z",
     "shell.execute_reply": "2021-11-25T03:09:08.661314Z",
     "shell.execute_reply.started": "2021-11-25T01:46:29.839666Z"
    },
    "papermill": {
     "duration": 0.84576,
     "end_time": "2021-11-25T03:09:08.661926",
     "exception": false,
     "start_time": "2021-11-25T03:09:07.816166",
     "status": "completed"
    },
    "tags": []
   },
   "outputs": [],
   "source": [
    "submit_df = {\"ImageId\" : test_image_id , \"Label\" : preds }\n",
    "submit_df = pd.DataFrame(submit_df)"
   ]
  },
  {
   "cell_type": "code",
   "execution_count": 91,
   "id": "fd62048c",
   "metadata": {
    "execution": {
     "iopub.execute_input": "2021-11-25T03:09:10.354468Z",
     "iopub.status.busy": "2021-11-25T03:09:10.353850Z",
     "iopub.status.idle": "2021-11-25T03:09:10.363115Z",
     "shell.execute_reply": "2021-11-25T03:09:10.363758Z",
     "shell.execute_reply.started": "2021-11-25T01:46:29.848397Z"
    },
    "papermill": {
     "duration": 0.857648,
     "end_time": "2021-11-25T03:09:10.363951",
     "exception": false,
     "start_time": "2021-11-25T03:09:09.506303",
     "status": "completed"
    },
    "tags": []
   },
   "outputs": [
    {
     "data": {
      "text/html": [
       "<div>\n",
       "<style scoped>\n",
       "    .dataframe tbody tr th:only-of-type {\n",
       "        vertical-align: middle;\n",
       "    }\n",
       "\n",
       "    .dataframe tbody tr th {\n",
       "        vertical-align: top;\n",
       "    }\n",
       "\n",
       "    .dataframe thead th {\n",
       "        text-align: right;\n",
       "    }\n",
       "</style>\n",
       "<table border=\"1\" class=\"dataframe\">\n",
       "  <thead>\n",
       "    <tr style=\"text-align: right;\">\n",
       "      <th></th>\n",
       "      <th>ImageId</th>\n",
       "      <th>Label</th>\n",
       "    </tr>\n",
       "  </thead>\n",
       "  <tbody>\n",
       "    <tr>\n",
       "      <th>0</th>\n",
       "      <td>1</td>\n",
       "      <td>2</td>\n",
       "    </tr>\n",
       "    <tr>\n",
       "      <th>1</th>\n",
       "      <td>2</td>\n",
       "      <td>0</td>\n",
       "    </tr>\n",
       "    <tr>\n",
       "      <th>2</th>\n",
       "      <td>3</td>\n",
       "      <td>9</td>\n",
       "    </tr>\n",
       "    <tr>\n",
       "      <th>3</th>\n",
       "      <td>4</td>\n",
       "      <td>9</td>\n",
       "    </tr>\n",
       "    <tr>\n",
       "      <th>4</th>\n",
       "      <td>5</td>\n",
       "      <td>3</td>\n",
       "    </tr>\n",
       "    <tr>\n",
       "      <th>...</th>\n",
       "      <td>...</td>\n",
       "      <td>...</td>\n",
       "    </tr>\n",
       "    <tr>\n",
       "      <th>27995</th>\n",
       "      <td>27996</td>\n",
       "      <td>9</td>\n",
       "    </tr>\n",
       "    <tr>\n",
       "      <th>27996</th>\n",
       "      <td>27997</td>\n",
       "      <td>7</td>\n",
       "    </tr>\n",
       "    <tr>\n",
       "      <th>27997</th>\n",
       "      <td>27998</td>\n",
       "      <td>3</td>\n",
       "    </tr>\n",
       "    <tr>\n",
       "      <th>27998</th>\n",
       "      <td>27999</td>\n",
       "      <td>9</td>\n",
       "    </tr>\n",
       "    <tr>\n",
       "      <th>27999</th>\n",
       "      <td>28000</td>\n",
       "      <td>2</td>\n",
       "    </tr>\n",
       "  </tbody>\n",
       "</table>\n",
       "<p>28000 rows × 2 columns</p>\n",
       "</div>"
      ],
      "text/plain": [
       "       ImageId  Label\n",
       "0            1      2\n",
       "1            2      0\n",
       "2            3      9\n",
       "3            4      9\n",
       "4            5      3\n",
       "...        ...    ...\n",
       "27995    27996      9\n",
       "27996    27997      7\n",
       "27997    27998      3\n",
       "27998    27999      9\n",
       "27999    28000      2\n",
       "\n",
       "[28000 rows x 2 columns]"
      ]
     },
     "execution_count": 91,
     "metadata": {},
     "output_type": "execute_result"
    }
   ],
   "source": [
    "submit_df"
   ]
  },
  {
   "cell_type": "code",
   "execution_count": 92,
   "id": "53579662",
   "metadata": {
    "execution": {
     "iopub.execute_input": "2021-11-25T03:09:12.132230Z",
     "iopub.status.busy": "2021-11-25T03:09:12.131310Z",
     "iopub.status.idle": "2021-11-25T03:09:12.165065Z",
     "shell.execute_reply": "2021-11-25T03:09:12.165608Z",
     "shell.execute_reply.started": "2021-11-25T01:46:29.863671Z"
    },
    "papermill": {
     "duration": 0.906753,
     "end_time": "2021-11-25T03:09:12.165775",
     "exception": false,
     "start_time": "2021-11-25T03:09:11.259022",
     "status": "completed"
    },
    "tags": []
   },
   "outputs": [],
   "source": [
    "submit_df.to_csv('submission.csv',index=False) # 0.98642 stacking multiple convolutional layers didnot increase the accuracy tremendously."
   ]
  },
  {
   "cell_type": "markdown",
   "id": "ebd79bb2",
   "metadata": {
    "papermill": {
     "duration": 0.841873,
     "end_time": "2021-11-25T03:09:13.857125",
     "exception": false,
     "start_time": "2021-11-25T03:09:13.015252",
     "status": "completed"
    },
    "tags": []
   },
   "source": [
    "# Hyperparameter tuning with Optuna"
   ]
  },
  {
   "cell_type": "code",
   "execution_count": 93,
   "id": "366c9e06",
   "metadata": {
    "execution": {
     "iopub.execute_input": "2021-11-25T03:09:15.545185Z",
     "iopub.status.busy": "2021-11-25T03:09:15.544516Z",
     "iopub.status.idle": "2021-11-25T03:09:15.548543Z",
     "shell.execute_reply": "2021-11-25T03:09:15.549037Z",
     "shell.execute_reply.started": "2021-11-25T01:46:29.924282Z"
    },
    "papermill": {
     "duration": 0.851942,
     "end_time": "2021-11-25T03:09:15.549212",
     "exception": false,
     "start_time": "2021-11-25T03:09:14.697270",
     "status": "completed"
    },
    "tags": []
   },
   "outputs": [],
   "source": [
    "# objective function\n",
    "\n",
    "def objective(trial):\n",
    "\n",
    "    # Keras Sequential model.\n",
    "    model = Sequential()\n",
    "\n",
    "    # Convolutional layers.\n",
    "\n",
    "    # the number of convolution layers\n",
    "    n_conv_layers = trial.suggest_int('n_conv_layers', 1, 3)\n",
    "\n",
    "    for i in range(n_conv_layers):\n",
    "        \n",
    "        # sample different filters, kernels, stride for each convolutional layer\n",
    "\n",
    "        model.add(Conv2D(\n",
    "            filters=trial.suggest_categorical('filters_{}'.format(i), [16, 32, 64]),\n",
    "            kernel_size=trial.suggest_categorical('kernel_size{}'.format(i), [3, 5]),\n",
    "            strides=trial.suggest_categorical('strides{}'.format(i), [1, 2]),\n",
    "            activation='relu',\n",
    "            padding='same',\n",
    "        ))\n",
    "\n",
    "    # Max Pooling\n",
    "    model.add(MaxPool2D(pool_size=2, strides=2))\n",
    "\n",
    "    # Flattening for the dense layer\n",
    "    model.add(Flatten())\n",
    "\n",
    "    # fully-connected Dense layers.\n",
    "    # The number of layers is a hyper-parameter we want to optimize.\n",
    "\n",
    "    n_dense_layers = trial.suggest_int('n_dense_layers', 1, 3)\n",
    "\n",
    "    for i in range(n_dense_layers):\n",
    "\n",
    "        # we want to optimize the number of nodes (neurons) and the activation function.\n",
    "        model.add(Dense(\n",
    "            units=trial.suggest_int('units{}'.format(i), 5, 512),\n",
    "            activation=trial.suggest_categorical(\n",
    "                'activation{}'.format(i), ['relu', 'tanh']),\n",
    "        ))\n",
    "\n",
    "    # the softmax layer for classification\n",
    "    model.add(Dense(10, activation='softmax'))\n",
    "\n",
    "    # the optimizer \n",
    "    optimizer_name = trial.suggest_categorical(\n",
    "        'optimizer_name', ['Adam', 'RMSprop'])\n",
    "\n",
    "    if optimizer_name == 'Adam':\n",
    "        optimizer = Adam(learning_rate=trial.suggest_float('learning_rate',  1e-6, 1e-2))\n",
    "    else:\n",
    "        optimizer = RMSprop(\n",
    "            learning_rate=trial.suggest_float('learning_rate',  1e-6, 1e-2),\n",
    "            momentum=trial.suggest_float('momentum',  0.1, 0.9),\n",
    "        )\n",
    "\n",
    "    # In Keras we need to compile the model so it can be trained.\n",
    "    model.compile(optimizer=optimizer,\n",
    "                  loss='categorical_crossentropy',\n",
    "                  metrics=['accuracy'])\n",
    "\n",
    "    # model training\n",
    "    history = model.fit(\n",
    "        x=X_train,\n",
    "        y=y_train,\n",
    "        epochs=5,\n",
    "        batch_size=128,\n",
    "        validation_split=0.1,\n",
    "    )\n",
    "\n",
    "    # Get the classification accuracy on the validation-set\n",
    "    # after the last training-epoch.\n",
    "    accuracy = history.history['val_accuracy'][-1]\n",
    "\n",
    "    return accuracy"
   ]
  },
  {
   "cell_type": "code",
   "execution_count": 94,
   "id": "16e5b543",
   "metadata": {
    "execution": {
     "iopub.execute_input": "2021-11-25T03:09:17.294943Z",
     "iopub.status.busy": "2021-11-25T03:09:17.294360Z",
     "iopub.status.idle": "2021-11-25T03:19:33.391499Z",
     "shell.execute_reply": "2021-11-25T03:19:33.344283Z",
     "shell.execute_reply.started": "2021-11-25T01:46:29.940874Z"
    },
    "papermill": {
     "duration": 616.994368,
     "end_time": "2021-11-25T03:19:33.391657",
     "exception": false,
     "start_time": "2021-11-25T03:09:16.397289",
     "status": "completed"
    },
    "tags": []
   },
   "outputs": [
    {
     "name": "stderr",
     "output_type": "stream",
     "text": [
      "\u001b[32m[I 2021-11-25 03:09:17,295]\u001b[0m A new study created in memory with name: no-name-29ce3be5-e7cb-4c49-9f94-298ba3d317f9\u001b[0m\n"
     ]
    },
    {
     "name": "stdout",
     "output_type": "stream",
     "text": [
      "Epoch 1/5\n",
      "237/237 [==============================] - 35s 146ms/step - loss: 4.2918 - accuracy: 0.1073 - val_loss: 2.3038 - val_accuracy: 0.1107\n",
      "Epoch 2/5\n",
      "237/237 [==============================] - 34s 144ms/step - loss: 2.3034 - accuracy: 0.1075 - val_loss: 2.3008 - val_accuracy: 0.1137\n",
      "Epoch 3/5\n",
      "237/237 [==============================] - 34s 145ms/step - loss: 2.3034 - accuracy: 0.1079 - val_loss: 2.3036 - val_accuracy: 0.0958\n",
      "Epoch 4/5\n",
      "237/237 [==============================] - 34s 145ms/step - loss: 2.3032 - accuracy: 0.1086 - val_loss: 2.3028 - val_accuracy: 0.1107\n",
      "Epoch 5/5\n",
      "237/237 [==============================] - 34s 145ms/step - loss: 2.3029 - accuracy: 0.1103 - val_loss: 2.3023 - val_accuracy: 0.1107\n"
     ]
    },
    {
     "name": "stderr",
     "output_type": "stream",
     "text": [
      "\u001b[32m[I 2021-11-25 03:12:09,759]\u001b[0m Trial 0 finished with value: 0.11071428656578064 and parameters: {'n_conv_layers': 2, 'filters_0': 64, 'kernel_size0': 3, 'strides0': 1, 'filters_1': 16, 'kernel_size1': 5, 'strides1': 1, 'n_dense_layers': 2, 'units0': 345, 'activation0': 'tanh', 'units1': 309, 'activation1': 'relu', 'optimizer_name': 'RMSprop', 'learning_rate': 0.007233468368693003, 'momentum': 0.8052212498330342}. Best is trial 0 with value: 0.11071428656578064.\u001b[0m\n"
     ]
    },
    {
     "name": "stdout",
     "output_type": "stream",
     "text": [
      "Epoch 1/5\n",
      "237/237 [==============================] - 2s 8ms/step - loss: 0.3642 - accuracy: 0.8862 - val_loss: 0.2338 - val_accuracy: 0.9393\n",
      "Epoch 2/5\n",
      "237/237 [==============================] - 2s 8ms/step - loss: 0.1609 - accuracy: 0.9528 - val_loss: 0.1457 - val_accuracy: 0.9533\n",
      "Epoch 3/5\n",
      "237/237 [==============================] - 2s 10ms/step - loss: 0.1305 - accuracy: 0.9636 - val_loss: 0.1385 - val_accuracy: 0.9589\n",
      "Epoch 4/5\n",
      "237/237 [==============================] - 2s 8ms/step - loss: 0.1117 - accuracy: 0.9684 - val_loss: 0.1952 - val_accuracy: 0.9467\n",
      "Epoch 5/5\n",
      "237/237 [==============================] - 2s 8ms/step - loss: 0.1016 - accuracy: 0.9717 - val_loss: 0.1246 - val_accuracy: 0.9661\n"
     ]
    },
    {
     "name": "stderr",
     "output_type": "stream",
     "text": [
      "\u001b[32m[I 2021-11-25 03:12:20,399]\u001b[0m Trial 1 finished with value: 0.9660714268684387 and parameters: {'n_conv_layers': 2, 'filters_0': 16, 'kernel_size0': 3, 'strides0': 2, 'filters_1': 16, 'kernel_size1': 5, 'strides1': 2, 'n_dense_layers': 1, 'units0': 399, 'activation0': 'tanh', 'optimizer_name': 'RMSprop', 'learning_rate': 0.009077070622069694, 'momentum': 0.22543842203185305}. Best is trial 1 with value: 0.9660714268684387.\u001b[0m\n"
     ]
    },
    {
     "name": "stdout",
     "output_type": "stream",
     "text": [
      "Epoch 1/5\n",
      "237/237 [==============================] - 5s 17ms/step - loss: 0.2284 - accuracy: 0.9340 - val_loss: 0.0800 - val_accuracy: 0.9765\n",
      "Epoch 2/5\n",
      "237/237 [==============================] - 4s 16ms/step - loss: 0.0567 - accuracy: 0.9816 - val_loss: 0.1151 - val_accuracy: 0.9688\n",
      "Epoch 3/5\n",
      "237/237 [==============================] - 4s 18ms/step - loss: 0.0318 - accuracy: 0.9890 - val_loss: 0.0751 - val_accuracy: 0.9777\n",
      "Epoch 4/5\n",
      "237/237 [==============================] - 4s 17ms/step - loss: 0.0236 - accuracy: 0.9919 - val_loss: 0.0935 - val_accuracy: 0.9777\n",
      "Epoch 5/5\n",
      "237/237 [==============================] - 4s 17ms/step - loss: 0.0194 - accuracy: 0.9934 - val_loss: 0.1084 - val_accuracy: 0.9801\n"
     ]
    },
    {
     "name": "stderr",
     "output_type": "stream",
     "text": [
      "\u001b[32m[I 2021-11-25 03:12:41,342]\u001b[0m Trial 2 finished with value: 0.9800595045089722 and parameters: {'n_conv_layers': 1, 'filters_0': 16, 'kernel_size0': 3, 'strides0': 1, 'n_dense_layers': 1, 'units0': 404, 'activation0': 'relu', 'optimizer_name': 'Adam', 'learning_rate': 0.009602632579376548}. Best is trial 2 with value: 0.9800595045089722.\u001b[0m\n"
     ]
    },
    {
     "name": "stdout",
     "output_type": "stream",
     "text": [
      "Epoch 1/5\n",
      "237/237 [==============================] - 8s 31ms/step - loss: 5.0481 - accuracy: 0.1013 - val_loss: 4.5882 - val_accuracy: 0.1107\n",
      "Epoch 2/5\n",
      "237/237 [==============================] - 7s 28ms/step - loss: 4.7138 - accuracy: 0.1028 - val_loss: 4.6906 - val_accuracy: 0.0994\n",
      "Epoch 3/5\n",
      "237/237 [==============================] - 7s 28ms/step - loss: 4.7898 - accuracy: 0.1001 - val_loss: 5.7349 - val_accuracy: 0.1107\n",
      "Epoch 4/5\n",
      "237/237 [==============================] - 7s 31ms/step - loss: 4.7639 - accuracy: 0.0998 - val_loss: 5.3358 - val_accuracy: 0.0991\n",
      "Epoch 5/5\n",
      "237/237 [==============================] - 7s 28ms/step - loss: 4.7515 - accuracy: 0.1026 - val_loss: 4.7059 - val_accuracy: 0.1137\n"
     ]
    },
    {
     "name": "stderr",
     "output_type": "stream",
     "text": [
      "\u001b[32m[I 2021-11-25 03:13:16,618]\u001b[0m Trial 3 finished with value: 0.11369047313928604 and parameters: {'n_conv_layers': 2, 'filters_0': 16, 'kernel_size0': 3, 'strides0': 2, 'filters_1': 64, 'kernel_size1': 3, 'strides1': 1, 'n_dense_layers': 3, 'units0': 234, 'activation0': 'tanh', 'units1': 177, 'activation1': 'relu', 'units2': 482, 'activation2': 'tanh', 'optimizer_name': 'RMSprop', 'learning_rate': 0.009453176475231221, 'momentum': 0.10785470806417452}. Best is trial 2 with value: 0.9800595045089722.\u001b[0m\n"
     ]
    },
    {
     "name": "stdout",
     "output_type": "stream",
     "text": [
      "Epoch 1/5\n",
      "237/237 [==============================] - 8s 31ms/step - loss: 4.8751 - accuracy: 0.2465 - val_loss: 4.0720 - val_accuracy: 0.3134\n",
      "Epoch 2/5\n",
      "237/237 [==============================] - 6s 27ms/step - loss: 2.2488 - accuracy: 0.4727 - val_loss: 2.9362 - val_accuracy: 0.4780\n",
      "Epoch 3/5\n",
      "237/237 [==============================] - 7s 28ms/step - loss: 1.7044 - accuracy: 0.6168 - val_loss: 1.5235 - val_accuracy: 0.5955\n",
      "Epoch 4/5\n",
      "237/237 [==============================] - 8s 32ms/step - loss: 1.5959 - accuracy: 0.6337 - val_loss: 1.5174 - val_accuracy: 0.6842\n",
      "Epoch 5/5\n",
      "237/237 [==============================] - 7s 30ms/step - loss: 1.3905 - accuracy: 0.6840 - val_loss: 1.0932 - val_accuracy: 0.7426\n"
     ]
    },
    {
     "name": "stderr",
     "output_type": "stream",
     "text": [
      "\u001b[32m[I 2021-11-25 03:13:52,347]\u001b[0m Trial 4 finished with value: 0.742559552192688 and parameters: {'n_conv_layers': 2, 'filters_0': 16, 'kernel_size0': 5, 'strides0': 1, 'filters_1': 32, 'kernel_size1': 5, 'strides1': 2, 'n_dense_layers': 2, 'units0': 109, 'activation0': 'tanh', 'units1': 465, 'activation1': 'tanh', 'optimizer_name': 'RMSprop', 'learning_rate': 0.008425681096535827, 'momentum': 0.656472149229469}. Best is trial 2 with value: 0.9800595045089722.\u001b[0m\n"
     ]
    },
    {
     "name": "stdout",
     "output_type": "stream",
     "text": [
      "Epoch 1/5\n",
      "237/237 [==============================] - 5s 20ms/step - loss: 0.2001 - accuracy: 0.9403 - val_loss: 0.0946 - val_accuracy: 0.9717\n",
      "Epoch 2/5\n",
      "237/237 [==============================] - 5s 19ms/step - loss: 0.0563 - accuracy: 0.9820 - val_loss: 0.0778 - val_accuracy: 0.9780\n",
      "Epoch 3/5\n",
      "237/237 [==============================] - 5s 20ms/step - loss: 0.0370 - accuracy: 0.9880 - val_loss: 0.0857 - val_accuracy: 0.9750\n",
      "Epoch 4/5\n",
      "237/237 [==============================] - 5s 20ms/step - loss: 0.0259 - accuracy: 0.9915 - val_loss: 0.0867 - val_accuracy: 0.9807\n",
      "Epoch 5/5\n",
      "237/237 [==============================] - 5s 22ms/step - loss: 0.0251 - accuracy: 0.9922 - val_loss: 0.1251 - val_accuracy: 0.9762\n"
     ]
    },
    {
     "name": "stderr",
     "output_type": "stream",
     "text": [
      "\u001b[32m[I 2021-11-25 03:14:17,000]\u001b[0m Trial 5 finished with value: 0.976190447807312 and parameters: {'n_conv_layers': 1, 'filters_0': 16, 'kernel_size0': 5, 'strides0': 1, 'n_dense_layers': 1, 'units0': 472, 'activation0': 'relu', 'optimizer_name': 'Adam', 'learning_rate': 0.009018492498218816}. Best is trial 2 with value: 0.9800595045089722.\u001b[0m\n"
     ]
    },
    {
     "name": "stdout",
     "output_type": "stream",
     "text": [
      "Epoch 1/5\n",
      "237/237 [==============================] - 23s 94ms/step - loss: 0.6157 - accuracy: 0.7914 - val_loss: 0.3062 - val_accuracy: 0.9033\n",
      "Epoch 2/5\n",
      "237/237 [==============================] - 24s 100ms/step - loss: 0.2283 - accuracy: 0.9305 - val_loss: 0.2166 - val_accuracy: 0.9360\n",
      "Epoch 3/5\n",
      "237/237 [==============================] - 23s 98ms/step - loss: 0.1976 - accuracy: 0.9387 - val_loss: 0.2451 - val_accuracy: 0.9259\n",
      "Epoch 4/5\n",
      "237/237 [==============================] - 22s 91ms/step - loss: 0.1781 - accuracy: 0.9474 - val_loss: 0.1942 - val_accuracy: 0.9399\n",
      "Epoch 5/5\n",
      "237/237 [==============================] - 23s 99ms/step - loss: 0.1746 - accuracy: 0.9478 - val_loss: 0.1886 - val_accuracy: 0.9429\n"
     ]
    },
    {
     "name": "stderr",
     "output_type": "stream",
     "text": [
      "\u001b[32m[I 2021-11-25 03:16:12,085]\u001b[0m Trial 6 finished with value: 0.9428571462631226 and parameters: {'n_conv_layers': 3, 'filters_0': 64, 'kernel_size0': 5, 'strides0': 1, 'filters_1': 32, 'kernel_size1': 5, 'strides1': 2, 'filters_2': 16, 'kernel_size2': 5, 'strides2': 2, 'n_dense_layers': 3, 'units0': 446, 'activation0': 'tanh', 'units1': 123, 'activation1': 'relu', 'units2': 480, 'activation2': 'relu', 'optimizer_name': 'Adam', 'learning_rate': 0.007837788159586941}. Best is trial 2 with value: 0.9800595045089722.\u001b[0m\n"
     ]
    },
    {
     "name": "stdout",
     "output_type": "stream",
     "text": [
      "Epoch 1/5\n",
      "237/237 [==============================] - 24s 101ms/step - loss: 1.2252 - accuracy: 0.6733 - val_loss: 0.2797 - val_accuracy: 0.9229\n",
      "Epoch 2/5\n",
      "237/237 [==============================] - 22s 93ms/step - loss: 0.1667 - accuracy: 0.9502 - val_loss: 0.1816 - val_accuracy: 0.9446\n",
      "Epoch 3/5\n",
      "237/237 [==============================] - 24s 102ms/step - loss: 0.1553 - accuracy: 0.9588 - val_loss: 0.2515 - val_accuracy: 0.9304\n",
      "Epoch 4/5\n",
      "237/237 [==============================] - 24s 102ms/step - loss: 0.1773 - accuracy: 0.9485 - val_loss: 0.2807 - val_accuracy: 0.9125\n",
      "Epoch 5/5\n",
      "237/237 [==============================] - 22s 93ms/step - loss: 0.2134 - accuracy: 0.9407 - val_loss: 0.1989 - val_accuracy: 0.9408\n"
     ]
    },
    {
     "name": "stderr",
     "output_type": "stream",
     "text": [
      "\u001b[32m[I 2021-11-25 03:18:09,278]\u001b[0m Trial 7 finished with value: 0.9407737851142883 and parameters: {'n_conv_layers': 3, 'filters_0': 64, 'kernel_size0': 5, 'strides0': 2, 'filters_1': 32, 'kernel_size1': 5, 'strides1': 1, 'filters_2': 64, 'kernel_size2': 3, 'strides2': 1, 'n_dense_layers': 1, 'units0': 259, 'activation0': 'tanh', 'optimizer_name': 'RMSprop', 'learning_rate': 0.009760723365197649, 'momentum': 0.15212099619330105}. Best is trial 2 with value: 0.9800595045089722.\u001b[0m\n"
     ]
    },
    {
     "name": "stdout",
     "output_type": "stream",
     "text": [
      "Epoch 1/5\n",
      "237/237 [==============================] - 6s 22ms/step - loss: 0.2147 - accuracy: 0.9316 - val_loss: 0.0912 - val_accuracy: 0.9696\n",
      "Epoch 2/5\n",
      "237/237 [==============================] - 5s 20ms/step - loss: 0.0611 - accuracy: 0.9809 - val_loss: 0.0965 - val_accuracy: 0.9750\n",
      "Epoch 3/5\n",
      "237/237 [==============================] - 5s 19ms/step - loss: 0.0379 - accuracy: 0.9880 - val_loss: 0.0867 - val_accuracy: 0.9801\n",
      "Epoch 4/5\n",
      "237/237 [==============================] - 4s 18ms/step - loss: 0.0293 - accuracy: 0.9899 - val_loss: 0.0931 - val_accuracy: 0.9756\n",
      "Epoch 5/5\n",
      "237/237 [==============================] - 4s 19ms/step - loss: 0.0240 - accuracy: 0.9923 - val_loss: 0.1187 - val_accuracy: 0.9741\n"
     ]
    },
    {
     "name": "stderr",
     "output_type": "stream",
     "text": [
      "\u001b[32m[I 2021-11-25 03:18:33,306]\u001b[0m Trial 8 finished with value: 0.9741071462631226 and parameters: {'n_conv_layers': 1, 'filters_0': 16, 'kernel_size0': 3, 'strides0': 1, 'n_dense_layers': 3, 'units0': 421, 'activation0': 'relu', 'units1': 113, 'activation1': 'tanh', 'units2': 228, 'activation2': 'relu', 'optimizer_name': 'Adam', 'learning_rate': 0.0036497288940476385}. Best is trial 2 with value: 0.9800595045089722.\u001b[0m\n"
     ]
    },
    {
     "name": "stdout",
     "output_type": "stream",
     "text": [
      "Epoch 1/5\n",
      "237/237 [==============================] - 12s 49ms/step - loss: 0.5069 - accuracy: 0.8747 - val_loss: 0.2842 - val_accuracy: 0.9312\n",
      "Epoch 2/5\n",
      "237/237 [==============================] - 12s 52ms/step - loss: 0.3234 - accuracy: 0.9327 - val_loss: 0.3584 - val_accuracy: 0.9384\n",
      "Epoch 3/5\n",
      "237/237 [==============================] - 11s 47ms/step - loss: 0.3010 - accuracy: 0.9438 - val_loss: 0.4201 - val_accuracy: 0.9342\n",
      "Epoch 4/5\n",
      "237/237 [==============================] - 11s 48ms/step - loss: 0.3035 - accuracy: 0.9477 - val_loss: 0.5071 - val_accuracy: 0.9220\n",
      "Epoch 5/5\n",
      "237/237 [==============================] - 12s 51ms/step - loss: 0.3231 - accuracy: 0.9452 - val_loss: 0.3897 - val_accuracy: 0.9357\n"
     ]
    },
    {
     "name": "stderr",
     "output_type": "stream",
     "text": [
      "\u001b[32m[I 2021-11-25 03:19:32,452]\u001b[0m Trial 9 finished with value: 0.9357143044471741 and parameters: {'n_conv_layers': 1, 'filters_0': 64, 'kernel_size0': 3, 'strides0': 1, 'n_dense_layers': 1, 'units0': 239, 'activation0': 'tanh', 'optimizer_name': 'RMSprop', 'learning_rate': 0.006964720368015701, 'momentum': 0.8375698560518268}. Best is trial 2 with value: 0.9800595045089722.\u001b[0m\n"
     ]
    }
   ],
   "source": [
    "study = optuna.create_study(\n",
    "    direction='maximize'\n",
    ")\n",
    "\n",
    "study.optimize(objective, n_trials=10)"
   ]
  },
  {
   "cell_type": "code",
   "execution_count": 95,
   "id": "ad03e5be",
   "metadata": {
    "execution": {
     "iopub.execute_input": "2021-11-25T03:19:38.242985Z",
     "iopub.status.busy": "2021-11-25T03:19:38.241996Z",
     "iopub.status.idle": "2021-11-25T03:19:38.247465Z",
     "shell.execute_reply": "2021-11-25T03:19:38.247954Z",
     "shell.execute_reply.started": "2021-11-25T02:00:21.181707Z"
    },
    "papermill": {
     "duration": 2.462574,
     "end_time": "2021-11-25T03:19:38.248123",
     "exception": false,
     "start_time": "2021-11-25T03:19:35.785549",
     "status": "completed"
    },
    "tags": []
   },
   "outputs": [
    {
     "data": {
      "text/plain": [
       "{'n_conv_layers': 1,\n",
       " 'filters_0': 16,\n",
       " 'kernel_size0': 3,\n",
       " 'strides0': 1,\n",
       " 'n_dense_layers': 1,\n",
       " 'units0': 404,\n",
       " 'activation0': 'relu',\n",
       " 'optimizer_name': 'Adam',\n",
       " 'learning_rate': 0.009602632579376548}"
      ]
     },
     "execution_count": 95,
     "metadata": {},
     "output_type": "execute_result"
    }
   ],
   "source": [
    "study.best_params"
   ]
  },
  {
   "cell_type": "code",
   "execution_count": 96,
   "id": "4fb96a59",
   "metadata": {
    "execution": {
     "iopub.execute_input": "2021-11-25T03:19:43.143892Z",
     "iopub.status.busy": "2021-11-25T03:19:43.142960Z",
     "iopub.status.idle": "2021-11-25T03:19:43.148180Z",
     "shell.execute_reply": "2021-11-25T03:19:43.148608Z",
     "shell.execute_reply.started": "2021-11-25T02:00:21.192082Z"
    },
    "papermill": {
     "duration": 2.485145,
     "end_time": "2021-11-25T03:19:43.148763",
     "exception": false,
     "start_time": "2021-11-25T03:19:40.663618",
     "status": "completed"
    },
    "tags": []
   },
   "outputs": [
    {
     "data": {
      "text/plain": [
       "0.9800595045089722"
      ]
     },
     "execution_count": 96,
     "metadata": {},
     "output_type": "execute_result"
    }
   ],
   "source": [
    "study.best_value"
   ]
  },
  {
   "cell_type": "code",
   "execution_count": 97,
   "id": "54b734c8",
   "metadata": {
    "execution": {
     "iopub.execute_input": "2021-11-25T03:19:47.920582Z",
     "iopub.status.busy": "2021-11-25T03:19:47.919659Z",
     "iopub.status.idle": "2021-11-25T03:19:47.976586Z",
     "shell.execute_reply": "2021-11-25T03:19:47.976018Z",
     "shell.execute_reply.started": "2021-11-25T02:21:57.899944Z"
    },
    "papermill": {
     "duration": 2.441833,
     "end_time": "2021-11-25T03:19:47.976719",
     "exception": false,
     "start_time": "2021-11-25T03:19:45.534886",
     "status": "completed"
    },
    "tags": []
   },
   "outputs": [],
   "source": [
    "#Sequential API\n",
    "model = Sequential()\n",
    "#Convolutional layer\n",
    "model.add(Conv2D(filters=16,kernel_size=(3,3),input_shape=(28,28,1),activation='relu'))\n",
    "# Pooling layer\n",
    "model.add(MaxPool2D(pool_size=(2,2)))\n",
    "#Convolutional layer\n",
    "model.add(Conv2D(filters=32,kernel_size=(5,5),activation='relu'))\n",
    "# Pooling layer\n",
    "model.add(MaxPool2D(pool_size=(2,2)))\n",
    "model.add(Flatten())    \n",
    "model.add(Dense(242,activation='relu'))\n",
    "model.add(Dense(27,activation='tanh'))\n",
    "#output layer multiclass hence softmax layer\n",
    "model.add(Dense(10,activation='softmax'))"
   ]
  },
  {
   "cell_type": "code",
   "execution_count": 98,
   "id": "42d9bcd8",
   "metadata": {
    "execution": {
     "iopub.execute_input": "2021-11-25T03:19:52.990661Z",
     "iopub.status.busy": "2021-11-25T03:19:52.989569Z",
     "iopub.status.idle": "2021-11-25T03:19:52.997811Z",
     "shell.execute_reply": "2021-11-25T03:19:52.998341Z",
     "shell.execute_reply.started": "2021-11-25T02:21:59.166258Z"
    },
    "papermill": {
     "duration": 2.420179,
     "end_time": "2021-11-25T03:19:52.998515",
     "exception": false,
     "start_time": "2021-11-25T03:19:50.578336",
     "status": "completed"
    },
    "tags": []
   },
   "outputs": [],
   "source": [
    "opt = Adam(learning_rate=0.004618995519239905)\n",
    "model.compile(loss='categorical_crossentropy',optimizer=opt, metrics=['accuracy'])"
   ]
  },
  {
   "cell_type": "code",
   "execution_count": 99,
   "id": "e237a228",
   "metadata": {
    "execution": {
     "iopub.execute_input": "2021-11-25T03:19:57.844833Z",
     "iopub.status.busy": "2021-11-25T03:19:57.843914Z",
     "iopub.status.idle": "2021-11-25T03:19:57.852966Z",
     "shell.execute_reply": "2021-11-25T03:19:57.853733Z",
     "shell.execute_reply.started": "2021-11-25T02:22:00.430100Z"
    },
    "papermill": {
     "duration": 2.414274,
     "end_time": "2021-11-25T03:19:57.853972",
     "exception": false,
     "start_time": "2021-11-25T03:19:55.439698",
     "status": "completed"
    },
    "tags": []
   },
   "outputs": [
    {
     "name": "stdout",
     "output_type": "stream",
     "text": [
      "Model: \"sequential_13\"\n",
      "_________________________________________________________________\n",
      "Layer (type)                 Output Shape              Param #   \n",
      "=================================================================\n",
      "conv2d_22 (Conv2D)           (None, 26, 26, 16)        160       \n",
      "_________________________________________________________________\n",
      "max_pooling2d_14 (MaxPooling (None, 13, 13, 16)        0         \n",
      "_________________________________________________________________\n",
      "conv2d_23 (Conv2D)           (None, 9, 9, 32)          12832     \n",
      "_________________________________________________________________\n",
      "max_pooling2d_15 (MaxPooling (None, 4, 4, 32)          0         \n",
      "_________________________________________________________________\n",
      "flatten_13 (Flatten)         (None, 512)               0         \n",
      "_________________________________________________________________\n",
      "dense_34 (Dense)             (None, 242)               124146    \n",
      "_________________________________________________________________\n",
      "dense_35 (Dense)             (None, 27)                6561      \n",
      "_________________________________________________________________\n",
      "dense_36 (Dense)             (None, 10)                280       \n",
      "=================================================================\n",
      "Total params: 143,979\n",
      "Trainable params: 143,979\n",
      "Non-trainable params: 0\n",
      "_________________________________________________________________\n"
     ]
    }
   ],
   "source": [
    "model.summary()"
   ]
  },
  {
   "cell_type": "code",
   "execution_count": 100,
   "id": "19d14991",
   "metadata": {
    "execution": {
     "iopub.execute_input": "2021-11-25T03:20:02.768192Z",
     "iopub.status.busy": "2021-11-25T03:20:02.767143Z",
     "iopub.status.idle": "2021-11-25T03:20:49.244752Z",
     "shell.execute_reply": "2021-11-25T03:20:49.244274Z",
     "shell.execute_reply.started": "2021-11-25T02:22:00.944753Z"
    },
    "papermill": {
     "duration": 48.939778,
     "end_time": "2021-11-25T03:20:49.244937",
     "exception": false,
     "start_time": "2021-11-25T03:20:00.305159",
     "status": "completed"
    },
    "tags": []
   },
   "outputs": [
    {
     "name": "stdout",
     "output_type": "stream",
     "text": [
      "Epoch 1/10\n",
      "263/263 [==============================] - 5s 18ms/step - loss: 0.2340 - accuracy: 0.9318 - val_loss: 0.0762 - val_accuracy: 0.9771\n",
      "Epoch 2/10\n",
      "263/263 [==============================] - 4s 17ms/step - loss: 0.0595 - accuracy: 0.9826 - val_loss: 0.0604 - val_accuracy: 0.9818\n",
      "Epoch 3/10\n",
      "263/263 [==============================] - 4s 17ms/step - loss: 0.0422 - accuracy: 0.9867 - val_loss: 0.0614 - val_accuracy: 0.9833\n",
      "Epoch 4/10\n",
      "263/263 [==============================] - 4s 17ms/step - loss: 0.0301 - accuracy: 0.9910 - val_loss: 0.0491 - val_accuracy: 0.9867\n",
      "Epoch 5/10\n",
      "263/263 [==============================] - 4s 17ms/step - loss: 0.0232 - accuracy: 0.9924 - val_loss: 0.0524 - val_accuracy: 0.9858\n",
      "Epoch 6/10\n",
      "263/263 [==============================] - 5s 19ms/step - loss: 0.0241 - accuracy: 0.9926 - val_loss: 0.0671 - val_accuracy: 0.9815\n",
      "Epoch 7/10\n",
      "263/263 [==============================] - 5s 18ms/step - loss: 0.0178 - accuracy: 0.9945 - val_loss: 0.0549 - val_accuracy: 0.9857\n",
      "Epoch 8/10\n",
      "263/263 [==============================] - 5s 18ms/step - loss: 0.0205 - accuracy: 0.9940 - val_loss: 0.0585 - val_accuracy: 0.9857\n",
      "Epoch 9/10\n",
      "263/263 [==============================] - 5s 18ms/step - loss: 0.0199 - accuracy: 0.9932 - val_loss: 0.0534 - val_accuracy: 0.9871\n",
      "Epoch 10/10\n",
      "263/263 [==============================] - 4s 17ms/step - loss: 0.0163 - accuracy: 0.9949 - val_loss: 0.0566 - val_accuracy: 0.9868\n"
     ]
    },
    {
     "data": {
      "text/plain": [
       "<keras.callbacks.History at 0x7f1261ca7d10>"
      ]
     },
     "execution_count": 100,
     "metadata": {},
     "output_type": "execute_result"
    }
   ],
   "source": [
    "model.fit(X_train,y_train,epochs=10,batch_size=128,validation_data=(X_test,y_test))"
   ]
  },
  {
   "cell_type": "code",
   "execution_count": 101,
   "id": "87b12710",
   "metadata": {
    "execution": {
     "iopub.execute_input": "2021-11-25T03:20:54.423102Z",
     "iopub.status.busy": "2021-11-25T03:20:54.422485Z",
     "iopub.status.idle": "2021-11-25T03:20:54.425054Z",
     "shell.execute_reply": "2021-11-25T03:20:54.424595Z",
     "shell.execute_reply.started": "2021-11-25T02:22:50.000680Z"
    },
    "papermill": {
     "duration": 2.570899,
     "end_time": "2021-11-25T03:20:54.425188",
     "exception": false,
     "start_time": "2021-11-25T03:20:51.854289",
     "status": "completed"
    },
    "tags": []
   },
   "outputs": [],
   "source": [
    "metrics = pd.DataFrame(model.history.history)"
   ]
  },
  {
   "cell_type": "code",
   "execution_count": 102,
   "id": "5bc97874",
   "metadata": {
    "execution": {
     "iopub.execute_input": "2021-11-25T03:20:59.636569Z",
     "iopub.status.busy": "2021-11-25T03:20:59.635964Z",
     "iopub.status.idle": "2021-11-25T03:21:00.220404Z",
     "shell.execute_reply": "2021-11-25T03:21:00.220806Z",
     "shell.execute_reply.started": "2021-11-25T02:22:50.007466Z"
    },
    "papermill": {
     "duration": 3.148446,
     "end_time": "2021-11-25T03:21:00.220999",
     "exception": false,
     "start_time": "2021-11-25T03:20:57.072553",
     "status": "completed"
    },
    "tags": []
   },
   "outputs": [
    {
     "data": {
      "text/plain": [
       "<AxesSubplot:>"
      ]
     },
     "execution_count": 102,
     "metadata": {},
     "output_type": "execute_result"
    },
    {
     "data": {
      "image/png": "[encoded data removed]",
      "text/plain": [
       "<Figure size 432x288 with 1 Axes>"
      ]
     },
     "metadata": {
      "needs_background": "light"
     },
     "output_type": "display_data"
    }
   ],
   "source": [
    "metrics[[\"loss\",\"val_loss\"]].plot() # by second epoch validation loss came down then going up and down and up which is sign of overfitting"
   ]
  },
  {
   "cell_type": "code",
   "execution_count": 103,
   "id": "c8c950b3",
   "metadata": {
    "execution": {
     "iopub.execute_input": "2021-11-25T03:21:05.502683Z",
     "iopub.status.busy": "2021-11-25T03:21:05.501711Z",
     "iopub.status.idle": "2021-11-25T03:21:05.684784Z",
     "shell.execute_reply": "2021-11-25T03:21:05.685335Z",
     "shell.execute_reply.started": "2021-11-25T02:22:50.236717Z"
    },
    "papermill": {
     "duration": 2.748987,
     "end_time": "2021-11-25T03:21:05.685507",
     "exception": false,
     "start_time": "2021-11-25T03:21:02.936520",
     "status": "completed"
    },
    "tags": []
   },
   "outputs": [
    {
     "data": {
      "text/plain": [
       "<AxesSubplot:>"
      ]
     },
     "execution_count": 103,
     "metadata": {},
     "output_type": "execute_result"
    },
    {
     "data": {
      "image/png": "[encoded data removed]",
      "text/plain": [
       "<Figure size 432x288 with 1 Axes>"
      ]
     },
     "metadata": {
      "needs_background": "light"
     },
     "output_type": "display_data"
    }
   ],
   "source": [
    "metrics[[\"accuracy\",\"val_accuracy\"]].plot() # similarly accuracy increased then by 5th epoch the accuracy increased then going down and up"
   ]
  },
  {
   "cell_type": "code",
   "execution_count": 104,
   "id": "4d49203e",
   "metadata": {
    "execution": {
     "iopub.execute_input": "2021-11-25T03:21:10.893931Z",
     "iopub.status.busy": "2021-11-25T03:21:10.893014Z",
     "iopub.status.idle": "2021-11-25T03:21:11.651488Z",
     "shell.execute_reply": "2021-11-25T03:21:11.652163Z",
     "shell.execute_reply.started": "2021-11-25T02:33:04.506517Z"
    },
    "papermill": {
     "duration": 3.313576,
     "end_time": "2021-11-25T03:21:11.652336",
     "exception": false,
     "start_time": "2021-11-25T03:21:08.338760",
     "status": "completed"
    },
    "tags": []
   },
   "outputs": [
    {
     "data": {
      "text/plain": [
       "array([[5.0710291e-06, 7.8291550e-06, 1.5202042e-07, ..., 6.2003420e-07,\n",
       "        4.6676363e-05, 3.0015024e-05],\n",
       "       [9.9990082e-01, 1.2242782e-06, 1.5415615e-05, ..., 8.1197516e-07,\n",
       "        2.1819280e-05, 2.4387429e-05],\n",
       "       [2.3234027e-04, 6.4197688e-05, 9.9848866e-01, ..., 1.5071998e-04,\n",
       "        4.4260299e-04, 1.2980929e-05],\n",
       "       ...,\n",
       "       [3.6603225e-05, 1.3757825e-06, 5.9128128e-05, ..., 1.7157523e-06,\n",
       "        9.9892741e-01, 7.1753369e-05],\n",
       "       [6.0790802e-07, 8.0529162e-06, 1.6429587e-04, ..., 9.9970883e-01,\n",
       "        9.7681414e-07, 6.4958986e-05],\n",
       "       [1.3840367e-05, 2.5362490e-06, 1.5739686e-06, ..., 5.5113353e-05,\n",
       "        1.3431012e-04, 9.9887377e-01]], dtype=float32)"
      ]
     },
     "execution_count": 104,
     "metadata": {},
     "output_type": "execute_result"
    }
   ],
   "source": [
    "preds = model.predict(X_test)\n",
    "preds"
   ]
  },
  {
   "cell_type": "code",
   "execution_count": 105,
   "id": "334181b5",
   "metadata": {
    "execution": {
     "iopub.execute_input": "2021-11-25T03:21:16.840147Z",
     "iopub.status.busy": "2021-11-25T03:21:16.839238Z",
     "iopub.status.idle": "2021-11-25T03:21:16.844229Z",
     "shell.execute_reply": "2021-11-25T03:21:16.844658Z",
     "shell.execute_reply.started": "2021-11-25T02:33:05.964238Z"
    },
    "papermill": {
     "duration": 2.567255,
     "end_time": "2021-11-25T03:21:16.844818",
     "exception": false,
     "start_time": "2021-11-25T03:21:14.277563",
     "status": "completed"
    },
    "tags": []
   },
   "outputs": [
    {
     "data": {
      "text/plain": [
       "(8400, 10)"
      ]
     },
     "execution_count": 105,
     "metadata": {},
     "output_type": "execute_result"
    }
   ],
   "source": [
    "preds.shape"
   ]
  },
  {
   "cell_type": "code",
   "execution_count": 106,
   "id": "54e7bba4",
   "metadata": {
    "execution": {
     "iopub.execute_input": "2021-11-25T03:21:22.064992Z",
     "iopub.status.busy": "2021-11-25T03:21:22.063844Z",
     "iopub.status.idle": "2021-11-25T03:21:22.070102Z",
     "shell.execute_reply": "2021-11-25T03:21:22.070575Z",
     "shell.execute_reply.started": "2021-11-25T02:33:08.379778Z"
    },
    "papermill": {
     "duration": 2.573074,
     "end_time": "2021-11-25T03:21:22.070744",
     "exception": false,
     "start_time": "2021-11-25T03:21:19.497670",
     "status": "completed"
    },
    "tags": []
   },
   "outputs": [
    {
     "data": {
      "text/plain": [
       "array([5, 0, 2, ..., 8, 7, 9])"
      ]
     },
     "execution_count": 106,
     "metadata": {},
     "output_type": "execute_result"
    }
   ],
   "source": [
    "preds = np.argmax(preds , axis = 1)\n",
    "preds"
   ]
  },
  {
   "cell_type": "code",
   "execution_count": 107,
   "id": "4e66fd7c",
   "metadata": {
    "execution": {
     "iopub.execute_input": "2021-11-25T03:21:27.280021Z",
     "iopub.status.busy": "2021-11-25T03:21:27.279114Z",
     "iopub.status.idle": "2021-11-25T03:21:27.284036Z",
     "shell.execute_reply": "2021-11-25T03:21:27.284561Z",
     "shell.execute_reply.started": "2021-11-25T02:33:09.700846Z"
    },
    "papermill": {
     "duration": 2.585935,
     "end_time": "2021-11-25T03:21:27.284722",
     "exception": false,
     "start_time": "2021-11-25T03:21:24.698787",
     "status": "completed"
    },
    "tags": []
   },
   "outputs": [
    {
     "data": {
      "text/plain": [
       "(8400,)"
      ]
     },
     "execution_count": 107,
     "metadata": {},
     "output_type": "execute_result"
    }
   ],
   "source": [
    "preds.shape"
   ]
  },
  {
   "cell_type": "code",
   "execution_count": 108,
   "id": "23840f87",
   "metadata": {
    "execution": {
     "iopub.execute_input": "2021-11-25T03:21:32.499532Z",
     "iopub.status.busy": "2021-11-25T03:21:32.498577Z",
     "iopub.status.idle": "2021-11-25T03:21:32.504193Z",
     "shell.execute_reply": "2021-11-25T03:21:32.504730Z",
     "shell.execute_reply.started": "2021-11-25T02:34:26.563455Z"
    },
    "papermill": {
     "duration": 2.567277,
     "end_time": "2021-11-25T03:21:32.504912",
     "exception": false,
     "start_time": "2021-11-25T03:21:29.937635",
     "status": "completed"
    },
    "tags": []
   },
   "outputs": [
    {
     "data": {
      "text/plain": [
       "array([5, 0, 2, ..., 8, 7, 9])"
      ]
     },
     "execution_count": 108,
     "metadata": {},
     "output_type": "execute_result"
    }
   ],
   "source": [
    "y_test = np.argmax(y_test , axis = 1)\n",
    "y_test"
   ]
  },
  {
   "cell_type": "code",
   "execution_count": 109,
   "id": "2a5e24ea",
   "metadata": {
    "execution": {
     "iopub.execute_input": "2021-11-25T03:21:37.755610Z",
     "iopub.status.busy": "2021-11-25T03:21:37.754626Z",
     "iopub.status.idle": "2021-11-25T03:21:37.778501Z",
     "shell.execute_reply": "2021-11-25T03:21:37.778953Z",
     "shell.execute_reply.started": "2021-11-25T02:34:29.702457Z"
    },
    "papermill": {
     "duration": 2.642947,
     "end_time": "2021-11-25T03:21:37.779130",
     "exception": false,
     "start_time": "2021-11-25T03:21:35.136183",
     "status": "completed"
    },
    "tags": []
   },
   "outputs": [
    {
     "name": "stdout",
     "output_type": "stream",
     "text": [
      "              precision    recall  f1-score   support\n",
      "\n",
      "           0       1.00      1.00      1.00       845\n",
      "           1       1.00      0.98      0.99       920\n",
      "           2       0.97      0.99      0.98       801\n",
      "           3       1.00      0.98      0.99       823\n",
      "           4       0.98      0.98      0.98       795\n",
      "           5       0.99      0.99      0.99       807\n",
      "           6       0.99      0.99      0.99       840\n",
      "           7       0.98      0.99      0.98       869\n",
      "           8       0.98      0.99      0.98       843\n",
      "           9       0.98      0.98      0.98       857\n",
      "\n",
      "    accuracy                           0.99      8400\n",
      "   macro avg       0.99      0.99      0.99      8400\n",
      "weighted avg       0.99      0.99      0.99      8400\n",
      "\n"
     ]
    }
   ],
   "source": [
    "print(classification_report(y_test, preds))"
   ]
  },
  {
   "cell_type": "code",
   "execution_count": 110,
   "id": "85fda8ca",
   "metadata": {
    "execution": {
     "iopub.execute_input": "2021-11-25T03:21:43.025282Z",
     "iopub.status.busy": "2021-11-25T03:21:43.024350Z",
     "iopub.status.idle": "2021-11-25T03:21:45.392691Z",
     "shell.execute_reply": "2021-11-25T03:21:45.392221Z",
     "shell.execute_reply.started": "2021-11-25T02:35:03.367914Z"
    },
    "papermill": {
     "duration": 4.999459,
     "end_time": "2021-11-25T03:21:45.392831",
     "exception": false,
     "start_time": "2021-11-25T03:21:40.393372",
     "status": "completed"
    },
    "tags": []
   },
   "outputs": [
    {
     "data": {
      "text/plain": [
       "array([[2.5193083e-05, 1.1309718e-05, 9.9951613e-01, ..., 2.8315162e-05,\n",
       "        5.3871325e-05, 7.1808495e-06],\n",
       "       [9.9962056e-01, 2.0896002e-06, 1.2859560e-05, ..., 3.8678823e-07,\n",
       "        9.9116056e-05, 1.0221129e-05],\n",
       "       [1.2896892e-06, 1.2322166e-06, 2.1418241e-06, ..., 2.3889957e-05,\n",
       "        8.1481575e-04, 9.9871266e-01],\n",
       "       ...,\n",
       "       [1.2550701e-05, 2.3497492e-05, 4.9193145e-06, ..., 3.2840810e-06,\n",
       "        1.1935400e-06, 9.5715870e-07],\n",
       "       [1.0760879e-05, 1.4713493e-06, 1.7545974e-06, ..., 6.6694447e-05,\n",
       "        4.2168249e-05, 9.9932504e-01],\n",
       "       [5.8546728e-05, 2.0304127e-05, 9.9934906e-01, ..., 6.8056994e-05,\n",
       "        2.2759581e-04, 5.2737551e-06]], dtype=float32)"
      ]
     },
     "execution_count": 110,
     "metadata": {},
     "output_type": "execute_result"
    }
   ],
   "source": [
    "test_preds = model.predict(test_data)\n",
    "test_preds"
   ]
  },
  {
   "cell_type": "code",
   "execution_count": 111,
   "id": "20bf1bf3",
   "metadata": {
    "execution": {
     "iopub.execute_input": "2021-11-25T03:21:50.628720Z",
     "iopub.status.busy": "2021-11-25T03:21:50.628114Z",
     "iopub.status.idle": "2021-11-25T03:21:50.630478Z",
     "shell.execute_reply": "2021-11-25T03:21:50.631071Z",
     "shell.execute_reply.started": "2021-11-25T02:35:05.744414Z"
    },
    "papermill": {
     "duration": 2.668582,
     "end_time": "2021-11-25T03:21:50.631238",
     "exception": false,
     "start_time": "2021-11-25T03:21:47.962656",
     "status": "completed"
    },
    "tags": []
   },
   "outputs": [
    {
     "data": {
      "text/plain": [
       "(28000, 10)"
      ]
     },
     "execution_count": 111,
     "metadata": {},
     "output_type": "execute_result"
    }
   ],
   "source": [
    "test_preds.shape"
   ]
  },
  {
   "cell_type": "code",
   "execution_count": 112,
   "id": "221eff5b",
   "metadata": {
    "execution": {
     "iopub.execute_input": "2021-11-25T03:21:55.841053Z",
     "iopub.status.busy": "2021-11-25T03:21:55.840354Z",
     "iopub.status.idle": "2021-11-25T03:21:55.845682Z",
     "shell.execute_reply": "2021-11-25T03:21:55.846144Z",
     "shell.execute_reply.started": "2021-11-25T02:35:06.594444Z"
    },
    "papermill": {
     "duration": 2.633179,
     "end_time": "2021-11-25T03:21:55.846323",
     "exception": false,
     "start_time": "2021-11-25T03:21:53.213144",
     "status": "completed"
    },
    "tags": []
   },
   "outputs": [
    {
     "data": {
      "text/plain": [
       "array([2, 0, 9, ..., 3, 9, 2])"
      ]
     },
     "execution_count": 112,
     "metadata": {},
     "output_type": "execute_result"
    }
   ],
   "source": [
    "preds = np.argmax(test_preds , axis = 1)\n",
    "test_image_id = range( 1 , len(preds)+1 )\n",
    "preds"
   ]
  },
  {
   "cell_type": "code",
   "execution_count": 113,
   "id": "751f58a9",
   "metadata": {
    "execution": {
     "iopub.execute_input": "2021-11-25T03:22:01.038252Z",
     "iopub.status.busy": "2021-11-25T03:22:01.037266Z",
     "iopub.status.idle": "2021-11-25T03:22:01.042232Z",
     "shell.execute_reply": "2021-11-25T03:22:01.042725Z",
     "shell.execute_reply.started": "2021-11-25T02:35:08.048566Z"
    },
    "papermill": {
     "duration": 2.634511,
     "end_time": "2021-11-25T03:22:01.042912",
     "exception": false,
     "start_time": "2021-11-25T03:21:58.408401",
     "status": "completed"
    },
    "tags": []
   },
   "outputs": [
    {
     "data": {
      "text/plain": [
       "28000"
      ]
     },
     "execution_count": 113,
     "metadata": {},
     "output_type": "execute_result"
    }
   ],
   "source": [
    "len(test_image_id)"
   ]
  },
  {
   "cell_type": "code",
   "execution_count": 114,
   "id": "f65a0066",
   "metadata": {
    "execution": {
     "iopub.execute_input": "2021-11-25T03:22:06.366129Z",
     "iopub.status.busy": "2021-11-25T03:22:06.365254Z",
     "iopub.status.idle": "2021-11-25T03:22:06.368097Z",
     "shell.execute_reply": "2021-11-25T03:22:06.367459Z",
     "shell.execute_reply.started": "2021-11-25T02:35:10.148135Z"
    },
    "papermill": {
     "duration": 2.738004,
     "end_time": "2021-11-25T03:22:06.368382",
     "exception": false,
     "start_time": "2021-11-25T03:22:03.630378",
     "status": "completed"
    },
    "tags": []
   },
   "outputs": [],
   "source": [
    "submit_df = {\"ImageId\" : test_image_id , \"Label\" : preds }\n",
    "submit_df = pd.DataFrame(submit_df)"
   ]
  },
  {
   "cell_type": "code",
   "execution_count": 115,
   "id": "4e3a11bd",
   "metadata": {
    "execution": {
     "iopub.execute_input": "2021-11-25T03:22:11.778295Z",
     "iopub.status.busy": "2021-11-25T03:22:11.777323Z",
     "iopub.status.idle": "2021-11-25T03:22:11.785250Z",
     "shell.execute_reply": "2021-11-25T03:22:11.785683Z",
     "shell.execute_reply.started": "2021-11-25T02:35:10.856941Z"
    },
    "papermill": {
     "duration": 2.692502,
     "end_time": "2021-11-25T03:22:11.785845",
     "exception": false,
     "start_time": "2021-11-25T03:22:09.093343",
     "status": "completed"
    },
    "tags": []
   },
   "outputs": [
    {
     "data": {
      "text/html": [
       "<div>\n",
       "<style scoped>\n",
       "    .dataframe tbody tr th:only-of-type {\n",
       "        vertical-align: middle;\n",
       "    }\n",
       "\n",
       "    .dataframe tbody tr th {\n",
       "        vertical-align: top;\n",
       "    }\n",
       "\n",
       "    .dataframe thead th {\n",
       "        text-align: right;\n",
       "    }\n",
       "</style>\n",
       "<table border=\"1\" class=\"dataframe\">\n",
       "  <thead>\n",
       "    <tr style=\"text-align: right;\">\n",
       "      <th></th>\n",
       "      <th>ImageId</th>\n",
       "      <th>Label</th>\n",
       "    </tr>\n",
       "  </thead>\n",
       "  <tbody>\n",
       "    <tr>\n",
       "      <th>0</th>\n",
       "      <td>1</td>\n",
       "      <td>2</td>\n",
       "    </tr>\n",
       "    <tr>\n",
       "      <th>1</th>\n",
       "      <td>2</td>\n",
       "      <td>0</td>\n",
       "    </tr>\n",
       "    <tr>\n",
       "      <th>2</th>\n",
       "      <td>3</td>\n",
       "      <td>9</td>\n",
       "    </tr>\n",
       "    <tr>\n",
       "      <th>3</th>\n",
       "      <td>4</td>\n",
       "      <td>0</td>\n",
       "    </tr>\n",
       "    <tr>\n",
       "      <th>4</th>\n",
       "      <td>5</td>\n",
       "      <td>3</td>\n",
       "    </tr>\n",
       "    <tr>\n",
       "      <th>...</th>\n",
       "      <td>...</td>\n",
       "      <td>...</td>\n",
       "    </tr>\n",
       "    <tr>\n",
       "      <th>27995</th>\n",
       "      <td>27996</td>\n",
       "      <td>9</td>\n",
       "    </tr>\n",
       "    <tr>\n",
       "      <th>27996</th>\n",
       "      <td>27997</td>\n",
       "      <td>7</td>\n",
       "    </tr>\n",
       "    <tr>\n",
       "      <th>27997</th>\n",
       "      <td>27998</td>\n",
       "      <td>3</td>\n",
       "    </tr>\n",
       "    <tr>\n",
       "      <th>27998</th>\n",
       "      <td>27999</td>\n",
       "      <td>9</td>\n",
       "    </tr>\n",
       "    <tr>\n",
       "      <th>27999</th>\n",
       "      <td>28000</td>\n",
       "      <td>2</td>\n",
       "    </tr>\n",
       "  </tbody>\n",
       "</table>\n",
       "<p>28000 rows × 2 columns</p>\n",
       "</div>"
      ],
      "text/plain": [
       "       ImageId  Label\n",
       "0            1      2\n",
       "1            2      0\n",
       "2            3      9\n",
       "3            4      0\n",
       "4            5      3\n",
       "...        ...    ...\n",
       "27995    27996      9\n",
       "27996    27997      7\n",
       "27997    27998      3\n",
       "27998    27999      9\n",
       "27999    28000      2\n",
       "\n",
       "[28000 rows x 2 columns]"
      ]
     },
     "execution_count": 115,
     "metadata": {},
     "output_type": "execute_result"
    }
   ],
   "source": [
    "submit_df"
   ]
  },
  {
   "cell_type": "code",
   "execution_count": 116,
   "id": "cdf2b952",
   "metadata": {
    "execution": {
     "iopub.execute_input": "2021-11-25T03:22:16.981665Z",
     "iopub.status.busy": "2021-11-25T03:22:16.980724Z",
     "iopub.status.idle": "2021-11-25T03:22:17.015223Z",
     "shell.execute_reply": "2021-11-25T03:22:17.015819Z",
     "shell.execute_reply.started": "2021-11-25T02:35:25.292229Z"
    },
    "papermill": {
     "duration": 2.649341,
     "end_time": "2021-11-25T03:22:17.016047",
     "exception": false,
     "start_time": "2021-11-25T03:22:14.366706",
     "status": "completed"
    },
    "tags": []
   },
   "outputs": [],
   "source": [
    "submit_df.to_csv('submission.csv',index=False) # 0.98607"
   ]
  },
  {
   "cell_type": "markdown",
   "id": "e1015a8c",
   "metadata": {
    "papermill": {
     "duration": 2.621157,
     "end_time": "2021-11-25T03:22:22.221459",
     "exception": false,
     "start_time": "2021-11-25T03:22:19.600302",
     "status": "completed"
    },
    "tags": []
   },
   "source": [
    "#### Reading refrence .... Hyperoptimization Udemy"
   ]
  },
  {
   "cell_type": "code",
   "execution_count": null,
   "id": "4281e918",
   "metadata": {
    "papermill": {
     "duration": 2.620284,
     "end_time": "2021-11-25T03:22:27.427051",
     "exception": false,
     "start_time": "2021-11-25T03:22:24.806767",
     "status": "completed"
    },
    "tags": []
   },
   "outputs": [],
   "source": []
  }
 ],
 "metadata": {
  "kernelspec": {
   "display_name": "Python 3",
   "language": "python",
   "name": "python3"
  },
  "language_info": {
   "codemirror_mode": {
    "name": "ipython",
    "version": 3
   },
   "file_extension": ".py",
   "mimetype": "text/x-python",
   "name": "python",
   "nbconvert_exporter": "python",
   "pygments_lexer": "ipython3",
   "version": "3.7.10"
  },
  "papermill": {
   "default_parameters": {},
   "duration": 1109.125225,
   "end_time": "2021-11-25T03:22:33.166476",
   "environment_variables": {},
   "exception": null,
   "input_path": "__notebook__.ipynb",
   "output_path": "__notebook__.ipynb",
   "parameters": {},
   "start_time": "2021-11-25T03:04:04.041251",
   "version": "2.3.3"
  }
 },
 "nbformat": 4,
 "nbformat_minor": 5
}
